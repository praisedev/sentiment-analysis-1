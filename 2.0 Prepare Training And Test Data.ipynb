{
 "cells": [
  {
   "cell_type": "markdown",
   "metadata": {},
   "source": [
    "<br>\n",
    "\n",
    "# Prepare Training And Test Data\n",
    "\n",
    "In the previous notebook, a dataset was curated and cleaned.  The dataset will be used in this notebook to explore and gather more insight in order to create and prepare the training and test data that will be used in the subsequent 'Jupyter' notebook to run our first model.\n",
    "\n",
    "<br>"
   ]
  },
  {
   "cell_type": "code",
   "execution_count": 48,
   "metadata": {},
   "outputs": [],
   "source": [
    "import json\n",
    "import math\n",
    "import matplotlib\n",
    "import matplotlib.pyplot as plt\n",
    "import numpy as np\n",
    "import pandas as pd\n",
    "import seaborn as sns\n",
    "\n",
    "# 3rd-part library for managing imbalanced data.\n",
    "from imblearn.under_sampling import RandomUnderSampler\n",
    "\n",
    "from IPython.core.interactiveshell import InteractiveShell"
   ]
  },
  {
   "cell_type": "code",
   "execution_count": 3,
   "metadata": {},
   "outputs": [],
   "source": [
    "%matplotlib inline\n",
    "\n",
    "# Set dataframe options to keep long data in columns from being truncated with ellipsis (...)\n",
    "pd.set_option('max_colwidth', None)\n",
    "\n",
    "# Set dataframe options to force display max columns\n",
    "pd.set_option('display.max_columns', 90)\n",
    "pd.set_option('display.max_rows', 90)\n",
    "\n",
    "InteractiveShell.ast_node_interactivity = \"all\""
   ]
  },
  {
   "cell_type": "markdown",
   "metadata": {},
   "source": [
    "Helper functions used throughout this notebook."
   ]
  },
  {
   "cell_type": "code",
   "execution_count": 4,
   "metadata": {},
   "outputs": [],
   "source": [
    "def create_dataframe(file_path):\n",
    "    '''\n",
    "    Create a pandas dataframe from a JSON file indicated by the parameter file_path\n",
    "    '''\n",
    "    with open(file_path, encoding=\"utf8\") as f:\n",
    "        data = [json.loads(jsonObj) for jsonObj in f]\n",
    "        \n",
    "    return pd.DataFrame(data)\n",
    "\n",
    "\n",
    "def df_info(df):\n",
    "    '''\n",
    "    A helper function - similar in functionality with `df.info()` but includes combined features: df.columns, df.dtypes, \n",
    "    df.isnull(), df.info(), df.nunique()\n",
    "    '''\n",
    "    print('\\nShape : {}'.format(df.shape))\n",
    "    print('Number of duplicates : {}\\n'.format(df.duplicated().sum()))\n",
    "\n",
    "    print('{:^35} {:^12} {:^12} {:^8} {:>10}\\n'.format('COLUMNS', 'DATA TYPE', 'HAS NULL', 'COUNTS', '# UNIQUE'))\n",
    "    for i, v in enumerate(df.columns):\n",
    "        col = df[v]\n",
    "        dtype = type(col.iloc[0]).__name__\n",
    "        \n",
    "        if dtype=='dict':\n",
    "            keys = set([item for val in col.values if val is not None for item in list(val.keys())])\n",
    "            col_nunique = len(keys)\n",
    "        else:\n",
    "            col_nunique = col.nunique()\n",
    "        \n",
    "        print(' {:>2}.  {:<30} {:<12} {:^10} {:>8} {:>10}'.format(i+1, v, dtype, \\\n",
    "                                                                  str(col.isnull().any()), col.count(), \\\n",
    "                                                                  col_nunique))    # col.nunique()"
   ]
  },
  {
   "cell_type": "code",
   "execution_count": 5,
   "metadata": {},
   "outputs": [
    {
     "name": "stdout",
     "output_type": "stream",
     "text": [
      "\n",
      "Shape : (4719873, 2)\n",
      "Number of duplicates : 0\n",
      "\n",
      "              COLUMNS                DATA TYPE     HAS NULL    COUNTS    # UNIQUE\n",
      "\n",
      "  1.  text                           str            False     4719873    4719873\n",
      "  2.  sentiment                      int64          False     4719873          3\n"
     ]
    }
   ],
   "source": [
    "reviews_dataset = pd.read_csv('../yelp_dataset/reviews_dataset.csv')\n",
    "df_info(reviews_dataset)"
   ]
  },
  {
   "cell_type": "markdown",
   "metadata": {},
   "source": [
    "### Imbalanced Data\n",
    "\n",
    "In the previous notebook, an imbalanced number of sentiments was observed."
   ]
  },
  {
   "cell_type": "code",
   "execution_count": 6,
   "metadata": {},
   "outputs": [
    {
     "data": {
      "image/png": "[encoded data removed]",
      "text/plain": [
       "<Figure size 360x172.8 with 1 Axes>"
      ]
     },
     "metadata": {},
     "output_type": "display_data"
    }
   ],
   "source": [
    "sns.set(style=\"white\")\n",
    "params = {'axes.spines.top':False, 'axes.spines.right': False, 'axes.spines.left': False, \n",
    "          'axes.labelsize' : 9, 'xtick.labelsize' : 8, 'ytick.labelsize' : 8}\n",
    "matplotlib.rcParams.update(params)\n",
    "fig = plt.figure(constrained_layout=True, figsize=(5, 2.4))\n",
    "ax = fig.gca()\n",
    "sns.countplot(reviews_dataset.sentiment, ax=ax)\n",
    "\n",
    "counts=reviews_dataset.groupby('sentiment').count().text\n",
    "for i, txt in enumerate(ax.get_xticklabels()):\n",
    "    count = counts[int(txt.get_text())]\n",
    "    ax.text(i-.15, count+100000, '{}'.format(count), fontdict={'fontsize': 9}, c='r')\n",
    "\n",
    "ax.set_xlabel('\\nSentiments')\n",
    "ax.yaxis.set_visible(False)\n",
    "fig.suptitle('\\nDistribution of Sentiments', y=1.42, fontsize=10);\n",
    "ax.set_xticklabels(labels=[lbl.get_text().title() for lbl in ax.get_xticklabels()]);"
   ]
  },
  {
   "cell_type": "markdown",
   "metadata": {},
   "source": [
    "> Having an imbalanced data impacts the model so its important to balance the data that will be used to train the model.\n",
    "\n",
    "There are 2 ways to approach this:\n",
    "\n",
    "`1.` Under-sample (reduce) the dataset so that the negative, neutral, and positive sentiments have an equal number of instances.  Since the least number of sentiment is neutral with `570,889` instances, this would mean reducing the dataset from `4,719,873` down to `1,712,667` (`570,889` x 3).  \n",
    "\n",
    "`2.` Keep the imbalance but assign appropriate class weights during `model.fit` so that the negative and neutral sentiments will be treated equally with the positive sentiments.  This way no data is discarded however the disadvantage of doing this is that a much substantial amount of data will be used for training, approximately `3,303,911` instances (70% of the dataset) which would slow down the training time and as a result may limit the number of epochs for training.\n",
    "\n",
    "These two options will be tried and result will be observed."
   ]
  },
  {
   "cell_type": "code",
   "execution_count": 23,
   "metadata": {},
   "outputs": [],
   "source": [
    "# RandomUnderSampler is used from the imblearn using the sampling-strategy auto\n",
    "rus = RandomUnderSampler(sampling_strategy='auto')\n",
    "\n",
    "X = reviews_dataset[['text']]\n",
    "y = reviews_dataset['sentiment']\n",
    "\n",
    "X_rus, y_rus = rus.fit_resample(X, y)"
   ]
  },
  {
   "cell_type": "code",
   "execution_count": 32,
   "metadata": {},
   "outputs": [
    {
     "data": {
      "image/png": "[encoded data removed]",
      "text/plain": [
       "<Figure size 360x172.8 with 1 Axes>"
      ]
     },
     "metadata": {},
     "output_type": "display_data"
    }
   ],
   "source": [
    "sns.set(style=\"white\")\n",
    "params = {'axes.spines.top':False, 'axes.spines.right': False, 'axes.spines.left': False, \n",
    "          'axes.labelsize' : 9, 'xtick.labelsize' : 8, 'ytick.labelsize' : 8}\n",
    "matplotlib.rcParams.update(params)\n",
    "fig = plt.figure(constrained_layout=True, figsize=(5, 2.4))\n",
    "ax = fig.gca()\n",
    "sns.countplot(y_rus, ax=ax)\n",
    "counts=y_rus.groupby(y_rus).count()\n",
    "for i, txt in enumerate(ax.get_xticklabels()):\n",
    "    count = counts[int(txt.get_text())]\n",
    "    ax.text(i-.15, count+100000, '{}'.format(count), fontdict={'fontsize': 9}, c='r')\n",
    "\n",
    "ax.set_xlabel('\\nSentiments')\n",
    "ax.yaxis.set_visible(False)\n",
    "fig.suptitle('\\nDistribution of Sentiments', y=1.42, fontsize=10);\n",
    "ax.set_xticklabels(labels=[lbl.get_text().title() for lbl in ax.get_xticklabels()]);"
   ]
  },
  {
   "cell_type": "code",
   "execution_count": null,
   "metadata": {},
   "outputs": [],
   "source": []
  },
  {
   "cell_type": "code",
   "execution_count": 49,
   "metadata": {},
   "outputs": [
    {
     "name": "stdout",
     "output_type": "stream",
     "text": [
      "\n",
      "Statistically accepted boundary for outliers : 300\n",
      "\n"
     ]
    }
   ],
   "source": [
    "review_lengths = [len(x[0].split()) for x in X_rus.values]\n",
    "\n",
    "# plot lenghts of reviews\n",
    "x=pd.Series(np.array(review_lengths))\n",
    "\n",
    "# IQR\n",
    "IQR = x.describe()['75%'] - x.describe()['25%']\n",
    "\n",
    "# IQR multiplier to set the whisker/boundary for outliers (default is 1.5)\n",
    "IQR_multiplier = 1.5\n",
    "\n",
    "# Defining threshold as the 3rd Quartile + (IQR * IQR_multiplier)\n",
    "outlier_threshold = math.floor(x.describe()['75%'] + (IQR*IQR_multiplier))\n",
    "\n",
    "print('\\nStatistically accepted boundary for outliers : {}\\n'.format(outlier_threshold))"
   ]
  },
  {
   "cell_type": "code",
   "execution_count": 56,
   "metadata": {},
   "outputs": [
    {
     "data": {
      "image/png": "[encoded data removed]",
      "text/plain": [
       "<Figure size 504x360 with 2 Axes>"
      ]
     },
     "metadata": {},
     "output_type": "display_data"
    }
   ],
   "source": [
    "params = {'axes.titlesize':'9', 'xtick.labelsize':'8', 'ytick.labelsize':'8', 'axes.spines.top':False,\n",
    "          'axes.spines.right': False}\n",
    "matplotlib.rcParams.update(params)\n",
    "fig, (ax_hist, ax_box) = plt.subplots(2, sharex=True, gridspec_kw={\"height_ratios\": (.8, .15)})\n",
    "tmp = ax_hist.set_title('\\nDistribution of Review Lengths\\n', fontdict={'fontsize': 12});\n",
    "tmp = ax_hist.set_ylabel('\\nNumber Of Instances\\n\\n', fontdict={'fontsize': 9})\n",
    "ax_hist.tick_params(bottom=\"off\", length=0)\n",
    "tmp = ax_hist.axvline(x=outlier_threshold, c='r', linestyle='--', linewidth=1)\n",
    "text = ' Statistically accepted boundary for outliers given this dataset : {}\\n'\n",
    "tmp = ax_hist.annotate(text.format(int(outlier_threshold)), (outlier_threshold+1, x.count()/10), fontsize=9, color='brown')\n",
    "ax_box.spines['left'].set_visible(False)\n",
    "ax_box.yaxis.set_visible(False)\n",
    "\n",
    "res = x.hist(figsize=(7, 5), color='lightgray', grid=False, ax=ax_hist, bins=50)\n",
    "\n",
    "for idx, rec in enumerate(res.patches):\n",
    "    if rec.xy[0] > outlier_threshold-1:\n",
    "        res.patches[idx].set_fc('brown')  \n",
    "bx = sns.boxplot(x, ax=ax_box, fliersize=3, color='lightgray', linewidth=.5, whis=IQR_multiplier)\n",
    "tmp = ax_box.set_xlabel('\\nLength of Reviews', fontdict={'fontsize': 9})\n",
    "#plt.tight_layout();\n"
   ]
  },
  {
   "cell_type": "code",
   "execution_count": 132,
   "metadata": {},
   "outputs": [],
   "source": [
    "short_reviews = []\n",
    "for r in X_rus.iterrows():\n",
    "    \n",
    "    if len(r[1][0].split()) > 1000:\n",
    "        short_reviews.append(r[1][0])"
   ]
  },
  {
   "cell_type": "code",
   "execution_count": 133,
   "metadata": {},
   "outputs": [
    {
     "name": "stdout",
     "output_type": "stream",
     "text": [
      "16\n"
     ]
    }
   ],
   "source": [
    "print(len(short_reviews))\n",
    "sr = pd.Series(short_reviews)"
   ]
  },
  {
   "cell_type": "code",
   "execution_count": 140,
   "metadata": {},
   "outputs": [
    {
     "data": {
      "text/plain": [
       "9    If I could give this place no stars I would, from the initial time of entering into the hotel your overwhelmed with a mixture of smells - crazy strong perfume they must pump into the vents to cover up the smell of rotten eggs and sewage- this is NOT the ideal place for an asthmatic! Never had a problem the hotels in vegas even though there is smoking in there. Up until this point it's me just walking in, then waited in line to get to the front and ended up having to wait for a the girl to get a manager because she had no clue what she was doing on the other end of the computer. After the manager came he told us there is a 300$ fee put on my card for a security deposit ($100 a night)  after that we headed up to our room after traveling and being exhausted but yet ecstatic to be in vegas away from the cold in Chicago - we walk into this room which is extremely comparable to a hostel. The room was the ugly yellow color tile with mirrors hiding the toilet and the shower. The bed is placed in the middle of the room. Leaving no room for anything. The bed had a plastic piece as a  head board which looked so dirty - hand prints, black spots, and some very suspicious stains near the head of the bed .. -_- I already like a clean room when I'm paying for it and at the size and the filth of the room I couldn't believe what we just walked into... Reluctantly I plopped on the bed to just pick my feet up and look up there is a mirror on the still under construction looking ceiling- which I will include pictures of... My boyfriend knew I was not happy with this and after bringing this all to his attention he wasn't happy with it at all .. We immediately called Excalibur because we stayed there last year same time (Valentines Day) and loved it! So he calls and we where about to pack up to get ready to go there instead, the manager tells my boyfriend he will upgrade us to a suite at the same rate.. I told my boyfriend ok we can check it out- I didn't feel like traveling any more than I had to , so as we gather our belongings to head to the new room I see a bell man, and ask if I could use the cart to make the transferring of rooms easier - he said no I'm not allowed to let u do that. Okayy this is strike 3 for me but I'm forgiving and we get the key to the upgraded room, yes the room is beautiful and spacious- the carpets should have been cleaned the floor was sticky . But I brushed it off.. I'm just done at this point ... The weather had been nice when we came into town and we where really looking forward to jumping in the pool.. I had my boyfriend call down stairs to see if the pool was open and they had told us no because it's not the season... They didn't even give an option to go to another pool or anything.  After this we had decided to just relax and go to the casino play a little roulette. The waitresses are pushy about tips, the area is just so over rated and probably had to up charge everything because this is NOT ON THE STRIP- also I noticed a lot of transgender and gays in this hotel, seems like they are catering to the gay, LGBT client.. I have no problem with this but some might, so if your going to this hotel and that's not your flavor just a heads up! \\nAlso for the room there is a 25$ charge for just opening the mini fridge make sure u don't use it not even for personal use! I get that it's vegas and they charge for everything as every place does but never once have I herd of a fee for opening the fridge ..  All in all their service at this place was horrible the people have no clue what they are doing as at as the front desk workers, they are rude and snooty. In all honesty the surrounding area is all under construction and being developed when ur not woken up by Maids knocking on the door even though you have \"Do Not Disturb\" sign on the door your woken up by the construction going on around you. The strip is not too far when taking an uber, but not anywhere near you so you can't even walk to the strip of you wanted to.. Last day there we where trying to rent a car and surprise surprise they didn't even have that! When being charge resort fees when there aren't resort amenities is absolutely ridiculous. If your used to a quality room don't plan your trip to this place!  I love vegas and the vibes but this place is definitely on my shit list of worst hotel I've ever stayed at. I never write review but this one I couldn't pass up in hopes of helping the next couple/ persons/ anyone looking to enjoy themselves to have this place ruin our trip.. I feel like there is so much more but you get the point. I forgot to mention our room key didn't work half way through our trip and had to go get it done again to get up to the room, after we got it reissued we went to the room and once again the keys didn't work.. Had to go back downstairs and get it done again then back up to the room.. This place really made my stay the wort time I've ever had in vegas .. It's the first time I can honestly say I can't wait to go home\n",
       "dtype: object"
      ]
     },
     "execution_count": 140,
     "metadata": {},
     "output_type": "execute_result"
    }
   ],
   "source": [
    "sr.sample(1)"
   ]
  },
  {
   "cell_type": "code",
   "execution_count": null,
   "metadata": {},
   "outputs": [],
   "source": []
  }
 ],
 "metadata": {
  "kernelspec": {
   "display_name": "Python 3",
   "language": "python",
   "name": "python3"
  },
  "language_info": {
   "codemirror_mode": {
    "name": "ipython",
    "version": 3
   },
   "file_extension": ".py",
   "mimetype": "text/x-python",
   "name": "python",
   "nbconvert_exporter": "python",
   "pygments_lexer": "ipython3",
   "version": "3.7.9"
  }
 },
 "nbformat": 4,
 "nbformat_minor": 4
}
