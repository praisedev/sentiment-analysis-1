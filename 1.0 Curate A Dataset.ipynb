{
 "cells": [
  {
   "cell_type": "markdown",
   "metadata": {},
   "source": [
    "<br>\n",
    "\n",
    "# Curate A Dataset\n",
    "\n",
    "<br>"
   ]
  },
  {
   "cell_type": "code",
   "execution_count": 1,
   "metadata": {},
   "outputs": [],
   "source": [
    "import datetime\n",
    "import json\n",
    "import math\n",
    "import matplotlib\n",
    "import matplotlib.pyplot as plt\n",
    "import numpy as np\n",
    "import pandas as pd\n",
    "import seaborn as sns\n",
    "import tensorflow as tf\n",
    "import time\n",
    "\n",
    "from datetime import timedelta\n",
    "# 3rd-part library for managing imbalanced data.\n",
    "from imblearn.under_sampling import RandomUnderSampler\n",
    "from IPython.core.interactiveshell import InteractiveShell\n",
    "\n",
    "from sklearn.model_selection import RandomizedSearchCV, train_test_split\n",
    "from tensorflow.keras.layers import Input, Dense, Embedding, Flatten, MaxPooling1D, BatchNormalization, Conv1D, GRU, LSTM\n",
    "from tensorflow.keras.models import Model\n",
    "from tensorflow.keras.optimizers import SGD, Adam, RMSprop\n",
    "from tensorflow.keras.preprocessing.sequence import pad_sequences\n",
    "from tensorflow.keras.preprocessing.text import Tokenizer\n",
    "from tensorflow.keras.wrappers.scikit_learn import KerasClassifier"
   ]
  },
  {
   "cell_type": "code",
   "execution_count": 49,
   "metadata": {},
   "outputs": [],
   "source": [
    "%matplotlib inline\n",
    "\n",
    "# Set dataframe options to keep long data in columns from being truncated with ellipsis (...)\n",
    "pd.set_option('max_colwidth', None)\n",
    "\n",
    "# Set dataframe options to force display max columns\n",
    "pd.set_option('display.max_columns', 90)\n",
    "pd.set_option('display.max_rows', 90)\n",
    "\n",
    "InteractiveShell.ast_node_interactivity = \"all\""
   ]
  },
  {
   "cell_type": "markdown",
   "metadata": {},
   "source": [
    "Helper functions that is used throughout this notebook.  "
   ]
  },
  {
   "cell_type": "code",
   "execution_count": 5,
   "metadata": {},
   "outputs": [],
   "source": [
    "def create_dataframe(file_path):\n",
    "    '''\n",
    "    Create a pandas dataframe from a JSON file indicated by the parameter file_path\n",
    "    '''\n",
    "    with open(file_path, encoding=\"utf8\") as f:\n",
    "        data = [json.loads(jsonObj) for jsonObj in f]\n",
    "        \n",
    "    return pd.DataFrame(data)\n",
    "\n",
    "\n",
    "def df_info(df):\n",
    "    '''\n",
    "    A helper function - similar in functionality with `df.info()` but includes combined features: df.columns, df.dtypes, \n",
    "    df.isnull(), df.info(), df.nunique()\n",
    "    '''\n",
    "    print('\\nShape : {}'.format(df.shape))\n",
    "    print('Number of duplicates : {}\\n'.format(df.duplicated().sum()))\n",
    "\n",
    "    print('{:^35} {:^12} {:^12} {:^8} {:>10}\\n'.format('COLUMNS', 'DATA TYPE', 'HAS NULL', 'COUNTS', '# UNIQUE'))\n",
    "    for i, v in enumerate(df.columns):\n",
    "        col = df[v]\n",
    "        dtype = type(col.iloc[0]).__name__\n",
    "        \n",
    "        if dtype=='dict':\n",
    "            keys = set([item for val in col.values if val is not None for item in list(val.keys())])\n",
    "            col_nunique = len(keys)\n",
    "        else:\n",
    "            col_nunique = col.nunique()\n",
    "        \n",
    "        print(' {:>2}.  {:<30} {:<12} {:^10} {:>8} {:>10}'.format(i+1, v, dtype, \\\n",
    "                                                                  str(col.isnull().any()), col.count(), \\\n",
    "                                                                  col_nunique))    # col.nunique()"
   ]
  },
  {
   "cell_type": "markdown",
   "metadata": {},
   "source": [
    "## Reviews Dataset"
   ]
  },
  {
   "cell_type": "code",
   "execution_count": 63,
   "metadata": {},
   "outputs": [
    {
     "name": "stdout",
     "output_type": "stream",
     "text": [
      "\n",
      "Shape : (8021122, 9)\n",
      "Number of duplicates : 0\n",
      "\n",
      "              COLUMNS                DATA TYPE     HAS NULL    COUNTS    # UNIQUE\n",
      "\n",
      "  1.  review_id                      str            False     8021122    8021122\n",
      "  2.  user_id                        str            False     8021122    1968703\n",
      "  3.  business_id                    str            False     8021122     209393\n",
      "  4.  stars                          float64        False     8021122          5\n",
      "  5.  useful                         int64          False     8021122        266\n",
      "  6.  funny                          int64          False     8021122        209\n",
      "  7.  cool                           int64          False     8021122        200\n",
      "  8.  text                           str            False     8021122    7999488\n",
      "  9.  date                           str            False     8021122    7853102\n"
     ]
    }
   ],
   "source": [
    "review_json = '../yelp_dataset/yelp_academic_dataset_review.json'\n",
    "reviews_df = create_dataframe(review_json)\n",
    "df_info(reviews_df)"
   ]
  },
  {
   "cell_type": "markdown",
   "metadata": {},
   "source": [
    "> **Note :** There are `8M` instances in this dataset. With this size, training a model will take time to complete."
   ]
  },
  {
   "cell_type": "markdown",
   "metadata": {},
   "source": [
    "The problem domain is around sentiment analysis based on reviews.  \n",
    "The reviews are stored in the `text` feature.  Other features in the reviews dataset are not needed and can be removed.  "
   ]
  },
  {
   "cell_type": "code",
   "execution_count": 64,
   "metadata": {},
   "outputs": [],
   "source": [
    "reviews_dataset = reviews_df.drop(['review_id', 'user_id', 'useful', 'funny', 'cool', 'date'], axis=1)"
   ]
  },
  {
   "cell_type": "markdown",
   "metadata": {},
   "source": [
    "Since this is a type of classification type of problem, the `stars` need to be collated into three class labels, namely: `negative`, `neutral`, and `positive`."
   ]
  },
  {
   "cell_type": "code",
   "execution_count": 65,
   "metadata": {},
   "outputs": [
    {
     "data": {
      "image/png": "[encoded data removed]",
      "text/plain": [
       "<Figure size 500x240 with 1 Axes>"
      ]
     },
     "metadata": {},
     "output_type": "display_data"
    }
   ],
   "source": [
    "sns.set(style=\"white\")\n",
    "params = {'axes.spines.top':False, 'axes.spines.right': False, 'axes.spines.left': False, \n",
    "          'axes.labelsize' : 9, 'xtick.labelsize' : 8, 'ytick.labelsize' : 8}\n",
    "matplotlib.rcParams.update(params)\n",
    "fig = plt.figure(constrained_layout=True, figsize=(5, 2.4))\n",
    "ax = fig.gca()\n",
    "sns.countplot(reviews_dataset.stars, ax=ax)\n",
    "\n",
    "counts=reviews_dataset.groupby('stars').count().text\n",
    "for i, txt in enumerate(ax.get_xticklabels()):\n",
    "    count = counts[float(txt.get_text())]\n",
    "    ax.text(i-.25, count+100000, '{}'.format(count), fontdict={'fontsize': 9}, c='r')\n",
    "\n",
    "ax.set_xlabel('\\nStar Ratings')\n",
    "ax.yaxis.set_visible(False)\n",
    "matplotlib.rcParams.update(matplotlib.rcParamsDefault)\n",
    "fig.suptitle('\\nDistribution of Star Ratings', y=1.42, fontsize=10);\n",
    "ax.set_xticklabels(labels=[lbl.get_text().title() for lbl in ax.get_xticklabels()]);\n"
   ]
  },
  {
   "cell_type": "markdown",
   "metadata": {},
   "source": [
    "> Patrons rate establishments from 1 through 5 with 5 being the highest. The stars value will be able to provide the appropriate label to the sentiments.\n",
    "However in lieu of the star ratings, this can be collated into: negative, neutral, positive. Reviews with 1 and 2 will fall into the negative, 3 into neutral, 4 and 5 into positive."
   ]
  },
  {
   "cell_type": "code",
   "execution_count": 67,
   "metadata": {},
   "outputs": [
    {
     "name": "stdout",
     "output_type": "stream",
     "text": [
      "<class 'pandas.core.frame.DataFrame'>\n",
      "RangeIndex: 8021122 entries, 0 to 8021121\n",
      "Data columns (total 4 columns):\n",
      " #   Column       Dtype   \n",
      "---  ------       -----   \n",
      " 0   business_id  object  \n",
      " 1   stars        float64 \n",
      " 2   text         object  \n",
      " 3   sentiment    category\n",
      "dtypes: category(1), float64(1), object(2)\n",
      "memory usage: 191.2+ MB\n"
     ]
    }
   ],
   "source": [
    "category_labels = [0, 1, 2]\n",
    "cut_bins = [0, 2, 3, 5]\n",
    "reviews_dataset['sentiment'] = pd.cut(reviews_dataset['stars'], bins=cut_bins, labels=category_labels)\n",
    "\n",
    "# check the new structure\n",
    "reviews_dataset.info()"
   ]
  },
  {
   "cell_type": "markdown",
   "metadata": {},
   "source": [
    "**Test the changes**.  All three queries should **not** return any values."
   ]
  },
  {
   "cell_type": "code",
   "execution_count": 68,
   "metadata": {},
   "outputs": [
    {
     "data": {
      "text/html": [
       "<div>\n",
       "<style scoped>\n",
       "    .dataframe tbody tr th:only-of-type {\n",
       "        vertical-align: middle;\n",
       "    }\n",
       "\n",
       "    .dataframe tbody tr th {\n",
       "        vertical-align: top;\n",
       "    }\n",
       "\n",
       "    .dataframe thead th {\n",
       "        text-align: right;\n",
       "    }\n",
       "</style>\n",
       "<table border=\"1\" class=\"dataframe\">\n",
       "  <thead>\n",
       "    <tr style=\"text-align: right;\">\n",
       "      <th></th>\n",
       "      <th>business_id</th>\n",
       "      <th>stars</th>\n",
       "      <th>text</th>\n",
       "      <th>sentiment</th>\n",
       "    </tr>\n",
       "  </thead>\n",
       "  <tbody>\n",
       "  </tbody>\n",
       "</table>\n",
       "</div>"
      ],
      "text/plain": [
       "Empty DataFrame\n",
       "Columns: [business_id, stars, text, sentiment]\n",
       "Index: []"
      ]
     },
     "execution_count": 68,
     "metadata": {},
     "output_type": "execute_result"
    },
    {
     "data": {
      "text/html": [
       "<div>\n",
       "<style scoped>\n",
       "    .dataframe tbody tr th:only-of-type {\n",
       "        vertical-align: middle;\n",
       "    }\n",
       "\n",
       "    .dataframe tbody tr th {\n",
       "        vertical-align: top;\n",
       "    }\n",
       "\n",
       "    .dataframe thead th {\n",
       "        text-align: right;\n",
       "    }\n",
       "</style>\n",
       "<table border=\"1\" class=\"dataframe\">\n",
       "  <thead>\n",
       "    <tr style=\"text-align: right;\">\n",
       "      <th></th>\n",
       "      <th>business_id</th>\n",
       "      <th>stars</th>\n",
       "      <th>text</th>\n",
       "      <th>sentiment</th>\n",
       "    </tr>\n",
       "  </thead>\n",
       "  <tbody>\n",
       "  </tbody>\n",
       "</table>\n",
       "</div>"
      ],
      "text/plain": [
       "Empty DataFrame\n",
       "Columns: [business_id, stars, text, sentiment]\n",
       "Index: []"
      ]
     },
     "execution_count": 68,
     "metadata": {},
     "output_type": "execute_result"
    },
    {
     "data": {
      "text/html": [
       "<div>\n",
       "<style scoped>\n",
       "    .dataframe tbody tr th:only-of-type {\n",
       "        vertical-align: middle;\n",
       "    }\n",
       "\n",
       "    .dataframe tbody tr th {\n",
       "        vertical-align: top;\n",
       "    }\n",
       "\n",
       "    .dataframe thead th {\n",
       "        text-align: right;\n",
       "    }\n",
       "</style>\n",
       "<table border=\"1\" class=\"dataframe\">\n",
       "  <thead>\n",
       "    <tr style=\"text-align: right;\">\n",
       "      <th></th>\n",
       "      <th>business_id</th>\n",
       "      <th>stars</th>\n",
       "      <th>text</th>\n",
       "      <th>sentiment</th>\n",
       "    </tr>\n",
       "  </thead>\n",
       "  <tbody>\n",
       "  </tbody>\n",
       "</table>\n",
       "</div>"
      ],
      "text/plain": [
       "Empty DataFrame\n",
       "Columns: [business_id, stars, text, sentiment]\n",
       "Index: []"
      ]
     },
     "execution_count": 68,
     "metadata": {},
     "output_type": "execute_result"
    }
   ],
   "source": [
    "reviews_dataset.query('stars == 3 and (sentiment == 2 or sentiment == 0)')\n",
    "reviews_dataset.query('stars < 3 and (sentiment == 1 or sentiment == 2)')\n",
    "reviews_dataset.query('stars > 3 and (sentiment == 0 or sentiment == 1)')"
   ]
  },
  {
   "cell_type": "markdown",
   "metadata": {},
   "source": [
    "Review the new `sentiment` feature and distribution."
   ]
  },
  {
   "cell_type": "code",
   "execution_count": 69,
   "metadata": {},
   "outputs": [
    {
     "data": {
      "image/png": "[encoded data removed]",
      "text/plain": [
       "<Figure size 500x240 with 1 Axes>"
      ]
     },
     "metadata": {},
     "output_type": "display_data"
    }
   ],
   "source": [
    "sns.set(style=\"white\")\n",
    "params = {'axes.spines.top':False, 'axes.spines.right': False, 'axes.spines.left': False, \n",
    "          'axes.labelsize' : 9, 'xtick.labelsize' : 8, 'ytick.labelsize' : 8}\n",
    "matplotlib.rcParams.update(params)\n",
    "fig = plt.figure(constrained_layout=True, figsize=(5, 2.4))\n",
    "ax = fig.gca()\n",
    "sns.countplot(reviews_dataset.sentiment, ax=ax)\n",
    "\n",
    "counts=reviews_dataset.groupby('sentiment').count().text\n",
    "for i, txt in enumerate(ax.get_xticklabels()):\n",
    "    count = counts[int(txt.get_text())]\n",
    "    ax.text(i-.25, count+100000, '{}'.format(count), fontdict={'fontsize': 9}, c='r')\n",
    "\n",
    "ax.set_xlabel('\\nSentiments')\n",
    "ax.yaxis.set_visible(False)\n",
    "matplotlib.rcParams.update(matplotlib.rcParamsDefault)\n",
    "fig.suptitle('\\nDistribution of Sentiments', y=1.42, fontsize=10);\n",
    "ax.set_xticklabels(labels=[lbl.get_text().title() for lbl in ax.get_xticklabels()]);"
   ]
  },
  {
   "cell_type": "markdown",
   "metadata": {},
   "source": [
    "> **Note :** Clearly there is an imbalance data.  The imbalance is addressed in a separate notebook."
   ]
  },
  {
   "cell_type": "markdown",
   "metadata": {},
   "source": [
    "Now that the sentiment feature has been created, there is no need for the stars feature and can be removed."
   ]
  },
  {
   "cell_type": "code",
   "execution_count": 70,
   "metadata": {},
   "outputs": [
    {
     "name": "stdout",
     "output_type": "stream",
     "text": [
      "\n",
      "Shape : (8021122, 3)\n",
      "Number of duplicates : 16063\n",
      "\n",
      "              COLUMNS                DATA TYPE     HAS NULL    COUNTS    # UNIQUE\n",
      "\n",
      "  1.  business_id                    str            False     8021122     209393\n",
      "  2.  text                           str            False     8021122    7999488\n",
      "  3.  sentiment                      int64          False     8021122          3\n"
     ]
    }
   ],
   "source": [
    "reviews_dataset.drop(['stars'], inplace=True, axis=1)\n",
    "\n",
    "# Review changes made on this dataset.\n",
    "df_info(reviews_dataset)"
   ]
  },
  {
   "cell_type": "markdown",
   "metadata": {},
   "source": [
    "From above, `Number of duplicates`, it seems duplicates now appear in the dataset and needs to be investigated."
   ]
  },
  {
   "cell_type": "code",
   "execution_count": 71,
   "metadata": {},
   "outputs": [
    {
     "data": {
      "text/html": [
       "<div>\n",
       "<style scoped>\n",
       "    .dataframe tbody tr th:only-of-type {\n",
       "        vertical-align: middle;\n",
       "    }\n",
       "\n",
       "    .dataframe tbody tr th {\n",
       "        vertical-align: top;\n",
       "    }\n",
       "\n",
       "    .dataframe thead th {\n",
       "        text-align: right;\n",
       "    }\n",
       "</style>\n",
       "<table border=\"1\" class=\"dataframe\">\n",
       "  <thead>\n",
       "    <tr style=\"text-align: right;\">\n",
       "      <th></th>\n",
       "      <th>business_id</th>\n",
       "      <th>text</th>\n",
       "      <th>sentiment</th>\n",
       "    </tr>\n",
       "  </thead>\n",
       "  <tbody>\n",
       "    <tr>\n",
       "      <th>1542</th>\n",
       "      <td>wjLgM9Ybe5shoUPRrGMmsQ</td>\n",
       "      <td>Food is consistently good here. Portions are adequate, but the service can be slow.\\n\\nThe space is tight, and parking can be an issue in lawrenceville.</td>\n",
       "      <td>0</td>\n",
       "    </tr>\n",
       "    <tr>\n",
       "      <th>10470</th>\n",
       "      <td>wjLgM9Ybe5shoUPRrGMmsQ</td>\n",
       "      <td>Food is consistently good here. Portions are adequate, but the service can be slow.\\n\\nThe space is tight, and parking can be an issue in lawrenceville.</td>\n",
       "      <td>0</td>\n",
       "    </tr>\n",
       "  </tbody>\n",
       "</table>\n",
       "</div>"
      ],
      "text/plain": [
       "                  business_id  \\\n",
       "1542   wjLgM9Ybe5shoUPRrGMmsQ   \n",
       "10470  wjLgM9Ybe5shoUPRrGMmsQ   \n",
       "\n",
       "                                                                                                                                                           text  \\\n",
       "1542   Food is consistently good here. Portions are adequate, but the service can be slow.\\n\\nThe space is tight, and parking can be an issue in lawrenceville.   \n",
       "10470  Food is consistently good here. Portions are adequate, but the service can be slow.\\n\\nThe space is tight, and parking can be an issue in lawrenceville.   \n",
       "\n",
       "      sentiment  \n",
       "1542          0  \n",
       "10470         0  "
      ]
     },
     "execution_count": 71,
     "metadata": {},
     "output_type": "execute_result"
    }
   ],
   "source": [
    "reviews_dataset[1000:12500][reviews_dataset[1000:12500].duplicated(subset=['text'], keep=False)]"
   ]
  },
  {
   "cell_type": "markdown",
   "metadata": {},
   "source": [
    "> Selecting a subset/range of rows from the dataset, confirms that there are indeed duplicates.  It seems that after converting the JSON object into a dataframe, the `duplicated` function did not seem to work initially that's why it did not show up in the first round of review of the dataset.\n",
    "\n",
    "Duplicates have no value and is a waste in resource so these need to be dropped."
   ]
  },
  {
   "cell_type": "code",
   "execution_count": 72,
   "metadata": {},
   "outputs": [
    {
     "name": "stdout",
     "output_type": "stream",
     "text": [
      "\n",
      "Shape : (8005059, 3)\n",
      "Number of duplicates : 0\n",
      "\n",
      "              COLUMNS                DATA TYPE     HAS NULL    COUNTS    # UNIQUE\n",
      "\n",
      "  1.  business_id                    str            False     8005059     209393\n",
      "  2.  text                           str            False     8005059    7999488\n",
      "  3.  sentiment                      int64          False     8005059          3\n"
     ]
    }
   ],
   "source": [
    "reviews_dataset.drop_duplicates(inplace=True)\n",
    "\n",
    "# Confirm duplicates no longer exist.\n",
    "df_info(reviews_dataset)"
   ]
  },
  {
   "cell_type": "markdown",
   "metadata": {},
   "source": [
    "## Business Dataset\n",
    "\n",
    "Reviews are from different type of establishments. This needs to be filtered down to only dine/drink type of establishments where our sentiment analysis will focus on.  To determine the type of establishments, the business dataset will need to be loaded where it contains features that can be keyed on for filtering.  "
   ]
  },
  {
   "cell_type": "code",
   "execution_count": 73,
   "metadata": {},
   "outputs": [
    {
     "name": "stdout",
     "output_type": "stream",
     "text": [
      "<class 'pandas.core.frame.DataFrame'>\n",
      "RangeIndex: 209393 entries, 0 to 209392\n",
      "Data columns (total 14 columns):\n",
      " #   Column        Non-Null Count   Dtype  \n",
      "---  ------        --------------   -----  \n",
      " 0   business_id   209393 non-null  object \n",
      " 1   name          209393 non-null  object \n",
      " 2   address       209393 non-null  object \n",
      " 3   city          209393 non-null  object \n",
      " 4   state         209393 non-null  object \n",
      " 5   postal_code   209393 non-null  object \n",
      " 6   latitude      209393 non-null  float64\n",
      " 7   longitude     209393 non-null  float64\n",
      " 8   stars         209393 non-null  float64\n",
      " 9   review_count  209393 non-null  int64  \n",
      " 10  is_open       209393 non-null  int64  \n",
      " 11  attributes    180348 non-null  object \n",
      " 12  categories    208869 non-null  object \n",
      " 13  hours         164550 non-null  object \n",
      "dtypes: float64(3), int64(2), object(9)\n",
      "memory usage: 22.4+ MB\n"
     ]
    }
   ],
   "source": [
    "business_json = '../yelp_dataset/yelp_academic_dataset_business.json'\n",
    "business_df = create_dataframe(business_json)\n",
    "business_df.info()"
   ]
  },
  {
   "cell_type": "markdown",
   "metadata": {},
   "source": [
    "#### Restaurants Only\n",
    "\n",
    "The `categories` feature holds the information for the type of establishment.  This will be used to filter the data."
   ]
  },
  {
   "cell_type": "code",
   "execution_count": 74,
   "metadata": {},
   "outputs": [
    {
     "data": {
      "text/html": [
       "<div>\n",
       "<style scoped>\n",
       "    .dataframe tbody tr th:only-of-type {\n",
       "        vertical-align: middle;\n",
       "    }\n",
       "\n",
       "    .dataframe tbody tr th {\n",
       "        vertical-align: top;\n",
       "    }\n",
       "\n",
       "    .dataframe thead th {\n",
       "        text-align: right;\n",
       "    }\n",
       "</style>\n",
       "<table border=\"1\" class=\"dataframe\">\n",
       "  <thead>\n",
       "    <tr style=\"text-align: right;\">\n",
       "      <th></th>\n",
       "      <th>name</th>\n",
       "      <th>categories</th>\n",
       "    </tr>\n",
       "  </thead>\n",
       "  <tbody>\n",
       "    <tr>\n",
       "      <th>44064</th>\n",
       "      <td>Highland Farms</td>\n",
       "      <td>Food, Grocery</td>\n",
       "    </tr>\n",
       "    <tr>\n",
       "      <th>189036</th>\n",
       "      <td>Vince Seafood Restaurant &amp; BBQ</td>\n",
       "      <td>Chinese, Restaurants, Seafood</td>\n",
       "    </tr>\n",
       "    <tr>\n",
       "      <th>176707</th>\n",
       "      <td>Taco Papi</td>\n",
       "      <td>Mexican, Food, Tacos, Restaurants</td>\n",
       "    </tr>\n",
       "    <tr>\n",
       "      <th>165585</th>\n",
       "      <td>Famous Dave's Bar-B-Que</td>\n",
       "      <td>Barbeque, Restaurants, Food, Comfort Food, American (Traditional)</td>\n",
       "    </tr>\n",
       "    <tr>\n",
       "      <th>69919</th>\n",
       "      <td>Lezzet Shawarma Falafel House</td>\n",
       "      <td>Mediterranean, Falafel, Middle Eastern, Restaurants, Ethnic Food, Halal, Specialty Food, Food</td>\n",
       "    </tr>\n",
       "  </tbody>\n",
       "</table>\n",
       "</div>"
      ],
      "text/plain": [
       "                                  name  \\\n",
       "44064                   Highland Farms   \n",
       "189036  Vince Seafood Restaurant & BBQ   \n",
       "176707                       Taco Papi   \n",
       "165585         Famous Dave's Bar-B-Que   \n",
       "69919    Lezzet Shawarma Falafel House   \n",
       "\n",
       "                                                                                           categories  \n",
       "44064                                                                                   Food, Grocery  \n",
       "189036                                                                  Chinese, Restaurants, Seafood  \n",
       "176707                                                              Mexican, Food, Tacos, Restaurants  \n",
       "165585                              Barbeque, Restaurants, Food, Comfort Food, American (Traditional)  \n",
       "69919   Mediterranean, Falafel, Middle Eastern, Restaurants, Ethnic Food, Halal, Specialty Food, Food  "
      ]
     },
     "execution_count": 74,
     "metadata": {},
     "output_type": "execute_result"
    }
   ],
   "source": [
    "# Business criteria: Restaurants, Bars, Pub, or wherever there's Food\n",
    "eat_drink_business_df = business_df.query('not categories.isnull() and \\\n",
    "                  (categories.str.contains(\"Food\") or categories.str.contains(\"Restaurants\") \\\n",
    "                   or categories.str.contains(\"Bars\") or categories.str.contains(\"Pub\"))', \n",
    "                  engine='python')\n",
    "\n",
    "eat_drink_business_df[['name', 'categories']].sample(5)"
   ]
  },
  {
   "cell_type": "markdown",
   "metadata": {},
   "source": [
    "> Sample data of the type of establishments where customer reviews will come from.\n",
    "\n",
    "<br>\n",
    "\n",
    "#### Establishments that are still in business\n",
    "\n",
    "The `is_open` feature of the business dataset indicates whether or not the establishment is still in business or not."
   ]
  },
  {
   "cell_type": "code",
   "execution_count": 75,
   "metadata": {},
   "outputs": [
    {
     "data": {
      "image/png": "[encoded data removed]",
      "text/plain": [
       "<Figure size 600x230 with 1 Axes>"
      ]
     },
     "metadata": {},
     "output_type": "display_data"
    }
   ],
   "source": [
    "results = eat_drink_business_df.is_open\n",
    "params = {'axes.spines.top':False, 'axes.spines.right': False, 'axes.spines.left': False, 'axes.labelsize' : 8, \n",
    "          'xtick.labelsize' : 7, 'axes.titlesize':9}\n",
    "matplotlib.rcParams.update(params)\n",
    "fig = plt.figure(constrained_layout=False, figsize=(6, 2.3))\n",
    "ax = fig.gca()\n",
    "ax.set_title('\\nDistribution Comparison of Between Open and Closed Businesses\\n\\n')\n",
    "p = sns.countplot(x=results, ax=ax)\n",
    "ax.yaxis.set_visible(False)\n",
    "counts=pd.Series(results).value_counts().sort_values(ascending=True)\n",
    "for i, count in enumerate(counts):\n",
    "    ax.text(i-.08, count+1000, '{}'.format(count), fontsize=9)\n",
    "\n",
    "matplotlib.rcParams.update(matplotlib.rcParamsDefault);"
   ]
  },
  {
   "cell_type": "markdown",
   "metadata": {},
   "source": [
    "> Proportion of businesses that are still open.\n",
    "\n",
    "<br>\n",
    "\n",
    "Filter the restaurants/bars that are still in business."
   ]
  },
  {
   "cell_type": "code",
   "execution_count": 76,
   "metadata": {},
   "outputs": [
    {
     "name": "stdout",
     "output_type": "stream",
     "text": [
      "\n",
      "Shape : (4723973, 3)\n",
      "Number of duplicates : 0\n",
      "\n",
      "              COLUMNS                DATA TYPE     HAS NULL    COUNTS    # UNIQUE\n",
      "\n",
      "  1.  business_id                    str            False     4723973      60534\n",
      "  2.  text                           str            False     4723973    4722100\n",
      "  3.  sentiment                      int64          False     4723973          3\n"
     ]
    }
   ],
   "source": [
    "establishments_still_in_business = eat_drink_business_df.query('is_open == 1').business_id\n",
    "\n",
    "reviews_dataset = reviews_dataset.query('business_id in @establishments_still_in_business')\n",
    "df_info(reviews_dataset)"
   ]
  },
  {
   "cell_type": "code",
   "execution_count": 77,
   "metadata": {},
   "outputs": [
    {
     "data": {
      "text/plain": [
       "0.588941671751159"
      ]
     },
     "execution_count": 77,
     "metadata": {},
     "output_type": "execute_result"
    }
   ],
   "source": [
    "len(reviews_dataset)/len(reviews_df)"
   ]
  },
  {
   "cell_type": "markdown",
   "metadata": {},
   "source": [
    "> Considering only restaurant type establishments and those that are still in business, the reviews dataset is reduced to `59%` of its original size but with `4.7M` it is still a substantial size of data.\n",
    "\n",
    "The `business_id` is no longer needed and can be removed."
   ]
  },
  {
   "cell_type": "code",
   "execution_count": 78,
   "metadata": {},
   "outputs": [
    {
     "name": "stdout",
     "output_type": "stream",
     "text": [
      "\n",
      "Shape : (4723973, 2)\n",
      "Number of duplicates : 1417\n",
      "\n",
      "              COLUMNS                DATA TYPE     HAS NULL    COUNTS    # UNIQUE\n",
      "\n",
      "  1.  text                           str            False     4723973    4722100\n",
      "  2.  sentiment                      int64          False     4723973          3\n"
     ]
    }
   ],
   "source": [
    "reviews_dataset_2features = reviews_dataset.drop(['business_id'], axis=1, inplace=False)\n",
    "\n",
    "# Verify structure\n",
    "df_info(reviews_dataset_2features)"
   ]
  },
  {
   "cell_type": "markdown",
   "metadata": {},
   "source": [
    "#### Persist changes and load dataset and review."
   ]
  },
  {
   "cell_type": "code",
   "execution_count": 79,
   "metadata": {},
   "outputs": [],
   "source": [
    "# Persist changes to a separate file.\n",
    "reviews_dataset_2features.to_csv('../yelp_dataset/reviews_dataset.csv', index=False)"
   ]
  },
  {
   "cell_type": "markdown",
   "metadata": {},
   "source": [
    "As a sanity check, load the data and review."
   ]
  },
  {
   "cell_type": "code",
   "execution_count": 85,
   "metadata": {},
   "outputs": [
    {
     "name": "stdout",
     "output_type": "stream",
     "text": [
      "\n",
      "Shape : (4723973, 2)\n",
      "Number of duplicates : 1417\n",
      "\n",
      "              COLUMNS                DATA TYPE     HAS NULL    COUNTS    # UNIQUE\n",
      "\n",
      "  1.  text                           str             True     4723972    4722099\n",
      "  2.  sentiment                      int64          False     4723973          3\n"
     ]
    }
   ],
   "source": [
    "temp = pd.read_csv('../yelp_dataset/reviews_dataset.csv')\n",
    "df_info(temp)"
   ]
  },
  {
   "cell_type": "markdown",
   "metadata": {},
   "source": [
    "> Initially the dataset did not have any NA values but after re-loading, it now appears we do. This is because 'N/A' was interpreted as string during JSON conversion but is now recognized by pandas as a NA value after reloading the dataset.  \n",
    "\n",
    "> In addition, duplicates also has appeared and needs to be removed.\n",
    "\n",
    "Since NA values in text does not provide any meaningful data, these will have to be dropped."
   ]
  },
  {
   "cell_type": "code",
   "execution_count": 86,
   "metadata": {},
   "outputs": [],
   "source": [
    "# drop nulls\n",
    "temp.dropna(inplace=True)\n",
    "\n",
    "# drop duplicates\n",
    "temp.drop_duplicates(inplace=True)"
   ]
  },
  {
   "cell_type": "markdown",
   "metadata": {},
   "source": [
    "Verify change one more time and then persist the new updates."
   ]
  },
  {
   "cell_type": "code",
   "execution_count": 87,
   "metadata": {},
   "outputs": [
    {
     "name": "stdout",
     "output_type": "stream",
     "text": [
      "\n",
      "Shape : (4722555, 2)\n",
      "Number of duplicates : 0\n",
      "\n",
      "              COLUMNS                DATA TYPE     HAS NULL    COUNTS    # UNIQUE\n",
      "\n",
      "  1.  text                           str            False     4722555    4722099\n",
      "  2.  sentiment                      int64          False     4722555          3\n"
     ]
    }
   ],
   "source": [
    "df_info(temp)"
   ]
  },
  {
   "cell_type": "markdown",
   "metadata": {},
   "source": [
    "> Dataset looks much cleaner."
   ]
  },
  {
   "cell_type": "code",
   "execution_count": 88,
   "metadata": {},
   "outputs": [],
   "source": [
    "# Persist changes.\n",
    "temp.to_csv('../yelp_dataset/reviews_dataset.csv', index=False)"
   ]
  },
  {
   "cell_type": "code",
   "execution_count": null,
   "metadata": {},
   "outputs": [],
   "source": []
  }
 ],
 "metadata": {
  "kernelspec": {
   "display_name": "Python 3",
   "language": "python",
   "name": "python3"
  },
  "language_info": {
   "codemirror_mode": {
    "name": "ipython",
    "version": 3
   },
   "file_extension": ".py",
   "mimetype": "text/x-python",
   "name": "python",
   "nbconvert_exporter": "python",
   "pygments_lexer": "ipython3",
   "version": "3.7.9"
  }
 },
 "nbformat": 4,
 "nbformat_minor": 4
}
