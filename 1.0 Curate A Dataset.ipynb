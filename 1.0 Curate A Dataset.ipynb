{
 "cells": [
  {
   "cell_type": "markdown",
   "metadata": {},
   "source": [
    "<br>\n",
    "\n",
    "# Curate A Dataset\n",
    "\n",
    "This notebook curates the Yelp reviews dataset and ensures there are no duplicates, null values, and considers only restaurant establishments that are still in business.  \n",
    "#### The end result of this notebook is the creation of a clean `reviews_dataset.csv` that will be used in subsequent `Jupyter` notebooks.  \n",
    "\n",
    "<br>"
   ]
  },
  {
   "cell_type": "code",
   "execution_count": 61,
   "metadata": {},
   "outputs": [],
   "source": [
    "import json\n",
    "import math\n",
    "import matplotlib\n",
    "import matplotlib.pyplot as plt\n",
    "import numpy as np\n",
    "import pandas as pd\n",
    "import re\n",
    "import seaborn as sns\n",
    "\n",
    "from enchant.checker import SpellChecker\n",
    "from IPython.core.interactiveshell import InteractiveShell\n",
    "from tqdm.notebook import tqdm_notebook\n",
    "InteractiveShell.ast_node_interactivity = \"all\""
   ]
  },
  {
   "cell_type": "code",
   "execution_count": 5,
   "metadata": {},
   "outputs": [],
   "source": [
    "%matplotlib inline\n",
    "\n",
    "# Set dataframe options to keep long data in columns from being truncated with ellipsis (...)\n",
    "pd.set_option('max_colwidth', None)\n",
    "# Set dataframe options to force display max columns\n",
    "pd.set_option('display.max_columns', 90)\n",
    "pd.set_option('display.max_rows', 90)\n",
    "\n",
    "spellChecker = SpellChecker(\"en_US\")\n",
    "tqdm_notebook.pandas()"
   ]
  },
  {
   "cell_type": "markdown",
   "metadata": {},
   "source": [
    "Helper functions that is used throughout this notebook.  "
   ]
  },
  {
   "cell_type": "code",
   "execution_count": 53,
   "metadata": {},
   "outputs": [],
   "source": [
    "def create_dataframe(file_path):\n",
    "    '''\n",
    "    Create a pandas dataframe from a JSON file indicated by the parameter file_path\n",
    "    '''\n",
    "    with open(file_path, encoding=\"utf8\") as f:\n",
    "        data = [json.loads(jsonObj) for jsonObj in f]\n",
    "    return pd.DataFrame(data)\n",
    "\n",
    "\n",
    "def df_info(df):\n",
    "    '''\n",
    "    A helper function - similar in functionality with `df.info()` but includes combined features: df.columns, df.dtypes, \n",
    "    df.isnull(), df.info(), df.nunique()\n",
    "    '''\n",
    "    print('\\nShape : {}'.format(df.shape))\n",
    "    print('Number of duplicates : {}\\n'.format(df.duplicated().sum()))\n",
    "\n",
    "    print('{:^35} {:^12} {:^12} {:^8} {:>10}\\n'.format('COLUMNS', 'DATA TYPE', 'HAS NULL', 'COUNTS', '# UNIQUE'))\n",
    "    for i, v in enumerate(df.columns):\n",
    "        col = df[v]\n",
    "        dtype = type(col.iloc[0]).__name__\n",
    "        \n",
    "        if dtype=='dict':\n",
    "            keys = set([item for val in col.values if val is not None for item in list(val.keys())])\n",
    "            col_nunique = len(keys)\n",
    "        else:\n",
    "            col_nunique = col.nunique()\n",
    "        \n",
    "        print(' {:>2}.  {:<30} {:<12} {:^10} {:>8} {:>10}'.format(i+1, v, dtype, \\\n",
    "                                                                  str(col.isnull().any()), col.count(), \\\n",
    "                                                                  col_nunique))    # col.nunique()\n",
    "\n",
    "# Data-cleaning helper functions\n",
    "\n",
    "# list of cjk codepoint ranges (added Japanese at the bottom)\n",
    "# tuples indicate the bottom and top of the range, inclusive\n",
    "cjk_ranges = [\n",
    "        ( 0x4E00,  0x62FF),\n",
    "        ( 0x6300,  0x77FF),\n",
    "        ( 0x7800,  0x8CFF),\n",
    "        ( 0x8D00,  0x9FCC),\n",
    "        ( 0x3400,  0x4DB5),\n",
    "        (0x20000, 0x215FF),\n",
    "        (0x21600, 0x230FF),\n",
    "        (0x23100, 0x245FF),\n",
    "        (0x24600, 0x260FF),\n",
    "        (0x26100, 0x275FF),\n",
    "        (0x27600, 0x290FF),\n",
    "        (0x29100, 0x2A6DF),\n",
    "        (0x2A700, 0x2B734),\n",
    "        (0x2B740, 0x2B81D),\n",
    "        (0x2B820, 0x2CEAF),\n",
    "        (0x2CEB0, 0x2EBEF),\n",
    "        (0x2F800, 0x2FA1F),\n",
    "        ( 0x3041,  0x3096),\n",
    "        ( 0x30A0,  0x30FF)\n",
    "    ]\n",
    "\n",
    "def is_cjk(char):\n",
    "    char = ord(char)\n",
    "    for bottom, top in cjk_ranges:\n",
    "        if char >= bottom and char <= top:\n",
    "            return True\n",
    "    return False\n",
    "\n",
    "\n",
    "def containsChineseChars(s):\n",
    "    #return any(map(is_cjk_, s))\n",
    "    # return true only if Chinese/Japanese characters exist for a certain percentage\n",
    "    return (sum(map(is_cjk, s))/len(s)) > .4\n",
    "\n",
    "\n",
    "def isHttp(s):\n",
    "    words = s.split()\n",
    "    if len(words) <= 10 and 'http' in s:\n",
    "        return True\n",
    "    return False\n",
    "\n",
    "\n",
    "def singleLongShortWord(s):\n",
    "    words = s.split()\n",
    "    if len(words) == 1 and len(words[0]) > 20:\n",
    "        return True\n",
    "    elif len(words) == 1 and len(words[0]) == 1:\n",
    "        return True\n",
    "    return False\n",
    "\n",
    "\n",
    "def containsLetters(s):\n",
    "    if re.search('[a-zA-Z]', s) is None:\n",
    "        return False\n",
    "    return True\n",
    "\n",
    "\n",
    "def in_english(quote):\n",
    "    spellChecker.set_text(quote.upper())\n",
    "    errors = [err.word for err in spellChecker]\n",
    "    # setting a threshold of 20% of quote contains errors; this will be more forgiving for longer reviews which is ok\n",
    "    # longer reviews tend to be more legitimate\n",
    "    return False if (len(errors) > int(len(quote.split())*.2)) else True\n",
    "    #return False if (len(errors) > 4) else True"
   ]
  },
  {
   "cell_type": "markdown",
   "metadata": {},
   "source": [
    "## Business Dataset\n",
    "\n",
    "Reviews are from different type of establishments. This needs to be filtered down to only dine/drink type of establishments where our sentiment analysis will focus on.  To determine the type of establishments, the business dataset will need to be loaded where it contains features that can be keyed on for filtering.  "
   ]
  },
  {
   "cell_type": "code",
   "execution_count": 7,
   "metadata": {},
   "outputs": [
    {
     "name": "stdout",
     "output_type": "stream",
     "text": [
      "<class 'pandas.core.frame.DataFrame'>\n",
      "RangeIndex: 209393 entries, 0 to 209392\n",
      "Data columns (total 14 columns):\n",
      " #   Column        Non-Null Count   Dtype  \n",
      "---  ------        --------------   -----  \n",
      " 0   business_id   209393 non-null  object \n",
      " 1   name          209393 non-null  object \n",
      " 2   address       209393 non-null  object \n",
      " 3   city          209393 non-null  object \n",
      " 4   state         209393 non-null  object \n",
      " 5   postal_code   209393 non-null  object \n",
      " 6   latitude      209393 non-null  float64\n",
      " 7   longitude     209393 non-null  float64\n",
      " 8   stars         209393 non-null  float64\n",
      " 9   review_count  209393 non-null  int64  \n",
      " 10  is_open       209393 non-null  int64  \n",
      " 11  attributes    180348 non-null  object \n",
      " 12  categories    208869 non-null  object \n",
      " 13  hours         164550 non-null  object \n",
      "dtypes: float64(3), int64(2), object(9)\n",
      "memory usage: 22.4+ MB\n"
     ]
    }
   ],
   "source": [
    "business_json = '../yelp_dataset/yelp_academic_dataset_business.json'\n",
    "business_df = create_dataframe(business_json)\n",
    "business_df.info()"
   ]
  },
  {
   "cell_type": "markdown",
   "metadata": {},
   "source": [
    "#### Restaurants Only\n",
    "\n",
    "The `categories` feature holds the information for the type of establishment.  This will be used to filter the data."
   ]
  },
  {
   "cell_type": "code",
   "execution_count": 8,
   "metadata": {},
   "outputs": [
    {
     "data": {
      "text/html": [
       "<div>\n",
       "<style scoped>\n",
       "    .dataframe tbody tr th:only-of-type {\n",
       "        vertical-align: middle;\n",
       "    }\n",
       "\n",
       "    .dataframe tbody tr th {\n",
       "        vertical-align: top;\n",
       "    }\n",
       "\n",
       "    .dataframe thead th {\n",
       "        text-align: right;\n",
       "    }\n",
       "</style>\n",
       "<table border=\"1\" class=\"dataframe\">\n",
       "  <thead>\n",
       "    <tr style=\"text-align: right;\">\n",
       "      <th></th>\n",
       "      <th>name</th>\n",
       "      <th>categories</th>\n",
       "    </tr>\n",
       "  </thead>\n",
       "  <tbody>\n",
       "    <tr>\n",
       "      <th>170408</th>\n",
       "      <td>Mandalay Noodle World Restaurant</td>\n",
       "      <td>Restaurants, Asian Fusion</td>\n",
       "    </tr>\n",
       "    <tr>\n",
       "      <th>157656</th>\n",
       "      <td>Nam Vietnamese Kitchen</td>\n",
       "      <td>Vietnamese, Restaurants</td>\n",
       "    </tr>\n",
       "    <tr>\n",
       "      <th>30753</th>\n",
       "      <td>Manhattan Streets</td>\n",
       "      <td>Food, Hot Dogs, Restaurants</td>\n",
       "    </tr>\n",
       "    <tr>\n",
       "      <th>131383</th>\n",
       "      <td>Citizen Pie</td>\n",
       "      <td>Restaurants, Pizza</td>\n",
       "    </tr>\n",
       "    <tr>\n",
       "      <th>96927</th>\n",
       "      <td>The Roosevelt</td>\n",
       "      <td>American (New), Restaurants, Nightlife, Bars</td>\n",
       "    </tr>\n",
       "  </tbody>\n",
       "</table>\n",
       "</div>"
      ],
      "text/plain": [
       "                                    name  \\\n",
       "170408  Mandalay Noodle World Restaurant   \n",
       "157656            Nam Vietnamese Kitchen   \n",
       "30753                  Manhattan Streets   \n",
       "131383                       Citizen Pie   \n",
       "96927                      The Roosevelt   \n",
       "\n",
       "                                          categories  \n",
       "170408                     Restaurants, Asian Fusion  \n",
       "157656                       Vietnamese, Restaurants  \n",
       "30753                    Food, Hot Dogs, Restaurants  \n",
       "131383                            Restaurants, Pizza  \n",
       "96927   American (New), Restaurants, Nightlife, Bars  "
      ]
     },
     "execution_count": 8,
     "metadata": {},
     "output_type": "execute_result"
    }
   ],
   "source": [
    "# Business criteria: Restaurants, Bars, Pub, or wherever there's Food\n",
    "eat_drink_business_df = business_df.query('not categories.isnull() and \\\n",
    "                  (categories.str.contains(\"Food\") or categories.str.contains(\"Restaurants\") \\\n",
    "                   or categories.str.contains(\"Bars\") or categories.str.contains(\"Pub\"))', \n",
    "                  engine='python')\n",
    "\n",
    "eat_drink_business_df[['name', 'categories']].sample(5)"
   ]
  },
  {
   "cell_type": "markdown",
   "metadata": {},
   "source": [
    "> Sample data of the type of establishments where customer reviews will come from.\n",
    "\n",
    "<br>\n",
    "\n",
    "#### Establishments that are still in business\n",
    "\n",
    "The `is_open` feature of the business dataset indicates whether or not the establishment is still in business or not."
   ]
  },
  {
   "cell_type": "code",
   "execution_count": 10,
   "metadata": {},
   "outputs": [
    {
     "data": {
      "image/png": "[encoded data removed]",
      "text/plain": [
       "<Figure size 432x165.6 with 1 Axes>"
      ]
     },
     "metadata": {
      "needs_background": "light"
     },
     "output_type": "display_data"
    }
   ],
   "source": [
    "results = eat_drink_business_df.is_open\n",
    "params = {'axes.spines.top':False, 'axes.spines.right': False, 'axes.spines.left': False, 'axes.labelsize' : 9, \n",
    "          'xtick.labelsize' : 9, 'axes.titlesize':9}\n",
    "matplotlib.rcParams.update(params)\n",
    "fig = plt.figure(constrained_layout=False, figsize=(6, 2.3))\n",
    "ax = fig.gca()\n",
    "tmp = ax.set_title('\\nDistribution Comparison of Between Open and Closed Businesses\\n\\n');\n",
    "p = sns.countplot(x=results, ax=ax)\n",
    "ax.yaxis.set_visible(False)\n",
    "counts=pd.Series(results).value_counts().sort_values(ascending=True)\n",
    "for i, count in enumerate(counts):\n",
    "    tmp = ax.text(i-.08, count+1000, '{}'.format(count), fontsize=9);\n"
   ]
  },
  {
   "cell_type": "markdown",
   "metadata": {},
   "source": [
    "> Proportion of businesses that are still open.\n"
   ]
  },
  {
   "cell_type": "markdown",
   "metadata": {},
   "source": [
    "The `business_id` is no longer needed and can be removed."
   ]
  },
  {
   "cell_type": "code",
   "execution_count": 65,
   "metadata": {},
   "outputs": [],
   "source": [
    "reviews_dataset.drop(['business_id'], axis=1, inplace=True)"
   ]
  },
  {
   "cell_type": "code",
   "execution_count": null,
   "metadata": {},
   "outputs": [],
   "source": []
  },
  {
   "cell_type": "markdown",
   "metadata": {},
   "source": [
    "## Reviews Dataset"
   ]
  },
  {
   "cell_type": "code",
   "execution_count": 12,
   "metadata": {},
   "outputs": [
    {
     "name": "stdout",
     "output_type": "stream",
     "text": [
      "\n",
      "Shape : (8021122, 9)\n",
      "Number of duplicates : 0\n",
      "\n",
      "              COLUMNS                DATA TYPE     HAS NULL    COUNTS    # UNIQUE\n",
      "\n",
      "  1.  review_id                      str            False     8021122    8021122\n",
      "  2.  user_id                        str            False     8021122    1968703\n",
      "  3.  business_id                    str            False     8021122     209393\n",
      "  4.  stars                          float64        False     8021122          5\n",
      "  5.  useful                         int64          False     8021122        266\n",
      "  6.  funny                          int64          False     8021122        209\n",
      "  7.  cool                           int64          False     8021122        200\n",
      "  8.  text                           str            False     8021122    7999488\n",
      "  9.  date                           str            False     8021122    7853102\n"
     ]
    }
   ],
   "source": [
    "review_json = '../yelp_dataset/yelp_academic_dataset_review.json'\n",
    "reviews_df = create_dataframe(review_json)\n",
    "df_info(reviews_df)"
   ]
  },
  {
   "cell_type": "markdown",
   "metadata": {},
   "source": [
    "> **Note :** There are `8M` instances in this dataset. With this size, training a model will take time to complete."
   ]
  },
  {
   "cell_type": "markdown",
   "metadata": {},
   "source": [
    "The problem domain is around sentiment analysis of reviews.  \n",
    "The reviews are stored in the `text` feature so other features in the reviews dataset are not needed and can be removed.  "
   ]
  },
  {
   "cell_type": "code",
   "execution_count": 13,
   "metadata": {},
   "outputs": [],
   "source": [
    "reviews_dataset = reviews_df.drop(['review_id', 'user_id', 'useful', 'funny', 'cool', 'date'], axis=1)"
   ]
  },
  {
   "cell_type": "markdown",
   "metadata": {},
   "source": [
    "Filter the restaurants/bars that are still in business using the business dataset."
   ]
  },
  {
   "cell_type": "code",
   "execution_count": 14,
   "metadata": {},
   "outputs": [
    {
     "name": "stdout",
     "output_type": "stream",
     "text": [
      "\n",
      "Shape : (4733942, 3)\n",
      "Number of duplicates : 9393\n",
      "\n",
      "              COLUMNS                DATA TYPE     HAS NULL    COUNTS    # UNIQUE\n",
      "\n",
      "  1.  business_id                    str            False     4733942      60534\n",
      "  2.  stars                          float64        False     4733942          5\n",
      "  3.  text                           str            False     4733942    4722100\n"
     ]
    }
   ],
   "source": [
    "establishments_still_in_business = eat_drink_business_df.query('is_open == 1').business_id\n",
    "reviews_dataset = reviews_dataset.query('business_id in @establishments_still_in_business')\n",
    "df_info(reviews_dataset)"
   ]
  },
  {
   "cell_type": "code",
   "execution_count": 15,
   "metadata": {
    "scrolled": true
   },
   "outputs": [
    {
     "data": {
      "text/plain": [
       "0.590184515333391"
      ]
     },
     "execution_count": 15,
     "metadata": {},
     "output_type": "execute_result"
    }
   ],
   "source": [
    "len(reviews_dataset)/len(reviews_df)"
   ]
  },
  {
   "cell_type": "markdown",
   "metadata": {},
   "source": [
    "> Considering only restaurant type establishments and those that are still in business, the reviews dataset is reduced to `59%` of its original size but with `4.7M` it is still a substantial size of data."
   ]
  },
  {
   "cell_type": "markdown",
   "metadata": {},
   "source": [
    "Since this is a type of classification type of problem, the `stars` need to be collated into three class labels, namely: `negative` (0), `neutral`(1), and `positive`(2).  Before collating, review distribution of the ratings."
   ]
  },
  {
   "cell_type": "code",
   "execution_count": 16,
   "metadata": {},
   "outputs": [
    {
     "data": {
      "image/png": "[encoded data removed]",
      "text/plain": [
       "<Figure size 360x172.8 with 1 Axes>"
      ]
     },
     "metadata": {},
     "output_type": "display_data"
    }
   ],
   "source": [
    "sns.set(style=\"white\")\n",
    "params = {'axes.spines.top':False, 'axes.spines.right': False, 'axes.spines.left': False, \n",
    "          'axes.labelsize' : 9, 'xtick.labelsize' : 9, 'ytick.labelsize' : 9}\n",
    "matplotlib.rcParams.update(params)\n",
    "fig = plt.figure(constrained_layout=True, figsize=(5, 2.4))\n",
    "ax = fig.gca()\n",
    "sns.countplot(reviews_dataset.stars, ax=ax)\n",
    "\n",
    "counts=reviews_dataset.groupby('stars').count().text\n",
    "for i, txt in enumerate(ax.get_xticklabels()):\n",
    "    count = counts[float(txt.get_text())]\n",
    "    ax.text(i-.25, count+100000, '{}'.format(count), fontdict={'fontsize': 9}, c='r')\n",
    "\n",
    "ax.set_xlabel('\\nStar Ratings')\n",
    "ax.yaxis.set_visible(False)\n",
    "fig.suptitle('\\nDistribution of Star Ratings', y=1.3, fontsize=11);\n",
    "ax.set_xticklabels(labels=[lbl.get_text().title() for lbl in ax.get_xticklabels()]);\n"
   ]
  },
  {
   "cell_type": "markdown",
   "metadata": {},
   "source": [
    "> Patrons rate establishments from 1 through 5 with 5 being the highest. The stars value will be able to provide the appropriate label to the sentiments.\n",
    "However in lieu of the star ratings, this can be collated into: negative, neutral, positive. Reviews with 1 and 2 will fall into the negative, 3 into neutral, 4 and 5 into positive."
   ]
  },
  {
   "cell_type": "code",
   "execution_count": 17,
   "metadata": {},
   "outputs": [
    {
     "data": {
      "image/png": "[encoded data removed]",
      "text/plain": [
       "<Figure size 360x172.8 with 1 Axes>"
      ]
     },
     "metadata": {},
     "output_type": "display_data"
    }
   ],
   "source": [
    "# this maps stars 1-2 -> 0, 3 - > 1, 4-5 -> 2 where 0 negative, 1 neutral, 2 is positive\n",
    "reviews_dataset['sentiment'] = reviews_dataset['stars'].map({1:0, 2:0, 3:1, 4:2, 5:2}, na_action='ignore')\n",
    "\n",
    "sns.set(style=\"white\")\n",
    "params = {'axes.spines.top':False, 'axes.spines.right': False, 'axes.spines.left': False, \n",
    "          'axes.labelsize' : 9, 'xtick.labelsize' : 9, 'ytick.labelsize' : 9}\n",
    "matplotlib.rcParams.update(params)\n",
    "fig = plt.figure(constrained_layout=True, figsize=(5, 2.4))\n",
    "ax = fig.gca()\n",
    "sns.countplot(reviews_dataset.sentiment, ax=ax)\n",
    "\n",
    "counts=reviews_dataset.groupby('sentiment').count().text\n",
    "for i, txt in enumerate(ax.get_xticklabels()):\n",
    "    count = counts[int(txt.get_text())]\n",
    "    ax.text(i-.15, count+100000, '{}'.format(count), fontdict={'fontsize': 9}, c='r')\n",
    "\n",
    "ax.set_xlabel('\\nSentiments')\n",
    "ax.yaxis.set_visible(False)\n",
    "fig.suptitle('\\nDistribution of Sentiments', y=1.3, fontsize=11);\n",
    "ax.set_xticklabels(labels=[lbl.get_text().title() for lbl in ax.get_xticklabels()]);"
   ]
  },
  {
   "cell_type": "markdown",
   "metadata": {},
   "source": [
    "> **Note :** Clearly there is an imbalance data.  The imbalance will be addressed in a separate notebook."
   ]
  },
  {
   "cell_type": "markdown",
   "metadata": {},
   "source": [
    "**Test the changes**.  All three queries should **not** return any values."
   ]
  },
  {
   "cell_type": "code",
   "execution_count": 18,
   "metadata": {},
   "outputs": [
    {
     "data": {
      "text/html": [
       "<div>\n",
       "<style scoped>\n",
       "    .dataframe tbody tr th:only-of-type {\n",
       "        vertical-align: middle;\n",
       "    }\n",
       "\n",
       "    .dataframe tbody tr th {\n",
       "        vertical-align: top;\n",
       "    }\n",
       "\n",
       "    .dataframe thead th {\n",
       "        text-align: right;\n",
       "    }\n",
       "</style>\n",
       "<table border=\"1\" class=\"dataframe\">\n",
       "  <thead>\n",
       "    <tr style=\"text-align: right;\">\n",
       "      <th></th>\n",
       "      <th>business_id</th>\n",
       "      <th>stars</th>\n",
       "      <th>text</th>\n",
       "      <th>sentiment</th>\n",
       "    </tr>\n",
       "  </thead>\n",
       "  <tbody>\n",
       "  </tbody>\n",
       "</table>\n",
       "</div>"
      ],
      "text/plain": [
       "Empty DataFrame\n",
       "Columns: [business_id, stars, text, sentiment]\n",
       "Index: []"
      ]
     },
     "execution_count": 18,
     "metadata": {},
     "output_type": "execute_result"
    },
    {
     "data": {
      "text/html": [
       "<div>\n",
       "<style scoped>\n",
       "    .dataframe tbody tr th:only-of-type {\n",
       "        vertical-align: middle;\n",
       "    }\n",
       "\n",
       "    .dataframe tbody tr th {\n",
       "        vertical-align: top;\n",
       "    }\n",
       "\n",
       "    .dataframe thead th {\n",
       "        text-align: right;\n",
       "    }\n",
       "</style>\n",
       "<table border=\"1\" class=\"dataframe\">\n",
       "  <thead>\n",
       "    <tr style=\"text-align: right;\">\n",
       "      <th></th>\n",
       "      <th>business_id</th>\n",
       "      <th>stars</th>\n",
       "      <th>text</th>\n",
       "      <th>sentiment</th>\n",
       "    </tr>\n",
       "  </thead>\n",
       "  <tbody>\n",
       "  </tbody>\n",
       "</table>\n",
       "</div>"
      ],
      "text/plain": [
       "Empty DataFrame\n",
       "Columns: [business_id, stars, text, sentiment]\n",
       "Index: []"
      ]
     },
     "execution_count": 18,
     "metadata": {},
     "output_type": "execute_result"
    },
    {
     "data": {
      "text/html": [
       "<div>\n",
       "<style scoped>\n",
       "    .dataframe tbody tr th:only-of-type {\n",
       "        vertical-align: middle;\n",
       "    }\n",
       "\n",
       "    .dataframe tbody tr th {\n",
       "        vertical-align: top;\n",
       "    }\n",
       "\n",
       "    .dataframe thead th {\n",
       "        text-align: right;\n",
       "    }\n",
       "</style>\n",
       "<table border=\"1\" class=\"dataframe\">\n",
       "  <thead>\n",
       "    <tr style=\"text-align: right;\">\n",
       "      <th></th>\n",
       "      <th>business_id</th>\n",
       "      <th>stars</th>\n",
       "      <th>text</th>\n",
       "      <th>sentiment</th>\n",
       "    </tr>\n",
       "  </thead>\n",
       "  <tbody>\n",
       "  </tbody>\n",
       "</table>\n",
       "</div>"
      ],
      "text/plain": [
       "Empty DataFrame\n",
       "Columns: [business_id, stars, text, sentiment]\n",
       "Index: []"
      ]
     },
     "execution_count": 18,
     "metadata": {},
     "output_type": "execute_result"
    }
   ],
   "source": [
    "reviews_dataset.query('stars == 3 and (sentiment == 2 or sentiment == 0)')\n",
    "reviews_dataset.query('stars < 3 and (sentiment == 1 or sentiment == 2)')\n",
    "reviews_dataset.query('stars > 3 and (sentiment == 0 or sentiment == 1)')"
   ]
  },
  {
   "cell_type": "markdown",
   "metadata": {},
   "source": [
    "Now that the sentiment feature has been created, there is no need for the stars feature and can be removed."
   ]
  },
  {
   "cell_type": "code",
   "execution_count": 19,
   "metadata": {},
   "outputs": [
    {
     "name": "stdout",
     "output_type": "stream",
     "text": [
      "\n",
      "Shape : (4733942, 3)\n",
      "Number of duplicates : 9969\n",
      "\n",
      "              COLUMNS                DATA TYPE     HAS NULL    COUNTS    # UNIQUE\n",
      "\n",
      "  1.  business_id                    str            False     4733942      60534\n",
      "  2.  text                           str            False     4733942    4722100\n",
      "  3.  sentiment                      int64          False     4733942          3\n"
     ]
    }
   ],
   "source": [
    "reviews_dataset.drop(['stars'], inplace=True, axis=1)\n",
    "\n",
    "# Review changes made on this dataset.\n",
    "df_info(reviews_dataset)"
   ]
  },
  {
   "cell_type": "markdown",
   "metadata": {},
   "source": [
    "From above `Number of duplicates`, it seems duplicates now appear in the dataset and needs to be investigated.  \n",
    "Review an example of a duplicate."
   ]
  },
  {
   "cell_type": "code",
   "execution_count": 21,
   "metadata": {},
   "outputs": [
    {
     "data": {
      "text/html": [
       "<div>\n",
       "<style scoped>\n",
       "    .dataframe tbody tr th:only-of-type {\n",
       "        vertical-align: middle;\n",
       "    }\n",
       "\n",
       "    .dataframe tbody tr th {\n",
       "        vertical-align: top;\n",
       "    }\n",
       "\n",
       "    .dataframe thead th {\n",
       "        text-align: right;\n",
       "    }\n",
       "</style>\n",
       "<table border=\"1\" class=\"dataframe\">\n",
       "  <thead>\n",
       "    <tr style=\"text-align: right;\">\n",
       "      <th></th>\n",
       "      <th>business_id</th>\n",
       "      <th>text</th>\n",
       "      <th>sentiment</th>\n",
       "    </tr>\n",
       "  </thead>\n",
       "  <tbody>\n",
       "    <tr>\n",
       "      <th>12457</th>\n",
       "      <td>yvLmGbFpfSY9YUKdabU_3g</td>\n",
       "      <td>Some cravings you just can't ignore!  Today was our first time visiting Popcorn Heaven in Ballantyne. The smells alone are worth the trip! We were immediately greeted by the sales clerk who was helping another customer. (Call me old fashioned, but I like to be acknowledged. Her smile made us feel very welcomed!) Then Daniel the owner welcomed us and explained the menu, purchase options &amp; specials. This place has folks pouring in &amp; they all knew what they wanted. While my husband and I were trying to make a decision on flavors, Daniel graciously offered samples. It was...heavenly! Deee-lish! Fresh! Popcorn Heaven also ships! Prices were great when compared to online companies. I love shopping local &amp; Popcorn Heaven will definitely be keeping my business! Oh, one last thought- Daniel said they make nice gift baskets for Valentines day. Seriously friends, give Popcorn Heaven a try!</td>\n",
       "      <td>2</td>\n",
       "    </tr>\n",
       "    <tr>\n",
       "      <th>15037</th>\n",
       "      <td>yvLmGbFpfSY9YUKdabU_3g</td>\n",
       "      <td>Some cravings you just can't ignore!  Today was our first time visiting Popcorn Heaven in Ballantyne. The smells alone are worth the trip! We were immediately greeted by the sales clerk who was helping another customer. (Call me old fashioned, but I like to be acknowledged. Her smile made us feel very welcomed!) Then Daniel the owner welcomed us and explained the menu, purchase options &amp; specials. This place has folks pouring in &amp; they all knew what they wanted. While my husband and I were trying to make a decision on flavors, Daniel graciously offered samples. It was...heavenly! Deee-lish! Fresh! Popcorn Heaven also ships! Prices were great when compared to online companies. I love shopping local &amp; Popcorn Heaven will definitely be keeping my business! Oh, one last thought- Daniel said they make nice gift baskets for Valentines day. Seriously friends, give Popcorn Heaven a try!</td>\n",
       "      <td>2</td>\n",
       "    </tr>\n",
       "  </tbody>\n",
       "</table>\n",
       "</div>"
      ],
      "text/plain": [
       "                  business_id  \\\n",
       "12457  yvLmGbFpfSY9YUKdabU_3g   \n",
       "15037  yvLmGbFpfSY9YUKdabU_3g   \n",
       "\n",
       "                                                                                                                                                                                                                                                                                                                                                                                                                                                                                                                                                                                                                                                                                                                                                                                                                                                                                                                              text  \\\n",
       "12457  Some cravings you just can't ignore!  Today was our first time visiting Popcorn Heaven in Ballantyne. The smells alone are worth the trip! We were immediately greeted by the sales clerk who was helping another customer. (Call me old fashioned, but I like to be acknowledged. Her smile made us feel very welcomed!) Then Daniel the owner welcomed us and explained the menu, purchase options & specials. This place has folks pouring in & they all knew what they wanted. While my husband and I were trying to make a decision on flavors, Daniel graciously offered samples. It was...heavenly! Deee-lish! Fresh! Popcorn Heaven also ships! Prices were great when compared to online companies. I love shopping local & Popcorn Heaven will definitely be keeping my business! Oh, one last thought- Daniel said they make nice gift baskets for Valentines day. Seriously friends, give Popcorn Heaven a try!   \n",
       "15037  Some cravings you just can't ignore!  Today was our first time visiting Popcorn Heaven in Ballantyne. The smells alone are worth the trip! We were immediately greeted by the sales clerk who was helping another customer. (Call me old fashioned, but I like to be acknowledged. Her smile made us feel very welcomed!) Then Daniel the owner welcomed us and explained the menu, purchase options & specials. This place has folks pouring in & they all knew what they wanted. While my husband and I were trying to make a decision on flavors, Daniel graciously offered samples. It was...heavenly! Deee-lish! Fresh! Popcorn Heaven also ships! Prices were great when compared to online companies. I love shopping local & Popcorn Heaven will definitely be keeping my business! Oh, one last thought- Daniel said they make nice gift baskets for Valentines day. Seriously friends, give Popcorn Heaven a try!   \n",
       "\n",
       "       sentiment  \n",
       "12457          2  \n",
       "15037          2  "
      ]
     },
     "execution_count": 21,
     "metadata": {},
     "output_type": "execute_result"
    }
   ],
   "source": [
    "reviews_dataset[1000:10500][reviews_dataset[1000:10500].duplicated(subset=['text'], keep=False)]"
   ]
  },
  {
   "cell_type": "markdown",
   "metadata": {},
   "source": [
    "> Selecting a subset/range of rows from the dataset, confirms that there are indeed duplicates.  It seems that after converting the JSON object into a dataframe, the `duplicated` function did not seem to work initially that's why it did not show up in the first round of review of the dataset."
   ]
  },
  {
   "cell_type": "markdown",
   "metadata": {},
   "source": [
    "Duplicates have no value and is a waste in resource so these need to be dropped."
   ]
  },
  {
   "cell_type": "code",
   "execution_count": 22,
   "metadata": {},
   "outputs": [
    {
     "name": "stdout",
     "output_type": "stream",
     "text": [
      "\n",
      "Shape : (4723973, 3)\n",
      "Number of duplicates : 0\n",
      "\n",
      "              COLUMNS                DATA TYPE     HAS NULL    COUNTS    # UNIQUE\n",
      "\n",
      "  1.  business_id                    str            False     4723973      60534\n",
      "  2.  text                           str            False     4723973    4722100\n",
      "  3.  sentiment                      int64          False     4723973          3\n"
     ]
    }
   ],
   "source": [
    "# capture duplicates before removing; may need metrics later on\n",
    "duplicate_rows = reviews_dataset[reviews_dataset.duplicated()]\n",
    "\n",
    "reviews_dataset.drop_duplicates(inplace=True)\n",
    "\n",
    "# Confirm duplicates no longer exist.\n",
    "df_info(reviews_dataset)"
   ]
  },
  {
   "cell_type": "markdown",
   "metadata": {},
   "source": [
    "> After the duplicates have been removed, it is odd that the unique counts for `text` does not match total counts.\n",
    "\n",
    "Check for duplicates only on text column.  There may be duplicates in text but vary in sentiment. If this is indeed true, this will affect the prediction performance of the model."
   ]
  },
  {
   "cell_type": "code",
   "execution_count": 23,
   "metadata": {},
   "outputs": [
    {
     "data": {
      "text/html": [
       "<div>\n",
       "<style scoped>\n",
       "    .dataframe tbody tr th:only-of-type {\n",
       "        vertical-align: middle;\n",
       "    }\n",
       "\n",
       "    .dataframe tbody tr th {\n",
       "        vertical-align: top;\n",
       "    }\n",
       "\n",
       "    .dataframe thead th {\n",
       "        text-align: right;\n",
       "    }\n",
       "</style>\n",
       "<table border=\"1\" class=\"dataframe\">\n",
       "  <thead>\n",
       "    <tr style=\"text-align: right;\">\n",
       "      <th></th>\n",
       "      <th>business_id</th>\n",
       "      <th>text</th>\n",
       "      <th>sentiment</th>\n",
       "    </tr>\n",
       "  </thead>\n",
       "  <tbody>\n",
       "    <tr>\n",
       "      <th>17351</th>\n",
       "      <td>7sb2FYLS2sejZKxRYF9mtg</td>\n",
       "      <td>Update: \\n\\nAlright. So even though Sakana has its days when it's super amazing. Sometime I shake my head and wonder wth is going on. Today I have officially been eating here consistently for over a year. I just met the third owner of Sakana and am wondering how is it that she co-owns this place and was puzzled when I asked for half rolls... the manager was in a panic the entire time and somehow we got someone else's roll, and jacob didn't get half of this order. Do NOT try the wasabi taco. It is soooooo Gross. And apparently week day service is absolute shit. To add to that, the only reason why we got a table so quickly is because the couple got up and left since they hadn't been serviced yet. Did I mention it took my boyfriend 25 minutes to get his credit card back. \\n\\n\\n\\n\\n-------\\nI rarely give high reviews. But I really like this place. My boyfriend and I come here all the time, at least 3 times a month. This place is really well priced for what they have. \\n\\n$23-25 all you can eat sushi, including drinks, appetizers and desserts. \\n\\nAs far as the quality of the sushi, it's not fantastic but pretty good. \\n\\nThe only downside I would have to say is, don't experiment too much. I love trying different things but usually end up regretting most of my choices. The appetizer, \"the shit\" is probably the best experimental item on the menu.\\n\\nYou may have to wave down the server a few times to order unless you sit at the bar, you only have to wave them down for non roll items</td>\n",
       "      <td>0</td>\n",
       "    </tr>\n",
       "    <tr>\n",
       "      <th>21136</th>\n",
       "      <td>7sb2FYLS2sejZKxRYF9mtg</td>\n",
       "      <td>Update: \\n\\nAlright. So even though Sakana has its days when it's super amazing. Sometime I shake my head and wonder wth is going on. Today I have officially been eating here consistently for over a year. I just met the third owner of Sakana and am wondering how is it that she co-owns this place and was puzzled when I asked for half rolls... the manager was in a panic the entire time and somehow we got someone else's roll, and jacob didn't get half of this order. Do NOT try the wasabi taco. It is soooooo Gross. And apparently week day service is absolute shit. To add to that, the only reason why we got a table so quickly is because the couple got up and left since they hadn't been serviced yet. Did I mention it took my boyfriend 25 minutes to get his credit card back. \\n\\n\\n\\n\\n-------\\nI rarely give high reviews. But I really like this place. My boyfriend and I come here all the time, at least 3 times a month. This place is really well priced for what they have. \\n\\n$23-25 all you can eat sushi, including drinks, appetizers and desserts. \\n\\nAs far as the quality of the sushi, it's not fantastic but pretty good. \\n\\nThe only downside I would have to say is, don't experiment too much. I love trying different things but usually end up regretting most of my choices. The appetizer, \"the shit\" is probably the best experimental item on the menu.\\n\\nYou may have to wave down the server a few times to order unless you sit at the bar, you only have to wave them down for non roll items</td>\n",
       "      <td>2</td>\n",
       "    </tr>\n",
       "  </tbody>\n",
       "</table>\n",
       "</div>"
      ],
      "text/plain": [
       "                  business_id  \\\n",
       "17351  7sb2FYLS2sejZKxRYF9mtg   \n",
       "21136  7sb2FYLS2sejZKxRYF9mtg   \n",
       "\n",
       "                                                                                                                                                                                                                                                                                                                                                                                                                                                                                                                                                                                                                                                                                                                                                                                                                                                                                                                                                                                                                                                                                                                                                                                                                                                                                                                                                                                                                                                                                                                                                                text  \\\n",
       "17351  Update: \\n\\nAlright. So even though Sakana has its days when it's super amazing. Sometime I shake my head and wonder wth is going on. Today I have officially been eating here consistently for over a year. I just met the third owner of Sakana and am wondering how is it that she co-owns this place and was puzzled when I asked for half rolls... the manager was in a panic the entire time and somehow we got someone else's roll, and jacob didn't get half of this order. Do NOT try the wasabi taco. It is soooooo Gross. And apparently week day service is absolute shit. To add to that, the only reason why we got a table so quickly is because the couple got up and left since they hadn't been serviced yet. Did I mention it took my boyfriend 25 minutes to get his credit card back. \\n\\n\\n\\n\\n-------\\nI rarely give high reviews. But I really like this place. My boyfriend and I come here all the time, at least 3 times a month. This place is really well priced for what they have. \\n\\n$23-25 all you can eat sushi, including drinks, appetizers and desserts. \\n\\nAs far as the quality of the sushi, it's not fantastic but pretty good. \\n\\nThe only downside I would have to say is, don't experiment too much. I love trying different things but usually end up regretting most of my choices. The appetizer, \"the shit\" is probably the best experimental item on the menu.\\n\\nYou may have to wave down the server a few times to order unless you sit at the bar, you only have to wave them down for non roll items   \n",
       "21136  Update: \\n\\nAlright. So even though Sakana has its days when it's super amazing. Sometime I shake my head and wonder wth is going on. Today I have officially been eating here consistently for over a year. I just met the third owner of Sakana and am wondering how is it that she co-owns this place and was puzzled when I asked for half rolls... the manager was in a panic the entire time and somehow we got someone else's roll, and jacob didn't get half of this order. Do NOT try the wasabi taco. It is soooooo Gross. And apparently week day service is absolute shit. To add to that, the only reason why we got a table so quickly is because the couple got up and left since they hadn't been serviced yet. Did I mention it took my boyfriend 25 minutes to get his credit card back. \\n\\n\\n\\n\\n-------\\nI rarely give high reviews. But I really like this place. My boyfriend and I come here all the time, at least 3 times a month. This place is really well priced for what they have. \\n\\n$23-25 all you can eat sushi, including drinks, appetizers and desserts. \\n\\nAs far as the quality of the sushi, it's not fantastic but pretty good. \\n\\nThe only downside I would have to say is, don't experiment too much. I love trying different things but usually end up regretting most of my choices. The appetizer, \"the shit\" is probably the best experimental item on the menu.\\n\\nYou may have to wave down the server a few times to order unless you sit at the bar, you only have to wave them down for non roll items   \n",
       "\n",
       "       sentiment  \n",
       "17351          0  \n",
       "21136          2  "
      ]
     },
     "execution_count": 23,
     "metadata": {},
     "output_type": "execute_result"
    }
   ],
   "source": [
    "reviews_dataset[10000:30000][reviews_dataset[10000:30000].text.duplicated(keep=False)]"
   ]
  },
  {
   "cell_type": "markdown",
   "metadata": {},
   "source": [
    "> As suspected, there are indeed duplicate reviews and most concerning, sentiment is different.\n",
    "\n",
    "Get a count of this anomaly."
   ]
  },
  {
   "cell_type": "code",
   "execution_count": 24,
   "metadata": {},
   "outputs": [
    {
     "data": {
      "text/plain": [
       "3591"
      ]
     },
     "execution_count": 24,
     "metadata": {},
     "output_type": "execute_result"
    }
   ],
   "source": [
    "dup_revews_anomaly = reviews_dataset[reviews_dataset.text.duplicated(keep=False)]\n",
    "len(dup_revews_anomaly)"
   ]
  },
  {
   "cell_type": "markdown",
   "metadata": {},
   "source": [
    "To avoid confusing the model, drop duplicates in the `text` feature.  However, which one should be kept since duplicate text reviews vary in sentiment?  Its difficult to gauge which of the review is genuine so all these are discarded instead."
   ]
  },
  {
   "cell_type": "code",
   "execution_count": 25,
   "metadata": {},
   "outputs": [
    {
     "name": "stdout",
     "output_type": "stream",
     "text": [
      "Number of duplicates in \"text\" column : 0\n"
     ]
    }
   ],
   "source": [
    "reviews_dataset.drop(dup_revews_anomaly.index, inplace=True)\n",
    "\n",
    "# confirm\n",
    "print('Number of duplicates in \"text\" column : {}'.format(reviews_dataset.text.duplicated().sum()))"
   ]
  },
  {
   "cell_type": "markdown",
   "metadata": {},
   "source": [
    "Next, build some level of insight in the reviews text.  This will help formulate predictive theories during model building."
   ]
  },
  {
   "cell_type": "code",
   "execution_count": 26,
   "metadata": {},
   "outputs": [
    {
     "name": "stdout",
     "output_type": "stream",
     "text": [
      "\n",
      "Statistically accepted boundary for outliers : 267\n",
      "\n"
     ]
    }
   ],
   "source": [
    "review_lengths = [len(x.split()) for x in reviews_dataset.text.values]\n",
    "\n",
    "# plot lenghts of reviews\n",
    "x=pd.Series(np.array(review_lengths))\n",
    "\n",
    "# IQR\n",
    "IQR = x.describe()['75%'] - x.describe()['25%']\n",
    "\n",
    "# IQR multiplier to set the whisker/boundary for outliers (default is 1.5)\n",
    "IQR_multiplier = 1.5\n",
    "\n",
    "# Defining threshold as the 3rd Quartile + (IQR * IQR_multiplier)\n",
    "outlier_threshold = math.floor(x.describe()['75%'] + (IQR*IQR_multiplier))\n",
    "\n",
    "print('\\nStatistically accepted boundary for outliers : {}\\n'.format(outlier_threshold))"
   ]
  },
  {
   "cell_type": "code",
   "execution_count": 27,
   "metadata": {},
   "outputs": [
    {
     "data": {
      "image/png": "[encoded data removed]",
      "text/plain": [
       "<Figure size 504x360 with 2 Axes>"
      ]
     },
     "metadata": {},
     "output_type": "display_data"
    }
   ],
   "source": [
    "params = {'axes.titlesize':'9', 'xtick.labelsize':'9', 'ytick.labelsize':'9', 'axes.spines.top':False,\n",
    "          'axes.spines.right': False}\n",
    "matplotlib.rcParams.update(params)\n",
    "fig, (ax_hist, ax_box) = plt.subplots(2, sharex=True, gridspec_kw={\"height_ratios\": (.8, .15)})\n",
    "tmp = ax_hist.set_title('\\nDistribution of Review Lengths\\n', fontdict={'fontsize': 12});\n",
    "tmp = ax_hist.set_ylabel('\\nNumber Of Instances\\n\\n', fontdict={'fontsize': 9})\n",
    "ax_hist.tick_params(bottom=\"off\", length=0)\n",
    "tmp = ax_hist.axvline(x=outlier_threshold, c='r', linestyle='--', linewidth=1)\n",
    "text = ' Statistically accepted boundary for outliers given this dataset : {}\\n'\n",
    "tmp = ax_hist.annotate(text.format(int(outlier_threshold)), (outlier_threshold+1, x.count()/10), fontsize=9, color='brown')\n",
    "ax_box.spines['left'].set_visible(False)\n",
    "ax_box.yaxis.set_visible(False)\n",
    "\n",
    "res = x.hist(figsize=(7, 5), color='lightgray', grid=False, ax=ax_hist, bins=50)\n",
    "\n",
    "for idx, rec in enumerate(res.patches):\n",
    "    if rec.xy[0] > outlier_threshold-1:\n",
    "        res.patches[idx].set_fc('brown')  \n",
    "bx = sns.boxplot(x, ax=ax_box, fliersize=3, color='lightgray', linewidth=.5, whis=IQR_multiplier)\n",
    "tmp = ax_box.set_xlabel('\\nLength of Reviews', fontdict={'fontsize': 11})\n",
    "#plt.tight_layout();"
   ]
  },
  {
   "cell_type": "markdown",
   "metadata": {},
   "source": [
    "> The distribution is highly-skewed due to some instances with extremely long reviews.  \n",
    "> There's a large distribution with short reviews.\n",
    "\n",
    "Print out examples from both short and long reviews and ensure validity."
   ]
  },
  {
   "cell_type": "code",
   "execution_count": 28,
   "metadata": {},
   "outputs": [],
   "source": [
    "long_reviews  = [ r for r in reviews_dataset.text if len(r.split()) > 267]\n",
    "short_reviews = [ r for r in reviews_dataset.text if len(r.split()) <= 2 ]"
   ]
  },
  {
   "cell_type": "code",
   "execution_count": 48,
   "metadata": {},
   "outputs": [
    {
     "data": {
      "text/plain": [
       "583                                フォーと生春巻きを頂きました。味はどちらも美味しかったですが、接客が不親切でお皿や床が汚れていました。お皿は伝えたら直ぐに取り替えてくれましたが、料理の衛生も心配になります。\n",
       "620                                                             很標準的美式餐廳，一道主餐配兩道小菜，雞肉軟嫰多汁，小朋友也喜歡，用餐環境稍微老舊，但冷門時段仍有供餐，是很難得的。\n",
       "697       紅燒牛肉麵很好吃，蘿蔔糕也不錯，鍋貼及小籠包的肉餡稍微甜了一點。燒餅不錯，可是油條炸的太油了。還有其他的台灣小吃，蚵仔煎，滷肉飯，油豆腐粉絲，大腸麵線。如果你有機會來賭城，不妨來這裡試一試。這裡的服務態度很好，老闆非常客氣。\n",
       "646                                    Our burgerをオーダー。バンズが軽く、パテがジューシーで肉の旨味がしっかり味わえました！揚げたてフレンチフライもサイコー！ウエイターもイケメン揃いでリピ決定！\n",
       "405                                                                                                            Delicious!!\n",
       "317                                                            ベガスのKorean BBQ。ちょっと値段設定は高いですが本場韓国並みに美味しかったです。オススメは冷麺。最高でした。\n",
       "168                                       這家的川菜味道不錯，可惜料變少了。\\n我來了兩次，服務冷淡，用餐環境不舒服。我們用餐的小圓桌是朔膠的，感覺好像隨時會倒，很不安全，服務人員的態度讓我不會想再去。\n",
       "632    店員さんも優しく、メニューを一から全て説明してくれました。店内も綺麗に清掃されており、バルコニーに出ることも出来るので、みなさん写真をたくさん撮っていました。アイスにしては値段が高かった気もしますが、美味しかったので良かったです。\n",
       "531                                                                         食物種類不合我的口味，但能在上飛機之前到這裡休息一陣子，還有穩定的wifi可使用，必須推介。\n",
       "447                                                          Heart\\n\\n\\nhttp://www.vernspizza.com/index.php?page=calgary-2\n",
       "dtype: object"
      ]
     },
     "execution_count": 48,
     "metadata": {},
     "output_type": "execute_result"
    }
   ],
   "source": [
    "# print some random short reviews\n",
    "pd.Series(short_reviews).sample(10, random_state=19)"
   ]
  },
  {
   "cell_type": "markdown",
   "metadata": {},
   "source": [
    "> Short reviews contain emoticons, Chinese and Japanese words, hyper-links, one-word expression, etc."
   ]
  },
  {
   "cell_type": "code",
   "execution_count": 51,
   "metadata": {},
   "outputs": [
    {
     "data": {
      "text/plain": [
       "171360    I liked this place! \\n\\nWe ordered a small jerk chicken, two pieces of the fried chicken and a fried bread dumpling, I'm not sure what this was called! The lady serving us was really sweet but it took her a while to put the food together and punch the order into the computer. I'll chalk this up to them being new. \\n\\nThe jerk chicken was pretty good. Very different from what I've had before. The sauce has more of a sweet barbecue flavour as opposed to the savory jerk flavour that I'm used to, it was good, just not what I was expecting. It was spicy and flavourful. The rice wasn't great, it was overcooked and was lacking flavour. Hopefully this is something that will be improved over time, or maybe we had an off day. The fried chicken was not bad. I don't love that this is pre-cooked and kept on a hot plate. Fried chicken should really be fresh, but I guess it's not a fried chicken restaurant so I shouldn't be expecting much. I think my favourite part of the meal was the bread dumpling that we got. We got one fresh from the oil or oven. It was warm and yeasty tasting, crunchy on the outside and fluffy and doughy on the inside. I'm not sure if it would be as good if it's been sitting for a while but the one we had was delicious! \\n\\nEverything in this restaurant is pre-made so I expect once in a while someone will get something not as fresh tasting. I get that jerk chicken can't really be made to order but fried chicken or those dough dumplings are probably better freshly made. \\n\\nThere are a number of options and stews and side dishes that look really interesting, like fried plantains, and patties, so I'll likely be back to try something else.\\n\\nThe restaurant is brand new and super clean. It's a takeout joint so not a lot of places to sit. Prices are on par with other places in the area. You can get a decent meal for around $10.\\n\\nOverall decent, I'll probably be back because it's quick, clean and tasty and prices are pretty decent!\n",
       "dtype: object"
      ]
     },
     "execution_count": 51,
     "metadata": {},
     "output_type": "execute_result"
    }
   ],
   "source": [
    "# print random long reviews\n",
    "pd.Series(long_reviews).sample(1, random_state=2)"
   ]
  },
  {
   "cell_type": "markdown",
   "metadata": {},
   "source": [
    "> This example of a long review looks valid.  Some patrons do take some time to express their experience.\n",
    "\n",
    "Clearly, the reviews need some scrubbing to remove invalid content."
   ]
  },
  {
   "cell_type": "markdown",
   "metadata": {},
   "source": [
    "`1.` Remove reviews that contains a high number of non-English characters."
   ]
  },
  {
   "cell_type": "code",
   "execution_count": 54,
   "metadata": {},
   "outputs": [
    {
     "data": {
      "application/vnd.jupyter.widget-view+json": {
       "model_id": "a2f25975d5df4524a28a8d1e56e0e3ba",
       "version_major": 2,
       "version_minor": 0
      },
      "text/plain": [
       "HBox(children=(FloatProgress(value=0.0, max=4720382.0), HTML(value='')))"
      ]
     },
     "metadata": {},
     "output_type": "display_data"
    },
    {
     "name": "stdout",
     "output_type": "stream",
     "text": [
      "\n"
     ]
    },
    {
     "data": {
      "text/plain": [
       "1695"
      ]
     },
     "execution_count": 54,
     "metadata": {},
     "output_type": "execute_result"
    },
    {
     "data": {
      "text/html": [
       "<div>\n",
       "<style scoped>\n",
       "    .dataframe tbody tr th:only-of-type {\n",
       "        vertical-align: middle;\n",
       "    }\n",
       "\n",
       "    .dataframe tbody tr th {\n",
       "        vertical-align: top;\n",
       "    }\n",
       "\n",
       "    .dataframe thead th {\n",
       "        text-align: right;\n",
       "    }\n",
       "</style>\n",
       "<table border=\"1\" class=\"dataframe\">\n",
       "  <thead>\n",
       "    <tr style=\"text-align: right;\">\n",
       "      <th></th>\n",
       "      <th>business_id</th>\n",
       "      <th>text</th>\n",
       "      <th>sentiment</th>\n",
       "    </tr>\n",
       "  </thead>\n",
       "  <tbody>\n",
       "    <tr>\n",
       "      <th>1176499</th>\n",
       "      <td>127lSDZ1lvVMrhEet6un5Q</td>\n",
       "      <td>夏天熱辣辣，去逛yonge and lawrence Festival,行到口干就想穩地方坐下飲下野。剛好經過呢間麥當勞，且做緊夏天冰沙特飲優惠。拿拿聲系自助下單機度點左。芒果冰沙的芒果味不算濃，一般啦，不過2元而已，吾要求太高了</td>\n",
       "      <td>1</td>\n",
       "    </tr>\n",
       "    <tr>\n",
       "      <th>3657823</th>\n",
       "      <td>dxeu5YQIzw0jOp1cSVkimg</td>\n",
       "      <td>値段も良心的で味も美味しい！ おススメ料理の中から 蟹味噌の天ぷらとシャケクリームコロッケを頼んだけど、その2つは ちょっと微妙だったけど、 それ以外が日本の居酒屋メニューでコッチにあまり無いメニューなどでとっても美味しくて楽しみました。 混んでた割にはすぐ入れて、働いてる人達もとっても親切でした。</td>\n",
       "      <td>2</td>\n",
       "    </tr>\n",
       "    <tr>\n",
       "      <th>5088642</th>\n",
       "      <td>39nPYUxkRn8SQY29C322UQ</td>\n",
       "      <td>有人外卖翻屋企吃，觉得不错！就记住左呢个品牌的芝士蛋糕。去开逛mall，知道呢度有门店，就八卦去看下顺便买个。系商场的一楼，店铺缩左埋最里面，圆圈设计的柜台，几得意。菜单好简单，只卖2种产品：芝士蛋糕和芝士挞。红色包装盒好适合新年或圣诞。芝士味浓度适中，中意距多吃都唔太漏</td>\n",
       "      <td>2</td>\n",
       "    </tr>\n",
       "  </tbody>\n",
       "</table>\n",
       "</div>"
      ],
      "text/plain": [
       "                    business_id  \\\n",
       "1176499  127lSDZ1lvVMrhEet6un5Q   \n",
       "3657823  dxeu5YQIzw0jOp1cSVkimg   \n",
       "5088642  39nPYUxkRn8SQY29C322UQ   \n",
       "\n",
       "                                                                                                                                                           text  \\\n",
       "1176499                                     夏天熱辣辣，去逛yonge and lawrence Festival,行到口干就想穩地方坐下飲下野。剛好經過呢間麥當勞，且做緊夏天冰沙特飲優惠。拿拿聲系自助下單機度點左。芒果冰沙的芒果味不算濃，一般啦，不過2元而已，吾要求太高了   \n",
       "3657823  値段も良心的で味も美味しい！ おススメ料理の中から 蟹味噌の天ぷらとシャケクリームコロッケを頼んだけど、その2つは ちょっと微妙だったけど、 それ以外が日本の居酒屋メニューでコッチにあまり無いメニューなどでとっても美味しくて楽しみました。 混んでた割にはすぐ入れて、働いてる人達もとっても親切でした。   \n",
       "5088642                有人外卖翻屋企吃，觉得不错！就记住左呢个品牌的芝士蛋糕。去开逛mall，知道呢度有门店，就八卦去看下顺便买个。系商场的一楼，店铺缩左埋最里面，圆圈设计的柜台，几得意。菜单好简单，只卖2种产品：芝士蛋糕和芝士挞。红色包装盒好适合新年或圣诞。芝士味浓度适中，中意距多吃都唔太漏   \n",
       "\n",
       "         sentiment  \n",
       "1176499          1  \n",
       "3657823          2  \n",
       "5088642          2  "
      ]
     },
     "execution_count": 54,
     "metadata": {},
     "output_type": "execute_result"
    }
   ],
   "source": [
    "non_english_charcode = reviews_dataset[reviews_dataset.progress_apply(lambda row: containsChineseChars(row.text), axis=1)]\n",
    "len(non_english_charcode)\n",
    "non_english_charcode.sample(3)"
   ]
  },
  {
   "cell_type": "code",
   "execution_count": 55,
   "metadata": {},
   "outputs": [],
   "source": [
    "# Drop by index\n",
    "reviews_dataset.drop(non_english_charcode.index, inplace=True)"
   ]
  },
  {
   "cell_type": "markdown",
   "metadata": {},
   "source": [
    "<br>\n",
    "\n",
    "`2.` Check for reviews that contain limited text and contain mostly hyper-text links."
   ]
  },
  {
   "cell_type": "code",
   "execution_count": 56,
   "metadata": {},
   "outputs": [
    {
     "data": {
      "application/vnd.jupyter.widget-view+json": {
       "model_id": "ffee86dc198c4076ac9f93bbc82e6ba5",
       "version_major": 2,
       "version_minor": 0
      },
      "text/plain": [
       "HBox(children=(FloatProgress(value=0.0, max=4718687.0), HTML(value='')))"
      ]
     },
     "metadata": {},
     "output_type": "display_data"
    },
    {
     "name": "stdout",
     "output_type": "stream",
     "text": [
      "\n"
     ]
    },
    {
     "data": {
      "text/plain": [
       "58"
      ]
     },
     "execution_count": 56,
     "metadata": {},
     "output_type": "execute_result"
    },
    {
     "data": {
      "text/html": [
       "<div>\n",
       "<style scoped>\n",
       "    .dataframe tbody tr th:only-of-type {\n",
       "        vertical-align: middle;\n",
       "    }\n",
       "\n",
       "    .dataframe tbody tr th {\n",
       "        vertical-align: top;\n",
       "    }\n",
       "\n",
       "    .dataframe thead th {\n",
       "        text-align: right;\n",
       "    }\n",
       "</style>\n",
       "<table border=\"1\" class=\"dataframe\">\n",
       "  <thead>\n",
       "    <tr style=\"text-align: right;\">\n",
       "      <th></th>\n",
       "      <th>business_id</th>\n",
       "      <th>text</th>\n",
       "      <th>sentiment</th>\n",
       "    </tr>\n",
       "  </thead>\n",
       "  <tbody>\n",
       "    <tr>\n",
       "      <th>1671304</th>\n",
       "      <td>bZgfnQtLXly82_XmLBqOwQ</td>\n",
       "      <td>Wow, this good personality oh, very good!!!!!!!http://www.pcbatteries.ca/</td>\n",
       "      <td>2</td>\n",
       "    </tr>\n",
       "    <tr>\n",
       "      <th>4129536</th>\n",
       "      <td>5P7zzVhWvO8nXGPdy7xqhw</td>\n",
       "      <td>https://www.saveology.com/phoenix-west\\n\\n$5 for $10 worth of Lamar's goodness!</td>\n",
       "      <td>2</td>\n",
       "    </tr>\n",
       "    <tr>\n",
       "      <th>5993423</th>\n",
       "      <td>Hx6HNJfEGgllQ3-dyoNDbA</td>\n",
       "      <td>http://www.cabarrusmagazine.com/2017/08/16/152346/cabarrus-county-restaurant-health-inspection-report-7-17-17-8-16-17-</td>\n",
       "      <td>0</td>\n",
       "    </tr>\n",
       "  </tbody>\n",
       "</table>\n",
       "</div>"
      ],
      "text/plain": [
       "                    business_id  \\\n",
       "1671304  bZgfnQtLXly82_XmLBqOwQ   \n",
       "4129536  5P7zzVhWvO8nXGPdy7xqhw   \n",
       "5993423  Hx6HNJfEGgllQ3-dyoNDbA   \n",
       "\n",
       "                                                                                                                           text  \\\n",
       "1671304                                               Wow, this good personality oh, very good!!!!!!!http://www.pcbatteries.ca/   \n",
       "4129536                                         https://www.saveology.com/phoenix-west\\n\\n$5 for $10 worth of Lamar's goodness!   \n",
       "5993423  http://www.cabarrusmagazine.com/2017/08/16/152346/cabarrus-county-restaurant-health-inspection-report-7-17-17-8-16-17-   \n",
       "\n",
       "         sentiment  \n",
       "1671304          2  \n",
       "4129536          2  \n",
       "5993423          0  "
      ]
     },
     "execution_count": 56,
     "metadata": {},
     "output_type": "execute_result"
    }
   ],
   "source": [
    "reviews_hypertext_links = reviews_dataset[reviews_dataset.progress_apply(lambda row: isHttp(row.text), axis=1)]\n",
    "len(reviews_hypertext_links)\n",
    "reviews_hypertext_links.sample(3)"
   ]
  },
  {
   "cell_type": "code",
   "execution_count": 57,
   "metadata": {},
   "outputs": [],
   "source": [
    "# Drop by index\n",
    "reviews_dataset.drop(reviews_hypertext_links.index, inplace=True)"
   ]
  },
  {
   "cell_type": "markdown",
   "metadata": {},
   "source": [
    "<br>\n",
    "\n",
    "`3.` Check and clean reviews that contain only a single word but comprises of only a series of characters with no meaning."
   ]
  },
  {
   "cell_type": "code",
   "execution_count": 58,
   "metadata": {},
   "outputs": [
    {
     "data": {
      "application/vnd.jupyter.widget-view+json": {
       "model_id": "34850b0521304bbb80c0178cd44d5dd3",
       "version_major": 2,
       "version_minor": 0
      },
      "text/plain": [
       "HBox(children=(FloatProgress(value=0.0, max=4718629.0), HTML(value='')))"
      ]
     },
     "metadata": {},
     "output_type": "display_data"
    },
    {
     "name": "stdout",
     "output_type": "stream",
     "text": [
      "\n"
     ]
    },
    {
     "data": {
      "text/plain": [
       "22"
      ]
     },
     "execution_count": 58,
     "metadata": {},
     "output_type": "execute_result"
    },
    {
     "data": {
      "text/html": [
       "<div>\n",
       "<style scoped>\n",
       "    .dataframe tbody tr th:only-of-type {\n",
       "        vertical-align: middle;\n",
       "    }\n",
       "\n",
       "    .dataframe tbody tr th {\n",
       "        vertical-align: top;\n",
       "    }\n",
       "\n",
       "    .dataframe thead th {\n",
       "        text-align: right;\n",
       "    }\n",
       "</style>\n",
       "<table border=\"1\" class=\"dataframe\">\n",
       "  <thead>\n",
       "    <tr style=\"text-align: right;\">\n",
       "      <th></th>\n",
       "      <th>business_id</th>\n",
       "      <th>text</th>\n",
       "      <th>sentiment</th>\n",
       "    </tr>\n",
       "  </thead>\n",
       "  <tbody>\n",
       "    <tr>\n",
       "      <th>5405348</th>\n",
       "      <td>dNr7VKRti8dXWE-jzfVBtQ</td>\n",
       "      <td>If.....you......want.....to.....get.....a......good......meal.....in......a........reasonable.......amount.........of......time.......then.......you.......should.......probably........look.......elsewhere.......this........restaurant........needs.......some........serious.....help.....there........are......dishes.......everywhere......servers......do.......not.......pick......up......plates.....from......tables.......it.......takes......forever.....to......get.......food.......and.......when......you......do......it.......is......usually.......luke.......warm.....I........imagine.......if.......you.....just......want......to......drink......beers.......it......would......be......fine.......but.......be.......prepared......to......wait............................forever....................to......................get.................................your........................food.....................because......................there..............................................is................no...............................................................................sense...............................of......................................................urgency.................................here.</td>\n",
       "      <td>0</td>\n",
       "    </tr>\n",
       "    <tr>\n",
       "      <th>4850243</th>\n",
       "      <td>Gml97gSULiA6HFjie01d3Q</td>\n",
       "      <td>#notedible#doubleyuk!yuk!#neveragain</td>\n",
       "      <td>2</td>\n",
       "    </tr>\n",
       "    <tr>\n",
       "      <th>2133315</th>\n",
       "      <td>_XN-GwzZwAyIqLKJsl2htg</td>\n",
       "      <td>G</td>\n",
       "      <td>0</td>\n",
       "    </tr>\n",
       "  </tbody>\n",
       "</table>\n",
       "</div>"
      ],
      "text/plain": [
       "                    business_id  \\\n",
       "5405348  dNr7VKRti8dXWE-jzfVBtQ   \n",
       "4850243  Gml97gSULiA6HFjie01d3Q   \n",
       "2133315  _XN-GwzZwAyIqLKJsl2htg   \n",
       "\n",
       "                                                                                                                                                                                                                                                                                                                                                                                                                                                                                                                                                                                                                                                                                                                                                                                                                                                                                                                                                                                                                                                                                                                                                                                                                                                                                 text  \\\n",
       "5405348  If.....you......want.....to.....get.....a......good......meal.....in......a........reasonable.......amount.........of......time.......then.......you.......should.......probably........look.......elsewhere.......this........restaurant........needs.......some........serious.....help.....there........are......dishes.......everywhere......servers......do.......not.......pick......up......plates.....from......tables.......it.......takes......forever.....to......get.......food.......and.......when......you......do......it.......is......usually.......luke.......warm.....I........imagine.......if.......you.....just......want......to......drink......beers.......it......would......be......fine.......but.......be.......prepared......to......wait............................forever....................to......................get.................................your........................food.....................because......................there..............................................is................no...............................................................................sense...............................of......................................................urgency.................................here.   \n",
       "4850243                                                                                                                                                                                                                                                                                                                                                                                                                                                                                                                                                                                                                                                                                                                                                                                                                                                                                                                                                                                                                                                                                                                                                                                                                                          #notedible#doubleyuk!yuk!#neveragain   \n",
       "2133315                                                                                                                                                                                                                                                                                                                                                                                                                                                                                                                                                                                                                                                                                                                                                                                                                                                                                                                                                                                                                                                                                                                                                                                                                                                                             G   \n",
       "\n",
       "         sentiment  \n",
       "5405348          0  \n",
       "4850243          2  \n",
       "2133315          0  "
      ]
     },
     "execution_count": 58,
     "metadata": {},
     "output_type": "execute_result"
    }
   ],
   "source": [
    "reviews_single_long_word = reviews_dataset[reviews_dataset.progress_apply(lambda row: singleLongShortWord(row.text), axis=1)]\n",
    "len(reviews_single_long_word)\n",
    "reviews_single_long_word.sample(3)"
   ]
  },
  {
   "cell_type": "code",
   "execution_count": 59,
   "metadata": {},
   "outputs": [],
   "source": [
    "# Drop by index\n",
    "reviews_dataset.drop(reviews_single_long_word.index, inplace=True)"
   ]
  },
  {
   "cell_type": "markdown",
   "metadata": {},
   "source": [
    "<br>\n",
    "\n",
    "`4.` Check and clean reviews that does not contain any text and only numeric."
   ]
  },
  {
   "cell_type": "code",
   "execution_count": 62,
   "metadata": {},
   "outputs": [
    {
     "data": {
      "application/vnd.jupyter.widget-view+json": {
       "model_id": "ac436707a6314344ac188c33d738ea97",
       "version_major": 2,
       "version_minor": 0
      },
      "text/plain": [
       "HBox(children=(FloatProgress(value=0.0, max=4718607.0), HTML(value='')))"
      ]
     },
     "metadata": {},
     "output_type": "display_data"
    },
    {
     "name": "stdout",
     "output_type": "stream",
     "text": [
      "\n"
     ]
    },
    {
     "data": {
      "text/plain": [
       "6"
      ]
     },
     "execution_count": 62,
     "metadata": {},
     "output_type": "execute_result"
    },
    {
     "data": {
      "text/html": [
       "<div>\n",
       "<style scoped>\n",
       "    .dataframe tbody tr th:only-of-type {\n",
       "        vertical-align: middle;\n",
       "    }\n",
       "\n",
       "    .dataframe tbody tr th {\n",
       "        vertical-align: top;\n",
       "    }\n",
       "\n",
       "    .dataframe thead th {\n",
       "        text-align: right;\n",
       "    }\n",
       "</style>\n",
       "<table border=\"1\" class=\"dataframe\">\n",
       "  <thead>\n",
       "    <tr style=\"text-align: right;\">\n",
       "      <th></th>\n",
       "      <th>business_id</th>\n",
       "      <th>text</th>\n",
       "      <th>sentiment</th>\n",
       "    </tr>\n",
       "  </thead>\n",
       "  <tbody>\n",
       "    <tr>\n",
       "      <th>327621</th>\n",
       "      <td>0cf-w9PK5gLkBkitL3bdqw</td>\n",
       "      <td>..</td>\n",
       "      <td>0</td>\n",
       "    </tr>\n",
       "    <tr>\n",
       "      <th>5882538</th>\n",
       "      <td>3LWsVfsSmb_Nzbi2YQ-NIA</td>\n",
       "      <td>.....\\n\\n\\n\\n\\n....???!!!</td>\n",
       "      <td>2</td>\n",
       "    </tr>\n",
       "    <tr>\n",
       "      <th>6416435</th>\n",
       "      <td>tox8x-lk9KNmGSq-fuNH9Q</td>\n",
       "      <td>好喝好吃 装修好看啊！！！！！！！！！！！！！！！！！！！？？？？？？？？？？！？！！！！！！！！！！！！！！！！！！！！！！！！！！！！！！！！！！！！！！！！！！！！！！！！！！！！！！！！！！！！！</td>\n",
       "      <td>2</td>\n",
       "    </tr>\n",
       "  </tbody>\n",
       "</table>\n",
       "</div>"
      ],
      "text/plain": [
       "                    business_id  \\\n",
       "327621   0cf-w9PK5gLkBkitL3bdqw   \n",
       "5882538  3LWsVfsSmb_Nzbi2YQ-NIA   \n",
       "6416435  tox8x-lk9KNmGSq-fuNH9Q   \n",
       "\n",
       "                                                                                                           text  \\\n",
       "327621                                                                                                       ..   \n",
       "5882538                                                                               .....\\n\\n\\n\\n\\n....???!!!   \n",
       "6416435  好喝好吃 装修好看啊！！！！！！！！！！！！！！！！！！！？？？？？？？？？？！？！！！！！！！！！！！！！！！！！！！！！！！！！！！！！！！！！！！！！！！！！！！！！！！！！！！！！！！！！！！！！   \n",
       "\n",
       "         sentiment  \n",
       "327621           0  \n",
       "5882538          2  \n",
       "6416435          2  "
      ]
     },
     "execution_count": 62,
     "metadata": {},
     "output_type": "execute_result"
    }
   ],
   "source": [
    "reviews_numeric_only = reviews_dataset[reviews_dataset.progress_apply(lambda row: not containsLetters(row.text), axis=1)]\n",
    "len(reviews_numeric_only)\n",
    "reviews_numeric_only.sample(3)"
   ]
  },
  {
   "cell_type": "code",
   "execution_count": 63,
   "metadata": {},
   "outputs": [],
   "source": [
    "# Drop by index\n",
    "reviews_dataset.drop(reviews_numeric_only.index, inplace=True)"
   ]
  },
  {
   "cell_type": "markdown",
   "metadata": {},
   "source": [
    "<br>\n",
    "\n",
    "`5.` Check and clean reviews that are not in english language."
   ]
  },
  {
   "cell_type": "code",
   "execution_count": 64,
   "metadata": {},
   "outputs": [
    {
     "data": {
      "application/vnd.jupyter.widget-view+json": {
       "model_id": "ad4edfad46764bf7a37c9e41d985d5fe",
       "version_major": 2,
       "version_minor": 0
      },
      "text/plain": [
       "HBox(children=(FloatProgress(value=0.0, max=4718601.0), HTML(value='')))"
      ]
     },
     "metadata": {},
     "output_type": "display_data"
    },
    {
     "name": "stdout",
     "output_type": "stream",
     "text": [
      "\n"
     ]
    },
    {
     "data": {
      "text/plain": [
       "29308"
      ]
     },
     "execution_count": 64,
     "metadata": {},
     "output_type": "execute_result"
    },
    {
     "data": {
      "text/html": [
       "<div>\n",
       "<style scoped>\n",
       "    .dataframe tbody tr th:only-of-type {\n",
       "        vertical-align: middle;\n",
       "    }\n",
       "\n",
       "    .dataframe tbody tr th {\n",
       "        vertical-align: top;\n",
       "    }\n",
       "\n",
       "    .dataframe thead th {\n",
       "        text-align: right;\n",
       "    }\n",
       "</style>\n",
       "<table border=\"1\" class=\"dataframe\">\n",
       "  <thead>\n",
       "    <tr style=\"text-align: right;\">\n",
       "      <th></th>\n",
       "      <th>business_id</th>\n",
       "      <th>text</th>\n",
       "      <th>sentiment</th>\n",
       "    </tr>\n",
       "  </thead>\n",
       "  <tbody>\n",
       "    <tr>\n",
       "      <th>1229048</th>\n",
       "      <td>VV2yZ-4KJau3sWRfqzzosg</td>\n",
       "      <td>Micro brasserie possibilté de prendre une petite bouchée , a noter après 23h les jeunes adultes y sont mais durant la journée on peut siroter tranquillement sans se faire bousculer!</td>\n",
       "      <td>2</td>\n",
       "    </tr>\n",
       "    <tr>\n",
       "      <th>5075148</th>\n",
       "      <td>6WJr5EokVAEEd2m0tVOupw</td>\n",
       "      <td>Le 747 est le bus desservant directement les voyageurs du centre ville jusqu'à l'aéroport et vice versa. Le trajet simple est à 10$. À savoir qu'il vaut mieux avoir l'appoint sur vous car le chauffeur ne redonne pas la monnaie. \\n\\nIl y a plusieurs formules, pour tout un weekend c'est 13$ pour la semaine (sans le weekend) c'est 20$ et pour semaine + weekend c'est 24$. Le prix reste assez élevé pour un simple trajet mais bon vous avez de quoi poser vos bagages, pas mal de place et surtout ... Il y a ... Le .... WIFI GRATUIT!!!\\n\\nLes horaires, trajets + les noms d'arrêt sont écris à la gare de Montréal ainsi qu'à l'aéroport.</td>\n",
       "      <td>2</td>\n",
       "    </tr>\n",
       "    <tr>\n",
       "      <th>4395398</th>\n",
       "      <td>rxK3qr76Ib6aYqPLCN9fUA</td>\n",
       "      <td>Une belle pâtisserie du Moyen-Orient (Irak, je crois...), bien située au centre-ville près du métro Guy.\\n\\nOn peut manger sur place, prendre un thé à la menthe et un petit gâteau ou pour emporter. \\n\\nEssayez les pâtisseries: mini baklavas, namourra et petits biscuits, ils sont délicieux et c'est super pour offrir en cadeau. Et les prix sont vraiment abordables. Quoi de mieux?</td>\n",
       "      <td>2</td>\n",
       "    </tr>\n",
       "    <tr>\n",
       "      <th>969964</th>\n",
       "      <td>7MacgLhLGiXvZoZdhgeKPw</td>\n",
       "      <td>Quel magnifique endroit ! Vintage et coquet, il y a de grandes tables où l'on peut travailler en paix (WiFi gratuit via l'Île Sans Fil). J'y allais simplement pour étudier en sirotant un café, mais impossible de résister à leur étalage de pâtisseries maison : cake au thé à la rose, sablés au chocolat à la fleur de sel, pots de crème caramel... Vraiment alléchant ! Le latte à la lavande était tout à fait original, l'arôme de lavande était bien dosé, ni trop présent ni trop subtil.  Le service était irréprochable. La musique était agréable et pas trop forte. J'ai adoré ma première visite et j'y retournerai sans faute.</td>\n",
       "      <td>2</td>\n",
       "    </tr>\n",
       "    <tr>\n",
       "      <th>3821409</th>\n",
       "      <td>mRxUCEoUUe-XsEYS1SlrTA</td>\n",
       "      <td>I love shopping at this store. Check out my YouTube video of my most recent shopping trip here. \\n\\nhttps://youtu.be/tY1Bvuegt7w\\n\\nNew video up on my YouTube channel. Link in my bio. Come along with me as I shop at my local Japanese market. #japan #japanese #japanesemarket #japanesefood #takoyaki #sushi #japanesecurry #tonkatsu #ramen #とんかつ #すし #らめん #たこやき #やきそば #のり</td>\n",
       "      <td>2</td>\n",
       "    </tr>\n",
       "  </tbody>\n",
       "</table>\n",
       "</div>"
      ],
      "text/plain": [
       "                    business_id  \\\n",
       "1229048  VV2yZ-4KJau3sWRfqzzosg   \n",
       "5075148  6WJr5EokVAEEd2m0tVOupw   \n",
       "4395398  rxK3qr76Ib6aYqPLCN9fUA   \n",
       "969964   7MacgLhLGiXvZoZdhgeKPw   \n",
       "3821409  mRxUCEoUUe-XsEYS1SlrTA   \n",
       "\n",
       "                                                                                                                                                                                                                                                                                                                                                                                                                                                                                                                                                                                                                                                            text  \\\n",
       "1229048                                                                                                                                                                                                                                                                                                                                                                                                                                                                    Micro brasserie possibilté de prendre une petite bouchée , a noter après 23h les jeunes adultes y sont mais durant la journée on peut siroter tranquillement sans se faire bousculer!   \n",
       "5075148  Le 747 est le bus desservant directement les voyageurs du centre ville jusqu'à l'aéroport et vice versa. Le trajet simple est à 10$. À savoir qu'il vaut mieux avoir l'appoint sur vous car le chauffeur ne redonne pas la monnaie. \\n\\nIl y a plusieurs formules, pour tout un weekend c'est 13$ pour la semaine (sans le weekend) c'est 20$ et pour semaine + weekend c'est 24$. Le prix reste assez élevé pour un simple trajet mais bon vous avez de quoi poser vos bagages, pas mal de place et surtout ... Il y a ... Le .... WIFI GRATUIT!!!\\n\\nLes horaires, trajets + les noms d'arrêt sont écris à la gare de Montréal ainsi qu'à l'aéroport.   \n",
       "4395398                                                                                                                                                                                                                                                             Une belle pâtisserie du Moyen-Orient (Irak, je crois...), bien située au centre-ville près du métro Guy.\\n\\nOn peut manger sur place, prendre un thé à la menthe et un petit gâteau ou pour emporter. \\n\\nEssayez les pâtisseries: mini baklavas, namourra et petits biscuits, ils sont délicieux et c'est super pour offrir en cadeau. Et les prix sont vraiment abordables. Quoi de mieux?   \n",
       "969964           Quel magnifique endroit ! Vintage et coquet, il y a de grandes tables où l'on peut travailler en paix (WiFi gratuit via l'Île Sans Fil). J'y allais simplement pour étudier en sirotant un café, mais impossible de résister à leur étalage de pâtisseries maison : cake au thé à la rose, sablés au chocolat à la fleur de sel, pots de crème caramel... Vraiment alléchant ! Le latte à la lavande était tout à fait original, l'arôme de lavande était bien dosé, ni trop présent ni trop subtil.  Le service était irréprochable. La musique était agréable et pas trop forte. J'ai adoré ma première visite et j'y retournerai sans faute.   \n",
       "3821409                                                                                                                                                                                                                                                                         I love shopping at this store. Check out my YouTube video of my most recent shopping trip here. \\n\\nhttps://youtu.be/tY1Bvuegt7w\\n\\nNew video up on my YouTube channel. Link in my bio. Come along with me as I shop at my local Japanese market. #japan #japanese #japanesemarket #japanesefood #takoyaki #sushi #japanesecurry #tonkatsu #ramen #とんかつ #すし #らめん #たこやき #やきそば #のり   \n",
       "\n",
       "         sentiment  \n",
       "1229048          2  \n",
       "5075148          2  \n",
       "4395398          2  \n",
       "969964           2  \n",
       "3821409          2  "
      ]
     },
     "execution_count": 64,
     "metadata": {},
     "output_type": "execute_result"
    }
   ],
   "source": [
    "non_english_language = reviews_dataset[reviews_dataset.progress_apply(lambda row: not in_english(row.text), axis=1)]\n",
    "len(non_english_language)\n",
    "non_english_language.sample(5)"
   ]
  },
  {
   "cell_type": "code",
   "execution_count": 78,
   "metadata": {},
   "outputs": [],
   "source": [
    "# Drop by index\n",
    "reviews_dataset.drop(non_english_language.index, inplace=True)"
   ]
  },
  {
   "cell_type": "code",
   "execution_count": null,
   "metadata": {},
   "outputs": [],
   "source": []
  },
  {
   "cell_type": "markdown",
   "metadata": {},
   "source": [
    "Combine all the bad data identified in steps 1 - 5 and then save for analysis later on so that we don't need to run the cleaning process again which takes a long time to complete.\n",
    "\n",
    "- non_english_charcode  \n",
    "- reviews_hypertext_links  \n",
    "- reviews_single_long_word  \n",
    "- reviews_numeric_only  \n",
    "- non_english_language"
   ]
  },
  {
   "cell_type": "code",
   "execution_count": 76,
   "metadata": {},
   "outputs": [],
   "source": [
    "# individual sets of bad data\n",
    "non_english_charcode.to_csv('../yelp_dataset/non_english_charcode.csv', index=False)\n",
    "reviews_hypertext_links.to_csv('../yelp_dataset/reviews_hypertext_links.csv', index=False)\n",
    "reviews_single_long_word.to_csv('../yelp_dataset/reviews_single_long_word.csv', index=False)\n",
    "reviews_numeric_only.to_csv('../yelp_dataset/reviews_numeric_only.csv', index=False)\n",
    "non_english_language.to_csv('../yelp_dataset/non_english_language.csv', index=False)\n",
    "\n",
    "# concatenation of the individual files\n",
    "bad_data = pd.concat([non_english_charcode, reviews_hypertext_links, reviews_single_long_word, \n",
    "                      reviews_numeric_only, non_english_language])\n",
    "bad_data.to_csv('../yelp_dataset/bad_data.csv', index=False)"
   ]
  },
  {
   "cell_type": "markdown",
   "metadata": {},
   "source": [
    "Review the collected data that were removed from the dataset."
   ]
  },
  {
   "cell_type": "code",
   "execution_count": 73,
   "metadata": {},
   "outputs": [
    {
     "name": "stdout",
     "output_type": "stream",
     "text": [
      "\n",
      "Shape : (31089, 3)\n",
      "Number of duplicates : 0\n",
      "\n",
      "              COLUMNS                DATA TYPE     HAS NULL    COUNTS    # UNIQUE\n",
      "\n",
      "  1.  business_id                    str            False       31089       9626\n",
      "  2.  text                           str            False       31089      31089\n",
      "  3.  sentiment                      int64          False       31089          3\n"
     ]
    }
   ],
   "source": [
    "df_info(bad_data)"
   ]
  },
  {
   "cell_type": "markdown",
   "metadata": {},
   "source": [
    "> There were 31K total bad data removed from the dataset."
   ]
  },
  {
   "cell_type": "code",
   "execution_count": null,
   "metadata": {},
   "outputs": [],
   "source": []
  },
  {
   "cell_type": "markdown",
   "metadata": {},
   "source": [
    "Review the cleaned dataset."
   ]
  },
  {
   "cell_type": "code",
   "execution_count": 79,
   "metadata": {},
   "outputs": [
    {
     "name": "stdout",
     "output_type": "stream",
     "text": [
      "\n",
      "Shape : (4689293, 3)\n",
      "Number of duplicates : 0\n",
      "\n",
      "              COLUMNS                DATA TYPE     HAS NULL    COUNTS    # UNIQUE\n",
      "\n",
      "  1.  business_id                    str            False     4689293      60460\n",
      "  2.  text                           str            False     4689293    4689293\n",
      "  3.  sentiment                      int64          False     4689293          3\n"
     ]
    }
   ],
   "source": [
    "df_info(reviews_dataset)"
   ]
  },
  {
   "cell_type": "markdown",
   "metadata": {},
   "source": [
    "TO-DO:  Any additional insight?"
   ]
  },
  {
   "cell_type": "code",
   "execution_count": null,
   "metadata": {},
   "outputs": [],
   "source": []
  },
  {
   "cell_type": "code",
   "execution_count": null,
   "metadata": {},
   "outputs": [],
   "source": []
  },
  {
   "cell_type": "code",
   "execution_count": null,
   "metadata": {},
   "outputs": [],
   "source": []
  },
  {
   "cell_type": "code",
   "execution_count": null,
   "metadata": {},
   "outputs": [],
   "source": []
  },
  {
   "cell_type": "markdown",
   "metadata": {},
   "source": [
    "#### Persist changes and load dataset and review."
   ]
  },
  {
   "cell_type": "code",
   "execution_count": 80,
   "metadata": {},
   "outputs": [],
   "source": [
    "# Persist changes to a separate file.\n",
    "reviews_dataset.to_csv('../yelp_dataset/reviews_dataset.csv', index=False)"
   ]
  },
  {
   "cell_type": "markdown",
   "metadata": {},
   "source": [
    "As a sanity check, load the data and review."
   ]
  },
  {
   "cell_type": "code",
   "execution_count": 81,
   "metadata": {},
   "outputs": [
    {
     "name": "stdout",
     "output_type": "stream",
     "text": [
      "\n",
      "Shape : (4689293, 3)\n",
      "Number of duplicates : 0\n",
      "\n",
      "              COLUMNS                DATA TYPE     HAS NULL    COUNTS    # UNIQUE\n",
      "\n",
      "  1.  business_id                    str            False     4689293      60460\n",
      "  2.  text                           str             True     4689292    4689292\n",
      "  3.  sentiment                      int64          False     4689293          3\n"
     ]
    }
   ],
   "source": [
    "temp = pd.read_csv('../yelp_dataset/reviews_dataset.csv')\n",
    "df_info(temp)"
   ]
  },
  {
   "cell_type": "markdown",
   "metadata": {},
   "source": [
    "> Initially the dataset did not have any NA values but after re-loading, it now appears we do. This is because 'N/A' was interpreted as string during JSON conversion but is now recognized by pandas as a NA value after reloading the dataset.  \n",
    "\n",
    "Since NA values in text does not provide any meaningful data, these will have to be dropped.  Verify change one more time and then persist the new updates."
   ]
  },
  {
   "cell_type": "code",
   "execution_count": 82,
   "metadata": {},
   "outputs": [
    {
     "name": "stdout",
     "output_type": "stream",
     "text": [
      "\n",
      "Shape : (4689292, 3)\n",
      "Number of duplicates : 0\n",
      "\n",
      "              COLUMNS                DATA TYPE     HAS NULL    COUNTS    # UNIQUE\n",
      "\n",
      "  1.  business_id                    str            False     4689292      60460\n",
      "  2.  text                           str            False     4689292    4689292\n",
      "  3.  sentiment                      int64          False     4689292          3\n"
     ]
    }
   ],
   "source": [
    "# drop nulls\n",
    "temp.dropna(inplace=True)\n",
    "df_info(temp)"
   ]
  },
  {
   "cell_type": "markdown",
   "metadata": {},
   "source": [
    "> Dataset looks much cleaner."
   ]
  },
  {
   "cell_type": "code",
   "execution_count": 83,
   "metadata": {},
   "outputs": [],
   "source": [
    "# Persist changes.\n",
    "temp.to_csv('../yelp_dataset/reviews_dataset.csv', index=False)"
   ]
  },
  {
   "cell_type": "code",
   "execution_count": null,
   "metadata": {},
   "outputs": [],
   "source": []
  }
 ],
 "metadata": {
  "kernelspec": {
   "display_name": "Python 3",
   "language": "python",
   "name": "python3"
  },
  "language_info": {
   "codemirror_mode": {
    "name": "ipython",
    "version": 3
   },
   "file_extension": ".py",
   "mimetype": "text/x-python",
   "name": "python",
   "nbconvert_exporter": "python",
   "pygments_lexer": "ipython3",
   "version": "3.7.9"
  },
  "widgets": {
   "application/vnd.jupyter.widget-state+json": {
    "state": {
     "057ac9b4ea8f45c39707930f9125170d": {
      "model_module": "@jupyter-widgets/controls",
      "model_module_version": "1.5.0",
      "model_name": "FloatProgressModel",
      "state": {
       "bar_style": "success",
       "description": "100%",
       "layout": "IPY_MODEL_b6138dfe9d2e4ea3b25d1b8b95e2e3b7",
       "max": 4718601,
       "style": "IPY_MODEL_857cb23b364d4bfca96ff1264f0d9dec",
       "value": 4718601
      }
     },
     "063eee08a67946b1b7660dd7d06b39b0": {
      "model_module": "@jupyter-widgets/controls",
      "model_module_version": "1.5.0",
      "model_name": "FloatProgressModel",
      "state": {
       "bar_style": "danger",
       "description": "  0%",
       "layout": "IPY_MODEL_cd197a0c80764c8286a46aeb9f624cdb",
       "max": 4718607,
       "style": "IPY_MODEL_98d241baa74d4a9eadc92286211db0db",
       "value": 1
      }
     },
     "08c472110c984189ace8651fdcf7452a": {
      "model_module": "@jupyter-widgets/controls",
      "model_module_version": "1.5.0",
      "model_name": "HTMLModel",
      "state": {
       "layout": "IPY_MODEL_24c9ac9be7d947b2a55fca9620ece132",
       "style": "IPY_MODEL_d4c15904cd7349919a0b03df44c63ece",
       "value": " 4718629/4718629 [04:14&lt;00:00, 18518.24it/s]"
      }
     },
     "0f2b510139384d86b6ace57c299c3ee1": {
      "model_module": "@jupyter-widgets/base",
      "model_module_version": "1.2.0",
      "model_name": "LayoutModel",
      "state": {}
     },
     "1225df5e98464e68ac059cadd9881a1d": {
      "model_module": "@jupyter-widgets/base",
      "model_module_version": "1.2.0",
      "model_name": "LayoutModel",
      "state": {}
     },
     "13d0c80319c846d3bf62cc8c23cbfcda": {
      "model_module": "@jupyter-widgets/base",
      "model_module_version": "1.2.0",
      "model_name": "LayoutModel",
      "state": {}
     },
     "224b4c54da07454b8f40f7e6b59b5cea": {
      "model_module": "@jupyter-widgets/controls",
      "model_module_version": "1.5.0",
      "model_name": "FloatProgressModel",
      "state": {
       "bar_style": "success",
       "description": "100%",
       "layout": "IPY_MODEL_3db50d17cbf340f49f061ea3185fbf2b",
       "max": 4718629,
       "style": "IPY_MODEL_45d7ec471a4c4cfcbda4c79f611e4930",
       "value": 4718629
      }
     },
     "22f5eb1c85764536af413005df5c945a": {
      "model_module": "@jupyter-widgets/controls",
      "model_module_version": "1.5.0",
      "model_name": "HTMLModel",
      "state": {
       "layout": "IPY_MODEL_13d0c80319c846d3bf62cc8c23cbfcda",
       "style": "IPY_MODEL_d7469236fb784d3492fb24cdd34f5185",
       "value": " 4720382/4720382 [33:26&lt;00:00, 2352.63it/s]"
      }
     },
     "238e092a0819416c96f1d4243f27c655": {
      "model_module": "@jupyter-widgets/controls",
      "model_module_version": "1.5.0",
      "model_name": "DescriptionStyleModel",
      "state": {
       "description_width": ""
      }
     },
     "24c9ac9be7d947b2a55fca9620ece132": {
      "model_module": "@jupyter-widgets/base",
      "model_module_version": "1.2.0",
      "model_name": "LayoutModel",
      "state": {}
     },
     "286c6efecc874b87a42bb12759c802db": {
      "model_module": "@jupyter-widgets/controls",
      "model_module_version": "1.5.0",
      "model_name": "ProgressStyleModel",
      "state": {
       "description_width": "initial"
      }
     },
     "34850b0521304bbb80c0178cd44d5dd3": {
      "model_module": "@jupyter-widgets/controls",
      "model_module_version": "1.5.0",
      "model_name": "HBoxModel",
      "state": {
       "children": [
        "IPY_MODEL_224b4c54da07454b8f40f7e6b59b5cea",
        "IPY_MODEL_08c472110c984189ace8651fdcf7452a"
       ],
       "layout": "IPY_MODEL_5cfb102a8f704217979abcfad79e4b4f"
      }
     },
     "35145c7fb16845598acd9ded5f407c37": {
      "model_module": "@jupyter-widgets/base",
      "model_module_version": "1.2.0",
      "model_name": "LayoutModel",
      "state": {}
     },
     "376733c87eef4fa99fe92ae65c5e6961": {
      "model_module": "@jupyter-widgets/controls",
      "model_module_version": "1.5.0",
      "model_name": "ProgressStyleModel",
      "state": {
       "description_width": "initial"
      }
     },
     "3db50d17cbf340f49f061ea3185fbf2b": {
      "model_module": "@jupyter-widgets/base",
      "model_module_version": "1.2.0",
      "model_name": "LayoutModel",
      "state": {}
     },
     "45d7ec471a4c4cfcbda4c79f611e4930": {
      "model_module": "@jupyter-widgets/controls",
      "model_module_version": "1.5.0",
      "model_name": "ProgressStyleModel",
      "state": {
       "description_width": "initial"
      }
     },
     "47353cca173749d8bbe56ef73a7dfd8f": {
      "model_module": "@jupyter-widgets/controls",
      "model_module_version": "1.5.0",
      "model_name": "HTMLModel",
      "state": {
       "layout": "IPY_MODEL_5be385d7748744a79eb3fe6dc4a759c7",
       "style": "IPY_MODEL_238e092a0819416c96f1d4243f27c655",
       "value": " 1/4718607 [00:00&lt;638:23:26,  2.05it/s]"
      }
     },
     "48fbec14c4724a408bbd0300bf52ed5e": {
      "model_module": "@jupyter-widgets/controls",
      "model_module_version": "1.5.0",
      "model_name": "DescriptionStyleModel",
      "state": {
       "description_width": ""
      }
     },
     "4f10c366a548443186425e90a45b6dab": {
      "model_module": "@jupyter-widgets/controls",
      "model_module_version": "1.5.0",
      "model_name": "DescriptionStyleModel",
      "state": {
       "description_width": ""
      }
     },
     "4fcb7807d56a4f7aaef79b29b214b248": {
      "model_module": "@jupyter-widgets/controls",
      "model_module_version": "1.5.0",
      "model_name": "HTMLModel",
      "state": {
       "layout": "IPY_MODEL_35145c7fb16845598acd9ded5f407c37",
       "style": "IPY_MODEL_4f10c366a548443186425e90a45b6dab",
       "value": " 4718601/4718601 [21:49:34&lt;00:00, 60.05it/s]"
      }
     },
     "553d2718a854483ba5ccae743b75ec8b": {
      "model_module": "@jupyter-widgets/controls",
      "model_module_version": "1.5.0",
      "model_name": "FloatProgressModel",
      "state": {
       "bar_style": "success",
       "description": "100%",
       "layout": "IPY_MODEL_87ec0f0237664832a851286137521ad2",
       "max": 4718687,
       "style": "IPY_MODEL_753473211c8047b09656dddbb3dbb911",
       "value": 4718687
      }
     },
     "5a8767966fea4e02a2baba13adf957c3": {
      "model_module": "@jupyter-widgets/base",
      "model_module_version": "1.2.0",
      "model_name": "LayoutModel",
      "state": {}
     },
     "5be385d7748744a79eb3fe6dc4a759c7": {
      "model_module": "@jupyter-widgets/base",
      "model_module_version": "1.2.0",
      "model_name": "LayoutModel",
      "state": {}
     },
     "5cfb102a8f704217979abcfad79e4b4f": {
      "model_module": "@jupyter-widgets/base",
      "model_module_version": "1.2.0",
      "model_name": "LayoutModel",
      "state": {}
     },
     "65e32396c5bb42f28af877969a011dd8": {
      "model_module": "@jupyter-widgets/controls",
      "model_module_version": "1.5.0",
      "model_name": "HTMLModel",
      "state": {
       "layout": "IPY_MODEL_c5936dc9ce14410080d0fc049258adde",
       "style": "IPY_MODEL_48fbec14c4724a408bbd0300bf52ed5e",
       "value": " 4718607/4718607 [7:06:03&lt;00:00, 184.59it/s]"
      }
     },
     "69e6eb448f6342f891372ba7ef63e5de": {
      "model_module": "@jupyter-widgets/controls",
      "model_module_version": "1.5.0",
      "model_name": "DescriptionStyleModel",
      "state": {
       "description_width": ""
      }
     },
     "729e764e533c446c90c5ee6aaabc76a5": {
      "model_module": "@jupyter-widgets/controls",
      "model_module_version": "1.5.0",
      "model_name": "DescriptionStyleModel",
      "state": {
       "description_width": ""
      }
     },
     "72dcbaf154b7421b9bb3fd3d37669e76": {
      "model_module": "@jupyter-widgets/controls",
      "model_module_version": "1.5.0",
      "model_name": "HBoxModel",
      "state": {
       "children": [
        "IPY_MODEL_063eee08a67946b1b7660dd7d06b39b0",
        "IPY_MODEL_47353cca173749d8bbe56ef73a7dfd8f"
       ],
       "layout": "IPY_MODEL_d9c0533ebb334ddcac7439fd5b12b4d6"
      }
     },
     "753473211c8047b09656dddbb3dbb911": {
      "model_module": "@jupyter-widgets/controls",
      "model_module_version": "1.5.0",
      "model_name": "ProgressStyleModel",
      "state": {
       "description_width": "initial"
      }
     },
     "790112e04b414fa4928d5e1da30ba7f3": {
      "model_module": "@jupyter-widgets/controls",
      "model_module_version": "1.5.0",
      "model_name": "FloatProgressModel",
      "state": {
       "bar_style": "success",
       "description": "100%",
       "layout": "IPY_MODEL_9ae2ed4d593047768d4405e03d459824",
       "max": 4718607,
       "style": "IPY_MODEL_7e390dce10c34cdab388d1df82e659a6",
       "value": 4718607
      }
     },
     "7e390dce10c34cdab388d1df82e659a6": {
      "model_module": "@jupyter-widgets/controls",
      "model_module_version": "1.5.0",
      "model_name": "ProgressStyleModel",
      "state": {
       "description_width": "initial"
      }
     },
     "857cb23b364d4bfca96ff1264f0d9dec": {
      "model_module": "@jupyter-widgets/controls",
      "model_module_version": "1.5.0",
      "model_name": "ProgressStyleModel",
      "state": {
       "description_width": "initial"
      }
     },
     "87ec0f0237664832a851286137521ad2": {
      "model_module": "@jupyter-widgets/base",
      "model_module_version": "1.2.0",
      "model_name": "LayoutModel",
      "state": {}
     },
     "88d5cfdb42424d18ad447dd9e22b1c09": {
      "model_module": "@jupyter-widgets/controls",
      "model_module_version": "1.5.0",
      "model_name": "HBoxModel",
      "state": {
       "children": [
        "IPY_MODEL_ede462c19ffd4d449464a720d552a5b7",
        "IPY_MODEL_f2659d9a7a6d4ae4ba9d2d16bda50992"
       ],
       "layout": "IPY_MODEL_0f2b510139384d86b6ace57c299c3ee1"
      }
     },
     "98d241baa74d4a9eadc92286211db0db": {
      "model_module": "@jupyter-widgets/controls",
      "model_module_version": "1.5.0",
      "model_name": "ProgressStyleModel",
      "state": {
       "description_width": "initial"
      }
     },
     "9ae2ed4d593047768d4405e03d459824": {
      "model_module": "@jupyter-widgets/base",
      "model_module_version": "1.2.0",
      "model_name": "LayoutModel",
      "state": {}
     },
     "9afd136e8a33448ba9a966fc423aefe1": {
      "model_module": "@jupyter-widgets/base",
      "model_module_version": "1.2.0",
      "model_name": "LayoutModel",
      "state": {}
     },
     "a2f25975d5df4524a28a8d1e56e0e3ba": {
      "model_module": "@jupyter-widgets/controls",
      "model_module_version": "1.5.0",
      "model_name": "HBoxModel",
      "state": {
       "children": [
        "IPY_MODEL_d74cf2ac456347caaa46cd6999f655ca",
        "IPY_MODEL_22f5eb1c85764536af413005df5c945a"
       ],
       "layout": "IPY_MODEL_1225df5e98464e68ac059cadd9881a1d"
      }
     },
     "a8032598ddc14c11bb5a2c9bb5431ebe": {
      "model_module": "@jupyter-widgets/base",
      "model_module_version": "1.2.0",
      "model_name": "LayoutModel",
      "state": {}
     },
     "ac436707a6314344ac188c33d738ea97": {
      "model_module": "@jupyter-widgets/controls",
      "model_module_version": "1.5.0",
      "model_name": "HBoxModel",
      "state": {
       "children": [
        "IPY_MODEL_790112e04b414fa4928d5e1da30ba7f3",
        "IPY_MODEL_65e32396c5bb42f28af877969a011dd8"
       ],
       "layout": "IPY_MODEL_c98400b4c6de4607b78d02dc7bd9af79"
      }
     },
     "ad4edfad46764bf7a37c9e41d985d5fe": {
      "model_module": "@jupyter-widgets/controls",
      "model_module_version": "1.5.0",
      "model_name": "HBoxModel",
      "state": {
       "children": [
        "IPY_MODEL_057ac9b4ea8f45c39707930f9125170d",
        "IPY_MODEL_4fcb7807d56a4f7aaef79b29b214b248"
       ],
       "layout": "IPY_MODEL_bae7fcc616764772ab66896d6dd532d6"
      }
     },
     "b6138dfe9d2e4ea3b25d1b8b95e2e3b7": {
      "model_module": "@jupyter-widgets/base",
      "model_module_version": "1.2.0",
      "model_name": "LayoutModel",
      "state": {}
     },
     "bae7fcc616764772ab66896d6dd532d6": {
      "model_module": "@jupyter-widgets/base",
      "model_module_version": "1.2.0",
      "model_name": "LayoutModel",
      "state": {}
     },
     "c111828ac7df469aa56bad4aa12315e3": {
      "model_module": "@jupyter-widgets/base",
      "model_module_version": "1.2.0",
      "model_name": "LayoutModel",
      "state": {}
     },
     "c5936dc9ce14410080d0fc049258adde": {
      "model_module": "@jupyter-widgets/base",
      "model_module_version": "1.2.0",
      "model_name": "LayoutModel",
      "state": {}
     },
     "c98400b4c6de4607b78d02dc7bd9af79": {
      "model_module": "@jupyter-widgets/base",
      "model_module_version": "1.2.0",
      "model_name": "LayoutModel",
      "state": {}
     },
     "cd197a0c80764c8286a46aeb9f624cdb": {
      "model_module": "@jupyter-widgets/base",
      "model_module_version": "1.2.0",
      "model_name": "LayoutModel",
      "state": {}
     },
     "d4c15904cd7349919a0b03df44c63ece": {
      "model_module": "@jupyter-widgets/controls",
      "model_module_version": "1.5.0",
      "model_name": "DescriptionStyleModel",
      "state": {
       "description_width": ""
      }
     },
     "d7469236fb784d3492fb24cdd34f5185": {
      "model_module": "@jupyter-widgets/controls",
      "model_module_version": "1.5.0",
      "model_name": "DescriptionStyleModel",
      "state": {
       "description_width": ""
      }
     },
     "d74cf2ac456347caaa46cd6999f655ca": {
      "model_module": "@jupyter-widgets/controls",
      "model_module_version": "1.5.0",
      "model_name": "FloatProgressModel",
      "state": {
       "bar_style": "success",
       "description": "100%",
       "layout": "IPY_MODEL_a8032598ddc14c11bb5a2c9bb5431ebe",
       "max": 4720382,
       "style": "IPY_MODEL_286c6efecc874b87a42bb12759c802db",
       "value": 4720382
      }
     },
     "d9c0533ebb334ddcac7439fd5b12b4d6": {
      "model_module": "@jupyter-widgets/base",
      "model_module_version": "1.2.0",
      "model_name": "LayoutModel",
      "state": {}
     },
     "ede462c19ffd4d449464a720d552a5b7": {
      "model_module": "@jupyter-widgets/controls",
      "model_module_version": "1.5.0",
      "model_name": "FloatProgressModel",
      "state": {
       "bar_style": "danger",
       "description": "  0%",
       "layout": "IPY_MODEL_c111828ac7df469aa56bad4aa12315e3",
       "max": 4720382,
       "style": "IPY_MODEL_376733c87eef4fa99fe92ae65c5e6961",
       "value": 1
      }
     },
     "f0051a71f74f4f3a8916f3e6867ea3f8": {
      "model_module": "@jupyter-widgets/controls",
      "model_module_version": "1.5.0",
      "model_name": "HTMLModel",
      "state": {
       "layout": "IPY_MODEL_f7ebd578244149acb2445cee6c4b829e",
       "style": "IPY_MODEL_729e764e533c446c90c5ee6aaabc76a5",
       "value": " 4718687/4718687 [03:27&lt;00:00, 22776.88it/s]"
      }
     },
     "f2659d9a7a6d4ae4ba9d2d16bda50992": {
      "model_module": "@jupyter-widgets/controls",
      "model_module_version": "1.5.0",
      "model_name": "HTMLModel",
      "state": {
       "layout": "IPY_MODEL_9afd136e8a33448ba9a966fc423aefe1",
       "style": "IPY_MODEL_69e6eb448f6342f891372ba7ef63e5de",
       "value": " 1/4720382 [39:32&lt;3111394:07:59, 2372.91s/it]"
      }
     },
     "f7ebd578244149acb2445cee6c4b829e": {
      "model_module": "@jupyter-widgets/base",
      "model_module_version": "1.2.0",
      "model_name": "LayoutModel",
      "state": {}
     },
     "ffee86dc198c4076ac9f93bbc82e6ba5": {
      "model_module": "@jupyter-widgets/controls",
      "model_module_version": "1.5.0",
      "model_name": "HBoxModel",
      "state": {
       "children": [
        "IPY_MODEL_553d2718a854483ba5ccae743b75ec8b",
        "IPY_MODEL_f0051a71f74f4f3a8916f3e6867ea3f8"
       ],
       "layout": "IPY_MODEL_5a8767966fea4e02a2baba13adf957c3"
      }
     }
    },
    "version_major": 2,
    "version_minor": 0
   }
  }
 },
 "nbformat": 4,
 "nbformat_minor": 4
}
