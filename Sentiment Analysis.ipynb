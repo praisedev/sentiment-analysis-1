{
 "cells": [
  {
   "cell_type": "code",
   "execution_count": 70,
   "metadata": {},
   "outputs": [],
   "source": [
    "import json\n",
    "import matplotlib\n",
    "import matplotlib.pyplot as plt\n",
    "import numpy as np\n",
    "import pandas as pd\n",
    "import seaborn as sns\n",
    "import datetime\n",
    "\n",
    "# 3rd-part library for managing imbalanced data.\n",
    "from imblearn.under_sampling import RandomUnderSampler\n",
    "from IPython.core.interactiveshell import InteractiveShell\n",
    "from tensorflow.keras.preprocessing.text import Tokenizer\n"
   ]
  },
  {
   "cell_type": "code",
   "execution_count": 71,
   "metadata": {},
   "outputs": [],
   "source": [
    "\n",
    "%matplotlib inline\n",
    "\n",
    "# Set dataframe options to keep long data in columns from being truncated with ellipsis (...)\n",
    "pd.set_option('max_colwidth', None)\n",
    "\n",
    "# Set dataframe options to force display max columns\n",
    "pd.set_option('display.max_columns', 90)\n",
    "pd.set_option('display.max_rows', 90)\n",
    "\n",
    "InteractiveShell.ast_node_interactivity = \"all\"\n",
    "\n",
    "random_state = 42\n"
   ]
  },
  {
   "cell_type": "code",
   "execution_count": 72,
   "metadata": {},
   "outputs": [],
   "source": [
    "\n",
    "def create_dataframe(file_path):\n",
    "    '''\n",
    "    Create a pandas dataframe from a JSON file indicated by the parameter file_path\n",
    "    '''\n",
    "    data = []\n",
    "    with open(file_path, encoding=\"utf8\") as f:\n",
    "        for jsonObj in f:\n",
    "            data.append(json.loads(jsonObj))\n",
    "    return pd.DataFrame(data)\n",
    "\n",
    "\n",
    "def df_info(df):\n",
    "    '''\n",
    "    A helper function - similar in functionality with `df.info()` but includes combined features: df.columns, df.dtypes, \n",
    "    df.isnull(), df.info(), df.nunique()\n",
    "    '''\n",
    "    print('\\nShape : {}'.format(df.shape))\n",
    "    print('Number of duplicates : {}\\n'.format(df.duplicated().sum()))\n",
    "\n",
    "    print('{:^35} {:^12} {:^12} {:^8} {:>10}\\n'.format('COLUMNS', 'DATA TYPE', 'HAS NULL', 'COUNTS', '# UNIQUE'))\n",
    "    for i, v in enumerate(df.columns):\n",
    "        col = df[v]\n",
    "        dtype = type(col.iloc[0]).__name__\n",
    "        \n",
    "        if dtype=='dict':\n",
    "            keys = set([item for val in col.values if val is not None for item in list(val.keys())])\n",
    "            col_nunique = len(keys)\n",
    "        else:\n",
    "            col_nunique = col.nunique()\n",
    "        \n",
    "        print(' {:>2}.  {:<30} {:<12} {:^10} {:>8} {:>10}'.format(i+1, v, dtype, \\\n",
    "                                                                  str(col.isnull().any()), col.count(), \\\n",
    "                                                                  col_nunique))    # col.nunique()\n"
   ]
  },
  {
   "cell_type": "code",
   "execution_count": 73,
   "metadata": {},
   "outputs": [],
   "source": [
    "\n",
    "review_json = '../yelp_dataset/yelp_academic_dataset_review.json'\n",
    "review_df = create_dataframe(review_json)\n"
   ]
  },
  {
   "cell_type": "code",
   "execution_count": 74,
   "metadata": {},
   "outputs": [
    {
     "name": "stdout",
     "output_type": "stream",
     "text": [
      "\n",
      "Shape : (8021122, 9)\n",
      "Number of duplicates : 0\n",
      "\n",
      "              COLUMNS                DATA TYPE     HAS NULL    COUNTS    # UNIQUE\n",
      "\n",
      "  1.  review_id                      str            False     8021122    8021122\n",
      "  2.  user_id                        str            False     8021122    1968703\n",
      "  3.  business_id                    str            False     8021122     209393\n",
      "  4.  stars                          float64        False     8021122          5\n",
      "  5.  useful                         int64          False     8021122        266\n",
      "  6.  funny                          int64          False     8021122        209\n",
      "  7.  cool                           int64          False     8021122        200\n",
      "  8.  text                           str            False     8021122    7999488\n",
      "  9.  date                           str            False     8021122    7853102\n"
     ]
    }
   ],
   "source": [
    "\n",
    "df_info(review_df)\n"
   ]
  },
  {
   "cell_type": "markdown",
   "metadata": {},
   "source": [
    "Filter the dataframe to the features that are only needed."
   ]
  },
  {
   "cell_type": "code",
   "execution_count": 75,
   "metadata": {},
   "outputs": [
    {
     "data": {
      "image/png": "[encoded data removed]",
      "text/plain": [
       "<Figure size 432x288 with 1 Axes>"
      ]
     },
     "metadata": {
      "needs_background": "light"
     },
     "output_type": "display_data"
    }
   ],
   "source": [
    "\n",
    "reviews_dataset = review_df.drop(['review_id', 'user_id', 'business_id', 'useful', 'funny', 'cool', 'date'], axis=1)\n",
    "plt.hist(reviews_dataset.stars);"
   ]
  },
  {
   "cell_type": "markdown",
   "metadata": {},
   "source": [
    "Patrons rate reviews from 1 through 5 with 5 being the highest.  The stars rating will be able to provide the appropriate label to the sentiments.\n",
    "\n",
    "However in lieu of the star ratings, this can be collated into: `negative`, `neutral`, `positive`.  \n",
    "\n",
    "Reviews with 1 and 2 will fall into the negative, 3 into neutral, 4 and 5 into positive."
   ]
  },
  {
   "cell_type": "code",
   "execution_count": 76,
   "metadata": {},
   "outputs": [],
   "source": [
    "category_labels = ['negative', 'neutral', 'positive']\n",
    "cut_bins = [0, 2, 3, 5]\n",
    "reviews_dataset['sentiment'] = pd.cut(reviews_dataset['stars'], bins=cut_bins, labels=category_labels)"
   ]
  },
  {
   "cell_type": "markdown",
   "metadata": {},
   "source": [
    "Review the changes in the dataset; should now see the new column `sentiment`."
   ]
  },
  {
   "cell_type": "code",
   "execution_count": 77,
   "metadata": {},
   "outputs": [
    {
     "name": "stdout",
     "output_type": "stream",
     "text": [
      "<class 'pandas.core.frame.DataFrame'>\n",
      "RangeIndex: 8021122 entries, 0 to 8021121\n",
      "Data columns (total 3 columns):\n",
      " #   Column     Dtype   \n",
      "---  ------     -----   \n",
      " 0   stars      float64 \n",
      " 1   text       object  \n",
      " 2   sentiment  category\n",
      "dtypes: category(1), float64(1), object(1)\n",
      "memory usage: 130.0+ MB\n"
     ]
    }
   ],
   "source": [
    "reviews_dataset.info()"
   ]
  },
  {
   "cell_type": "markdown",
   "metadata": {},
   "source": [
    "**Test the changes**.  All three queries should **not** return any values."
   ]
  },
  {
   "cell_type": "code",
   "execution_count": 78,
   "metadata": {},
   "outputs": [
    {
     "data": {
      "text/html": [
       "<div>\n",
       "<style scoped>\n",
       "    .dataframe tbody tr th:only-of-type {\n",
       "        vertical-align: middle;\n",
       "    }\n",
       "\n",
       "    .dataframe tbody tr th {\n",
       "        vertical-align: top;\n",
       "    }\n",
       "\n",
       "    .dataframe thead th {\n",
       "        text-align: right;\n",
       "    }\n",
       "</style>\n",
       "<table border=\"1\" class=\"dataframe\">\n",
       "  <thead>\n",
       "    <tr style=\"text-align: right;\">\n",
       "      <th></th>\n",
       "      <th>stars</th>\n",
       "      <th>text</th>\n",
       "      <th>sentiment</th>\n",
       "    </tr>\n",
       "  </thead>\n",
       "  <tbody>\n",
       "  </tbody>\n",
       "</table>\n",
       "</div>"
      ],
      "text/plain": [
       "Empty DataFrame\n",
       "Columns: [stars, text, sentiment]\n",
       "Index: []"
      ]
     },
     "execution_count": 78,
     "metadata": {},
     "output_type": "execute_result"
    },
    {
     "data": {
      "text/html": [
       "<div>\n",
       "<style scoped>\n",
       "    .dataframe tbody tr th:only-of-type {\n",
       "        vertical-align: middle;\n",
       "    }\n",
       "\n",
       "    .dataframe tbody tr th {\n",
       "        vertical-align: top;\n",
       "    }\n",
       "\n",
       "    .dataframe thead th {\n",
       "        text-align: right;\n",
       "    }\n",
       "</style>\n",
       "<table border=\"1\" class=\"dataframe\">\n",
       "  <thead>\n",
       "    <tr style=\"text-align: right;\">\n",
       "      <th></th>\n",
       "      <th>stars</th>\n",
       "      <th>text</th>\n",
       "      <th>sentiment</th>\n",
       "    </tr>\n",
       "  </thead>\n",
       "  <tbody>\n",
       "  </tbody>\n",
       "</table>\n",
       "</div>"
      ],
      "text/plain": [
       "Empty DataFrame\n",
       "Columns: [stars, text, sentiment]\n",
       "Index: []"
      ]
     },
     "execution_count": 78,
     "metadata": {},
     "output_type": "execute_result"
    },
    {
     "data": {
      "text/html": [
       "<div>\n",
       "<style scoped>\n",
       "    .dataframe tbody tr th:only-of-type {\n",
       "        vertical-align: middle;\n",
       "    }\n",
       "\n",
       "    .dataframe tbody tr th {\n",
       "        vertical-align: top;\n",
       "    }\n",
       "\n",
       "    .dataframe thead th {\n",
       "        text-align: right;\n",
       "    }\n",
       "</style>\n",
       "<table border=\"1\" class=\"dataframe\">\n",
       "  <thead>\n",
       "    <tr style=\"text-align: right;\">\n",
       "      <th></th>\n",
       "      <th>stars</th>\n",
       "      <th>text</th>\n",
       "      <th>sentiment</th>\n",
       "    </tr>\n",
       "  </thead>\n",
       "  <tbody>\n",
       "  </tbody>\n",
       "</table>\n",
       "</div>"
      ],
      "text/plain": [
       "Empty DataFrame\n",
       "Columns: [stars, text, sentiment]\n",
       "Index: []"
      ]
     },
     "execution_count": 78,
     "metadata": {},
     "output_type": "execute_result"
    }
   ],
   "source": [
    "reviews_dataset.query('stars == 3 and (sentiment == \"positive\" or sentiment == \"negative\")')\n",
    "reviews_dataset.query('stars < 3 and (sentiment == \"neutral\" or sentiment == \"positive\")')\n",
    "reviews_dataset.query('stars > 3 and (sentiment == \"negative\" or sentiment == \"neutral\")')"
   ]
  },
  {
   "cell_type": "markdown",
   "metadata": {},
   "source": [
    "Persist the stripped-down dataset to make it more manageable and resource-utilization-friendly."
   ]
  },
  {
   "cell_type": "code",
   "execution_count": 79,
   "metadata": {},
   "outputs": [],
   "source": [
    "\n",
    "# Save the data to a new CSV file\n",
    "\n",
    "reviews_dataset.to_csv('../yelp_dataset/reviews_dataset.csv', index=False)\n"
   ]
  },
  {
   "cell_type": "markdown",
   "metadata": {},
   "source": [
    "Re-load the dataset."
   ]
  },
  {
   "cell_type": "code",
   "execution_count": 81,
   "metadata": {},
   "outputs": [],
   "source": [
    "reviews_dataset = pd.read_csv('../yelp_dataset/reviews_dataset.csv')"
   ]
  },
  {
   "cell_type": "markdown",
   "metadata": {},
   "source": [
    "Divide the dataset into features and labels."
   ]
  },
  {
   "cell_type": "code",
   "execution_count": 82,
   "metadata": {},
   "outputs": [],
   "source": [
    "X = reviews_dataset[['text', 'stars']].values\n",
    "y = reviews_dataset['sentiment'].values"
   ]
  },
  {
   "cell_type": "markdown",
   "metadata": {},
   "source": [
    "The sentiment serves as a label to help in the process of training the model in the classification of reviews.\n",
    "To effectively train the model with the dataset, we need to ensure the data has a balanced number of classifications."
   ]
  },
  {
   "cell_type": "code",
   "execution_count": 83,
   "metadata": {},
   "outputs": [
    {
     "data": {
      "image/png": "[encoded data removed]",
      "text/plain": [
       "<Figure size 432x288 with 1 Axes>"
      ]
     },
     "metadata": {
      "needs_background": "light"
     },
     "output_type": "display_data"
    }
   ],
   "source": [
    "plt.hist(y);"
   ]
  },
  {
   "cell_type": "markdown",
   "metadata": {},
   "source": [
    "> There is an imbalance in the dataset where there are significantly more `positive` rating than the other two sentiments.\n",
    "\n",
    "To avoid bias where model is trained more on the positive labels, dataset need to be balanced.  A third-party library, `imb-learn` is used to under sample the dataset and balance out to the smallest denominator."
   ]
  },
  {
   "cell_type": "code",
   "execution_count": 84,
   "metadata": {},
   "outputs": [],
   "source": [
    "\n",
    "# RandomUnderSampler is used from the imblearn using the sampling-strategy auto\n",
    "rus = RandomUnderSampler(sampling_strategy='auto', random_state=random_state)\n",
    "\n",
    "# The result is a resampled dataset of X and y\n",
    "X_res, y_res = rus.fit_resample(X, y)\n"
   ]
  },
  {
   "cell_type": "markdown",
   "metadata": {},
   "source": [
    "Review the newly-balanced dataset."
   ]
  },
  {
   "cell_type": "code",
   "execution_count": 85,
   "metadata": {
    "scrolled": true
   },
   "outputs": [
    {
     "data": {
      "text/plain": [
       "0.3150266259508333"
      ]
     },
     "execution_count": 85,
     "metadata": {},
     "output_type": "execute_result"
    }
   ],
   "source": [
    "X_res.shape[0]/X.shape[0]"
   ]
  },
  {
   "cell_type": "code",
   "execution_count": 87,
   "metadata": {},
   "outputs": [
    {
     "data": {
      "text/plain": [
       "((2526867, 2), (2526867,))"
      ]
     },
     "execution_count": 87,
     "metadata": {},
     "output_type": "execute_result"
    }
   ],
   "source": [
    "# sanity check, X and y should be equal in number of instances\n",
    "np.shape(X_res), np.shape(y_res)"
   ]
  },
  {
   "cell_type": "markdown",
   "metadata": {},
   "source": [
    "> The balanced dataset has been reduced to 32% of its original size but with 2.53 million, it is still a substantial amount that can be used to train and test the model.\n",
    "\n",
    "Review the distribution of the sentiments from the newly-balanced dataset."
   ]
  },
  {
   "cell_type": "code",
   "execution_count": 88,
   "metadata": {},
   "outputs": [
    {
     "data": {
      "image/png": "[encoded data removed]",
      "text/plain": [
       "<Figure size 432x288 with 1 Axes>"
      ]
     },
     "metadata": {
      "needs_background": "light"
     },
     "output_type": "display_data"
    }
   ],
   "source": [
    "plt.hist(y_res);"
   ]
  },
  {
   "cell_type": "markdown",
   "metadata": {},
   "source": [
    "> We now have a more balanced dataset across the different sentiments."
   ]
  },
  {
   "cell_type": "code",
   "execution_count": null,
   "metadata": {},
   "outputs": [],
   "source": []
  },
  {
   "cell_type": "code",
   "execution_count": null,
   "metadata": {},
   "outputs": [],
   "source": []
  },
  {
   "cell_type": "code",
   "execution_count": null,
   "metadata": {},
   "outputs": [],
   "source": []
  },
  {
   "cell_type": "code",
   "execution_count": null,
   "metadata": {},
   "outputs": [],
   "source": []
  },
  {
   "cell_type": "code",
   "execution_count": null,
   "metadata": {},
   "outputs": [],
   "source": []
  },
  {
   "cell_type": "code",
   "execution_count": null,
   "metadata": {},
   "outputs": [],
   "source": []
  },
  {
   "cell_type": "code",
   "execution_count": null,
   "metadata": {},
   "outputs": [],
   "source": []
  },
  {
   "cell_type": "code",
   "execution_count": null,
   "metadata": {},
   "outputs": [],
   "source": []
  },
  {
   "cell_type": "code",
   "execution_count": null,
   "metadata": {},
   "outputs": [],
   "source": []
  },
  {
   "cell_type": "code",
   "execution_count": null,
   "metadata": {},
   "outputs": [],
   "source": []
  },
  {
   "cell_type": "code",
   "execution_count": null,
   "metadata": {},
   "outputs": [],
   "source": []
  },
  {
   "cell_type": "code",
   "execution_count": null,
   "metadata": {},
   "outputs": [],
   "source": []
  },
  {
   "cell_type": "code",
   "execution_count": null,
   "metadata": {},
   "outputs": [],
   "source": []
  },
  {
   "cell_type": "code",
   "execution_count": null,
   "metadata": {},
   "outputs": [],
   "source": []
  },
  {
   "cell_type": "code",
   "execution_count": null,
   "metadata": {},
   "outputs": [],
   "source": []
  },
  {
   "cell_type": "code",
   "execution_count": null,
   "metadata": {},
   "outputs": [],
   "source": []
  },
  {
   "cell_type": "code",
   "execution_count": null,
   "metadata": {},
   "outputs": [],
   "source": []
  },
  {
   "cell_type": "code",
   "execution_count": null,
   "metadata": {},
   "outputs": [],
   "source": []
  },
  {
   "cell_type": "code",
   "execution_count": null,
   "metadata": {},
   "outputs": [],
   "source": []
  },
  {
   "cell_type": "code",
   "execution_count": null,
   "metadata": {},
   "outputs": [],
   "source": []
  },
  {
   "cell_type": "code",
   "execution_count": null,
   "metadata": {},
   "outputs": [],
   "source": []
  },
  {
   "cell_type": "code",
   "execution_count": null,
   "metadata": {},
   "outputs": [],
   "source": []
  },
  {
   "cell_type": "code",
   "execution_count": null,
   "metadata": {},
   "outputs": [],
   "source": []
  },
  {
   "cell_type": "code",
   "execution_count": null,
   "metadata": {},
   "outputs": [],
   "source": []
  }
 ],
 "metadata": {
  "kernelspec": {
   "display_name": "Python 3",
   "language": "python",
   "name": "python3"
  },
  "language_info": {
   "codemirror_mode": {
    "name": "ipython",
    "version": 3
   },
   "file_extension": ".py",
   "mimetype": "text/x-python",
   "name": "python",
   "nbconvert_exporter": "python",
   "pygments_lexer": "ipython3",
   "version": "3.7.9"
  }
 },
 "nbformat": 4,
 "nbformat_minor": 4
}
