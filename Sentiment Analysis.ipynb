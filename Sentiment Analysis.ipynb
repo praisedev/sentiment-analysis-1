{
 "cells": [
  {
   "cell_type": "markdown",
   "metadata": {},
   "source": [
    "- Introduction and About Yelp  (talk about the dataset and pertinent class labels)\n",
    "- What is Sentiment Analysis in the Context of AI and NLP?  e.g. text classification  \n",
    "- Framing the Problem Statement  \n",
    "> What is the main objective and what are we trying to achive?  It might be best to **not** to only state predict whether review is positive, negative, or neutral but something more insightful/meaningful.  Keep in mind that sentiment analysis is nothing new and there are a number of implementations.       \n",
    "- Data Analysis, Cleaning, and Transformation    \n",
    "- Exploration and Visualization e.g. provide a bit of insight into the dataset.        \n",
    "- Addressing Data imbalance (or class weights)    \n",
    "- NLP: Word Tokenization, Sequences, and Embedding  \n",
    "- RNN/LSTM(Bidirectional)/GRU  \n",
    "> Overview of the RNN architecture.  Why a type of RNN, LSTM, applies to sentiment analysis.  Describe the archicture.  \n",
    "- Transfer Learning  \n",
    "> Can we have done Transfer Learning with pre-built models?  Does augmenting with Transfer Learning make any difference?\n",
    "- SaS  \n",
    "- Optimization Techniques  \n",
    "- Addressing Over-Fitting  \n",
    "- Predictions and Generating Text e.g. Auto-Completion  \n",
    "> Does a model perform just as well on other context or domains?\n",
    "- Evaluating Performance (Confusion Matrix)   \n",
    "- Productionizing the Trained Model via API in AWS    \n",
    "- Conclusion\n",
    "> Provide the intuition behind the result. Why the model performed the way it did and what accounted for the performance."
   ]
  },
  {
   "cell_type": "markdown",
   "metadata": {},
   "source": [
    "<img src=\"cnn.png\" alt=\"cnn key points\" />"
   ]
  },
  {
   "cell_type": "code",
   "execution_count": 1,
   "metadata": {},
   "outputs": [],
   "source": [
    "import datetime\n",
    "import json\n",
    "import matplotlib\n",
    "import matplotlib.pyplot as plt\n",
    "import numpy as np\n",
    "import pandas as pd\n",
    "import seaborn as sns\n",
    "import tensorflow as tf\n",
    "\n",
    "# 3rd-part library for managing imbalanced data.\n",
    "from imblearn.under_sampling import RandomUnderSampler\n",
    "from IPython.core.interactiveshell import InteractiveShell\n",
    "\n",
    "from sklearn.model_selection import train_test_split\n",
    "from tensorflow.keras.layers import Input, Dense, Embedding, Flatten\n",
    "from tensorflow.keras.models import Model\n",
    "from tensorflow.keras.optimizers import SGD, Adam\n",
    "from tensorflow.keras.preprocessing.sequence import pad_sequences\n",
    "from tensorflow.keras.preprocessing.text import Tokenizer"
   ]
  },
  {
   "cell_type": "code",
   "execution_count": 2,
   "metadata": {},
   "outputs": [
    {
     "name": "stdout",
     "output_type": "stream",
     "text": [
      "Using:\n",
      "\t• TensorFlow version: 2.1.0\n",
      "\t• tf.keras version: 2.2.4-tf\n",
      "\t• Running on GPU\n"
     ]
    }
   ],
   "source": [
    "\n",
    "%matplotlib inline\n",
    "\n",
    "# Set dataframe options to keep long data in columns from being truncated with ellipsis (...)\n",
    "pd.set_option('max_colwidth', None)\n",
    "\n",
    "# Set dataframe options to force display max columns\n",
    "pd.set_option('display.max_columns', 90)\n",
    "pd.set_option('display.max_rows', 90)\n",
    "\n",
    "InteractiveShell.ast_node_interactivity = \"all\"\n",
    "\n",
    "random_state = 42\n",
    "\n",
    "\n",
    "# Check if using a GPU\n",
    "print('Using:')\n",
    "print('\\t\\u2022 TensorFlow version:', tf.__version__)\n",
    "print('\\t\\u2022 tf.keras version:', tf.keras.__version__)\n",
    "print('\\t\\u2022 Running on GPU' if tf.config.list_physical_devices('GPU') else '\\t\\u2022 GPU device not found. Running on CPU')\n"
   ]
  },
  {
   "cell_type": "code",
   "execution_count": 61,
   "metadata": {},
   "outputs": [],
   "source": [
    "\n",
    "def create_dataframe(file_path):\n",
    "    '''\n",
    "    Create a pandas dataframe from a JSON file indicated by the parameter file_path\n",
    "    '''\n",
    "    data = []\n",
    "    with open(file_path, encoding=\"utf8\") as f:\n",
    "        for jsonObj in f:\n",
    "            data.append(json.loads(jsonObj))\n",
    "    return pd.DataFrame(data)\n",
    "\n",
    "\n",
    "def df_info(df):\n",
    "    '''\n",
    "    A helper function - similar in functionality with `df.info()` but includes combined features: df.columns, df.dtypes, \n",
    "    df.isnull(), df.info(), df.nunique()\n",
    "    '''\n",
    "    print('\\nShape : {}'.format(df.shape))\n",
    "    print('Number of duplicates : {}\\n'.format(df.duplicated().sum()))\n",
    "\n",
    "    print('{:^35} {:^12} {:^12} {:^8} {:>10}\\n'.format('COLUMNS', 'DATA TYPE', 'HAS NULL', 'COUNTS', '# UNIQUE'))\n",
    "    for i, v in enumerate(df.columns):\n",
    "        col = df[v]\n",
    "        dtype = type(col.iloc[0]).__name__\n",
    "        \n",
    "        if dtype=='dict':\n",
    "            keys = set([item for val in col.values if val is not None for item in list(val.keys())])\n",
    "            col_nunique = len(keys)\n",
    "        else:\n",
    "            col_nunique = col.nunique()\n",
    "        \n",
    "        print(' {:>2}.  {:<30} {:<12} {:^10} {:>8} {:>10}'.format(i+1, v, dtype, \\\n",
    "                                                                  str(col.isnull().any()), col.count(), \\\n",
    "                                                                  col_nunique))    # col.nunique()\n",
    "\n",
    "        \n",
    "def plot(history_data):\n",
    "    '''\n",
    "    Plot history data\n",
    "    '''\n",
    "    training_accuracy = history_data.history['accuracy']\n",
    "    validation_accuracy = history_data.history['val_accuracy']\n",
    "\n",
    "    training_loss = history_data.history['loss']\n",
    "    validation_loss = history_data.history['val_loss']\n",
    "\n",
    "    epochs_range=range(len(training_accuracy))\n",
    "\n",
    "    fig = plt.figure(figsize=(10, 3.5), constrained_layout=True)\n",
    "    gs = fig.add_gridspec(1, 6)\n",
    "    fig_ax1 = fig.add_subplot(gs[0,:-3])\n",
    "    fig_ax2 = fig.add_subplot(gs[0,3:])\n",
    "    \n",
    "    fig_ax1.plot(epochs_range, training_accuracy, label='Training Accuracy')\n",
    "    fig_ax1.plot(epochs_range, validation_accuracy, label='Validation Accuracy')\n",
    "    fig_ax1.legend(loc='lower right')\n",
    "    fig_ax1.set_title('Training and Validation Accuracy')\n",
    "\n",
    "    fig_ax2.plot(epochs_range, training_loss, label='Training Loss')\n",
    "    fig_ax2.plot(epochs_range, validation_loss, label='Validation Loss')\n",
    "    fig_ax2.legend(loc='upper right')\n",
    "    fig_ax2.set_title('Training and Validation Loss')\n"
   ]
  },
  {
   "cell_type": "markdown",
   "metadata": {},
   "source": [
    "Load the JSON dataset and persist as a CSV file.\n",
    "> **Warning:** This process will take some to complete."
   ]
  },
  {
   "cell_type": "code",
   "execution_count": 4,
   "metadata": {},
   "outputs": [
    {
     "name": "stdout",
     "output_type": "stream",
     "text": [
      "\n",
      "Shape : (8021122, 9)\n",
      "Number of duplicates : 0\n",
      "\n",
      "              COLUMNS                DATA TYPE     HAS NULL    COUNTS    # UNIQUE\n",
      "\n",
      "  1.  review_id                      str            False     8021122    8021122\n",
      "  2.  user_id                        str            False     8021122    1968703\n",
      "  3.  business_id                    str            False     8021122     209393\n",
      "  4.  stars                          float64        False     8021122          5\n",
      "  5.  useful                         int64          False     8021122        266\n",
      "  6.  funny                          int64          False     8021122        209\n",
      "  7.  cool                           int64          False     8021122        200\n",
      "  8.  text                           str            False     8021122    7999488\n",
      "  9.  date                           str            False     8021122    7853102\n"
     ]
    }
   ],
   "source": [
    "\n",
    "review_json = '../yelp_dataset/yelp_academic_dataset_review.json'\n",
    "reviews_df = create_dataframe(review_json)\n",
    "df_info(reviews_df)\n"
   ]
  },
  {
   "cell_type": "markdown",
   "metadata": {},
   "source": [
    "Filter the dataframe to the features that are only needed."
   ]
  },
  {
   "cell_type": "code",
   "execution_count": 5,
   "metadata": {},
   "outputs": [],
   "source": [
    "reviews_dataset = reviews_df.drop(['review_id', 'user_id', 'useful', 'funny', 'cool', 'date'], axis=1)"
   ]
  },
  {
   "cell_type": "markdown",
   "metadata": {},
   "source": [
    "***\n",
    "Reviews are from different type of establishments. Check to see if this can be filtered down to only dine/drink type of establishments where our sentiment analysis will focus on."
   ]
  },
  {
   "cell_type": "code",
   "execution_count": 6,
   "metadata": {},
   "outputs": [
    {
     "name": "stdout",
     "output_type": "stream",
     "text": [
      "<class 'pandas.core.frame.DataFrame'>\n",
      "RangeIndex: 209393 entries, 0 to 209392\n",
      "Data columns (total 14 columns):\n",
      " #   Column        Non-Null Count   Dtype  \n",
      "---  ------        --------------   -----  \n",
      " 0   business_id   209393 non-null  object \n",
      " 1   name          209393 non-null  object \n",
      " 2   address       209393 non-null  object \n",
      " 3   city          209393 non-null  object \n",
      " 4   state         209393 non-null  object \n",
      " 5   postal_code   209393 non-null  object \n",
      " 6   latitude      209393 non-null  float64\n",
      " 7   longitude     209393 non-null  float64\n",
      " 8   stars         209393 non-null  float64\n",
      " 9   review_count  209393 non-null  int64  \n",
      " 10  is_open       209393 non-null  int64  \n",
      " 11  attributes    180348 non-null  object \n",
      " 12  categories    208869 non-null  object \n",
      " 13  hours         164550 non-null  object \n",
      "dtypes: float64(3), int64(2), object(9)\n",
      "memory usage: 22.4+ MB\n"
     ]
    }
   ],
   "source": [
    "business_json = '../yelp_dataset/yelp_academic_dataset_business.json'\n",
    "business_df = create_dataframe(business_json)\n",
    "business_df.info()"
   ]
  },
  {
   "cell_type": "markdown",
   "metadata": {},
   "source": [
    "The `categories` feature will be used to filter businesses to dine/drink."
   ]
  },
  {
   "cell_type": "code",
   "execution_count": 7,
   "metadata": {},
   "outputs": [
    {
     "data": {
      "text/html": [
       "<div>\n",
       "<style scoped>\n",
       "    .dataframe tbody tr th:only-of-type {\n",
       "        vertical-align: middle;\n",
       "    }\n",
       "\n",
       "    .dataframe tbody tr th {\n",
       "        vertical-align: top;\n",
       "    }\n",
       "\n",
       "    .dataframe thead th {\n",
       "        text-align: right;\n",
       "    }\n",
       "</style>\n",
       "<table border=\"1\" class=\"dataframe\">\n",
       "  <thead>\n",
       "    <tr style=\"text-align: right;\">\n",
       "      <th></th>\n",
       "      <th>name</th>\n",
       "      <th>categories</th>\n",
       "    </tr>\n",
       "  </thead>\n",
       "  <tbody>\n",
       "    <tr>\n",
       "      <th>124386</th>\n",
       "      <td>La Tortilleria</td>\n",
       "      <td>Mexican, Restaurants</td>\n",
       "    </tr>\n",
       "    <tr>\n",
       "      <th>175538</th>\n",
       "      <td>Wendy's</td>\n",
       "      <td>Fast Food, Restaurants, Burgers</td>\n",
       "    </tr>\n",
       "    <tr>\n",
       "      <th>26617</th>\n",
       "      <td>America Latina</td>\n",
       "      <td>Breakfast &amp; Brunch, Mexican, Restaurants, American (Traditional)</td>\n",
       "    </tr>\n",
       "    <tr>\n",
       "      <th>46709</th>\n",
       "      <td>FruiteaO</td>\n",
       "      <td>Restaurants, Food, Desserts, Taiwanese, Tea Rooms, Juice Bars &amp; Smoothies</td>\n",
       "    </tr>\n",
       "    <tr>\n",
       "      <th>85194</th>\n",
       "      <td>Enso Tea Bar</td>\n",
       "      <td>Acai Bowls, Food, Bubble Tea, Juice Bars &amp; Smoothies</td>\n",
       "    </tr>\n",
       "  </tbody>\n",
       "</table>\n",
       "</div>"
      ],
      "text/plain": [
       "                  name  \\\n",
       "124386  La Tortilleria   \n",
       "175538         Wendy's   \n",
       "26617   America Latina   \n",
       "46709         FruiteaO   \n",
       "85194     Enso Tea Bar   \n",
       "\n",
       "                                                                       categories  \n",
       "124386                                                       Mexican, Restaurants  \n",
       "175538                                            Fast Food, Restaurants, Burgers  \n",
       "26617            Breakfast & Brunch, Mexican, Restaurants, American (Traditional)  \n",
       "46709   Restaurants, Food, Desserts, Taiwanese, Tea Rooms, Juice Bars & Smoothies  \n",
       "85194                        Acai Bowls, Food, Bubble Tea, Juice Bars & Smoothies  "
      ]
     },
     "execution_count": 7,
     "metadata": {},
     "output_type": "execute_result"
    }
   ],
   "source": [
    "# Business criteria: Restaurants, Bars, Pub, or wherever there's Food\n",
    "eat_drink_business_df = business_df.query('not categories.isnull() and \\\n",
    "                  (categories.str.contains(\"Food\") or categories.str.contains(\"Restaurants\") \\\n",
    "                   or categories.str.contains(\"Bars\") or categories.str.contains(\"Pub\"))', \n",
    "                  engine='python')\n",
    "\n",
    "eat_drink_business_df[['name', 'categories']].sample(5)"
   ]
  },
  {
   "cell_type": "markdown",
   "metadata": {},
   "source": [
    "Now that the dataset is filtered down to the type of establishments we need, the `is_open` feature can be used to only capture establishments that are still in business."
   ]
  },
  {
   "cell_type": "code",
   "execution_count": 8,
   "metadata": {},
   "outputs": [
    {
     "data": {
      "image/png": "[encoded data removed]",
      "text/plain": [
       "<Figure size 432x165.6 with 1 Axes>"
      ]
     },
     "metadata": {
      "needs_background": "light"
     },
     "output_type": "display_data"
    }
   ],
   "source": [
    "results = eat_drink_business_df.is_open\n",
    "params = {'axes.spines.top':False, 'axes.spines.right': False, 'axes.spines.left': False, 'axes.labelsize' : 8, \n",
    "          'xtick.labelsize' : 7, 'axes.titlesize':9}\n",
    "matplotlib.rcParams.update(params)\n",
    "fig = plt.figure(constrained_layout=False, figsize=(6, 2.3))\n",
    "ax = fig.gca()\n",
    "ax.set_title('\\nDistribution Comparison of Between Open and Closed Businesses\\n\\n')\n",
    "p = sns.countplot(x=results, ax=ax)\n",
    "ax.yaxis.set_visible(False)\n",
    "counts=pd.Series(results).value_counts().sort_values(ascending=True)\n",
    "for i, count in enumerate(counts):\n",
    "    ax.text(i-.08, count+1000, '{}'.format(count), fontsize=9)\n",
    "\n",
    "matplotlib.rcParams.update(matplotlib.rcParamsDefault);"
   ]
  },
  {
   "cell_type": "markdown",
   "metadata": {},
   "source": [
    "> `24.5`k have gone out of business."
   ]
  },
  {
   "cell_type": "code",
   "execution_count": 9,
   "metadata": {},
   "outputs": [
    {
     "name": "stdout",
     "output_type": "stream",
     "text": [
      "\n",
      "Shape : (4733942, 3)\n",
      "Number of duplicates : 9393\n",
      "\n",
      "              COLUMNS                DATA TYPE     HAS NULL    COUNTS    # UNIQUE\n",
      "\n",
      "  1.  business_id                    str            False     4733942      60534\n",
      "  2.  stars                          float64        False     4733942          5\n",
      "  3.  text                           str            False     4733942    4722100\n"
     ]
    }
   ],
   "source": [
    "establishments_still_in_business = eat_drink_business_df.query('is_open == 1').business_id\n",
    "\n",
    "reviews_dataset_open = reviews_dataset.query('business_id in @establishments_still_in_business')\n",
    "df_info(reviews_dataset_open)\n"
   ]
  },
  {
   "cell_type": "markdown",
   "metadata": {},
   "source": [
    "> Dataset is reduced to 4.7 million and comprises only of establishments that are still in business.\n",
    "\n",
    "There is no need for `business_id` at this point and can be dropped."
   ]
  },
  {
   "cell_type": "code",
   "execution_count": 10,
   "metadata": {},
   "outputs": [],
   "source": [
    "reviews_dataset_2features = reviews_dataset_open.drop(['business_id'], axis=1, inplace=False)"
   ]
  },
  {
   "cell_type": "markdown",
   "metadata": {},
   "source": [
    "Review the distribution of the `stars` feature."
   ]
  },
  {
   "cell_type": "code",
   "execution_count": 11,
   "metadata": {},
   "outputs": [
    {
     "data": {
      "image/png": "[encoded data removed]",
      "text/plain": [
       "<Figure size 640x480 with 1 Axes>"
      ]
     },
     "metadata": {},
     "output_type": "display_data"
    }
   ],
   "source": [
    "plt.hist(reviews_dataset_2features.stars);"
   ]
  },
  {
   "cell_type": "markdown",
   "metadata": {},
   "source": [
    "Patrons rate establishments from 1 through 5 with 5 being the highest.  The `stars` value will be able to provide the appropriate label to the sentiments.  \n",
    "However in lieu of the star ratings, this can be collated into: `negative`, `neutral`, `positive`.  \n",
    "Reviews with 1 and 2 will fall into the negative, 3 into neutral, 4 and 5 into positive."
   ]
  },
  {
   "cell_type": "code",
   "execution_count": 12,
   "metadata": {},
   "outputs": [],
   "source": [
    "category_labels = [0, 1, 2]\n",
    "cut_bins = [0, 2, 3, 5]\n",
    "reviews_dataset_2features['sentiment'] = pd.cut(reviews_dataset_2features['stars'], bins=cut_bins, labels=category_labels)"
   ]
  },
  {
   "cell_type": "markdown",
   "metadata": {},
   "source": [
    "Review the changes in the dataset; should now see the new column `sentiment`."
   ]
  },
  {
   "cell_type": "code",
   "execution_count": 13,
   "metadata": {},
   "outputs": [
    {
     "name": "stdout",
     "output_type": "stream",
     "text": [
      "<class 'pandas.core.frame.DataFrame'>\n",
      "Int64Index: 4733942 entries, 2 to 8021121\n",
      "Data columns (total 3 columns):\n",
      " #   Column     Dtype   \n",
      "---  ------     -----   \n",
      " 0   stars      float64 \n",
      " 1   text       object  \n",
      " 2   sentiment  category\n",
      "dtypes: category(1), float64(1), object(1)\n",
      "memory usage: 112.9+ MB\n"
     ]
    }
   ],
   "source": [
    "reviews_dataset_2features.info()"
   ]
  },
  {
   "cell_type": "markdown",
   "metadata": {},
   "source": [
    "**Test the changes**.  All three queries should **not** return any values."
   ]
  },
  {
   "cell_type": "code",
   "execution_count": 14,
   "metadata": {},
   "outputs": [
    {
     "data": {
      "text/html": [
       "<div>\n",
       "<style scoped>\n",
       "    .dataframe tbody tr th:only-of-type {\n",
       "        vertical-align: middle;\n",
       "    }\n",
       "\n",
       "    .dataframe tbody tr th {\n",
       "        vertical-align: top;\n",
       "    }\n",
       "\n",
       "    .dataframe thead th {\n",
       "        text-align: right;\n",
       "    }\n",
       "</style>\n",
       "<table border=\"1\" class=\"dataframe\">\n",
       "  <thead>\n",
       "    <tr style=\"text-align: right;\">\n",
       "      <th></th>\n",
       "      <th>stars</th>\n",
       "      <th>text</th>\n",
       "      <th>sentiment</th>\n",
       "    </tr>\n",
       "  </thead>\n",
       "  <tbody>\n",
       "  </tbody>\n",
       "</table>\n",
       "</div>"
      ],
      "text/plain": [
       "Empty DataFrame\n",
       "Columns: [stars, text, sentiment]\n",
       "Index: []"
      ]
     },
     "execution_count": 14,
     "metadata": {},
     "output_type": "execute_result"
    },
    {
     "data": {
      "text/html": [
       "<div>\n",
       "<style scoped>\n",
       "    .dataframe tbody tr th:only-of-type {\n",
       "        vertical-align: middle;\n",
       "    }\n",
       "\n",
       "    .dataframe tbody tr th {\n",
       "        vertical-align: top;\n",
       "    }\n",
       "\n",
       "    .dataframe thead th {\n",
       "        text-align: right;\n",
       "    }\n",
       "</style>\n",
       "<table border=\"1\" class=\"dataframe\">\n",
       "  <thead>\n",
       "    <tr style=\"text-align: right;\">\n",
       "      <th></th>\n",
       "      <th>stars</th>\n",
       "      <th>text</th>\n",
       "      <th>sentiment</th>\n",
       "    </tr>\n",
       "  </thead>\n",
       "  <tbody>\n",
       "  </tbody>\n",
       "</table>\n",
       "</div>"
      ],
      "text/plain": [
       "Empty DataFrame\n",
       "Columns: [stars, text, sentiment]\n",
       "Index: []"
      ]
     },
     "execution_count": 14,
     "metadata": {},
     "output_type": "execute_result"
    },
    {
     "data": {
      "text/html": [
       "<div>\n",
       "<style scoped>\n",
       "    .dataframe tbody tr th:only-of-type {\n",
       "        vertical-align: middle;\n",
       "    }\n",
       "\n",
       "    .dataframe tbody tr th {\n",
       "        vertical-align: top;\n",
       "    }\n",
       "\n",
       "    .dataframe thead th {\n",
       "        text-align: right;\n",
       "    }\n",
       "</style>\n",
       "<table border=\"1\" class=\"dataframe\">\n",
       "  <thead>\n",
       "    <tr style=\"text-align: right;\">\n",
       "      <th></th>\n",
       "      <th>stars</th>\n",
       "      <th>text</th>\n",
       "      <th>sentiment</th>\n",
       "    </tr>\n",
       "  </thead>\n",
       "  <tbody>\n",
       "  </tbody>\n",
       "</table>\n",
       "</div>"
      ],
      "text/plain": [
       "Empty DataFrame\n",
       "Columns: [stars, text, sentiment]\n",
       "Index: []"
      ]
     },
     "execution_count": 14,
     "metadata": {},
     "output_type": "execute_result"
    }
   ],
   "source": [
    "reviews_dataset_2features.query('stars == 3 and (sentiment == 2 or sentiment == 0)')\n",
    "reviews_dataset_2features.query('stars < 3 and (sentiment == 1 or sentiment == 2)')\n",
    "reviews_dataset_2features.query('stars > 3 and (sentiment == 0 or sentiment == 1)')"
   ]
  },
  {
   "cell_type": "markdown",
   "metadata": {},
   "source": [
    "Now that the `sentiment` feature has been created, there is no need for the `stars` feature."
   ]
  },
  {
   "cell_type": "code",
   "execution_count": 15,
   "metadata": {},
   "outputs": [],
   "source": [
    "reviews_dataset_2features.drop(['stars'], inplace=True, axis=1)"
   ]
  },
  {
   "cell_type": "markdown",
   "metadata": {},
   "source": [
    "Persist the stripped-down dataset to make it more manageable and resource-utilization-friendly."
   ]
  },
  {
   "cell_type": "code",
   "execution_count": 16,
   "metadata": {},
   "outputs": [],
   "source": [
    "# Save the data to a new CSV file\n",
    "reviews_dataset_2features.to_csv('../yelp_dataset/reviews_dataset.csv', index=False)"
   ]
  },
  {
   "cell_type": "markdown",
   "metadata": {},
   "source": [
    "Re-load the dataset as `reviews_sentiments`."
   ]
  },
  {
   "cell_type": "code",
   "execution_count": 17,
   "metadata": {},
   "outputs": [
    {
     "name": "stdout",
     "output_type": "stream",
     "text": [
      "\n",
      "Shape : (4733942, 2)\n",
      "Number of duplicates : 11386\n",
      "\n",
      "              COLUMNS                DATA TYPE     HAS NULL    COUNTS    # UNIQUE\n",
      "\n",
      "  1.  text                           str             True     4733941    4722099\n",
      "  2.  sentiment                      int64          False     4733942          3\n"
     ]
    }
   ],
   "source": [
    "reviews_sentiments = pd.read_csv('../yelp_dataset/reviews_dataset.csv')\n",
    "df_info(reviews_sentiments)"
   ]
  },
  {
   "cell_type": "markdown",
   "metadata": {},
   "source": [
    "> Initially the dataset did not have any NA values but after re-loading, it now appears we do.  This is because 'N/A' was interpreted as string during JSON conversion but is now recognized by `pandas` as a `NA` value after reloading the dataset.\n",
    "\n",
    "Since NA values in text does not provide any meaningful data, it is pointless to keep this hence rows with NA is dropped."
   ]
  },
  {
   "cell_type": "code",
   "execution_count": 18,
   "metadata": {},
   "outputs": [],
   "source": [
    "reviews_sentiments.dropna(inplace=True)"
   ]
  },
  {
   "cell_type": "markdown",
   "metadata": {},
   "source": [
    "Duplicates now appear in the dataset and needs to be investigated."
   ]
  },
  {
   "cell_type": "code",
   "execution_count": 19,
   "metadata": {},
   "outputs": [
    {
     "data": {
      "text/html": [
       "<div>\n",
       "<style scoped>\n",
       "    .dataframe tbody tr th:only-of-type {\n",
       "        vertical-align: middle;\n",
       "    }\n",
       "\n",
       "    .dataframe tbody tr th {\n",
       "        vertical-align: top;\n",
       "    }\n",
       "\n",
       "    .dataframe thead th {\n",
       "        text-align: right;\n",
       "    }\n",
       "</style>\n",
       "<table border=\"1\" class=\"dataframe\">\n",
       "  <thead>\n",
       "    <tr style=\"text-align: right;\">\n",
       "      <th></th>\n",
       "      <th>text</th>\n",
       "      <th>sentiment</th>\n",
       "    </tr>\n",
       "  </thead>\n",
       "  <tbody>\n",
       "    <tr>\n",
       "      <th>7505</th>\n",
       "      <td>Some cravings you just can't ignore!  Today was our first time visiting Popcorn Heaven in Ballantyne. The smells alone are worth the trip! We were immediately greeted by the sales clerk who was helping another customer. (Call me old fashioned, but I like to be acknowledged. Her smile made us feel very welcomed!) Then Daniel the owner welcomed us and explained the menu, purchase options &amp; specials. This place has folks pouring in &amp; they all knew what they wanted. While my husband and I were trying to make a decision on flavors, Daniel graciously offered samples. It was...heavenly! Deee-lish! Fresh! Popcorn Heaven also ships! Prices were great when compared to online companies. I love shopping local &amp; Popcorn Heaven will definitely be keeping my business! Oh, one last thought- Daniel said they make nice gift baskets for Valentines day. Seriously friends, give Popcorn Heaven a try!</td>\n",
       "      <td>2</td>\n",
       "    </tr>\n",
       "    <tr>\n",
       "      <th>9082</th>\n",
       "      <td>Some cravings you just can't ignore!  Today was our first time visiting Popcorn Heaven in Ballantyne. The smells alone are worth the trip! We were immediately greeted by the sales clerk who was helping another customer. (Call me old fashioned, but I like to be acknowledged. Her smile made us feel very welcomed!) Then Daniel the owner welcomed us and explained the menu, purchase options &amp; specials. This place has folks pouring in &amp; they all knew what they wanted. While my husband and I were trying to make a decision on flavors, Daniel graciously offered samples. It was...heavenly! Deee-lish! Fresh! Popcorn Heaven also ships! Prices were great when compared to online companies. I love shopping local &amp; Popcorn Heaven will definitely be keeping my business! Oh, one last thought- Daniel said they make nice gift baskets for Valentines day. Seriously friends, give Popcorn Heaven a try!</td>\n",
       "      <td>2</td>\n",
       "    </tr>\n",
       "  </tbody>\n",
       "</table>\n",
       "</div>"
      ],
      "text/plain": [
       "                                                                                                                                                                                                                                                                                                                                                                                                                                                                                                                                                                                                                                                                                                                                                                                                                                                                                                                             text  \\\n",
       "7505  Some cravings you just can't ignore!  Today was our first time visiting Popcorn Heaven in Ballantyne. The smells alone are worth the trip! We were immediately greeted by the sales clerk who was helping another customer. (Call me old fashioned, but I like to be acknowledged. Her smile made us feel very welcomed!) Then Daniel the owner welcomed us and explained the menu, purchase options & specials. This place has folks pouring in & they all knew what they wanted. While my husband and I were trying to make a decision on flavors, Daniel graciously offered samples. It was...heavenly! Deee-lish! Fresh! Popcorn Heaven also ships! Prices were great when compared to online companies. I love shopping local & Popcorn Heaven will definitely be keeping my business! Oh, one last thought- Daniel said they make nice gift baskets for Valentines day. Seriously friends, give Popcorn Heaven a try!   \n",
       "9082  Some cravings you just can't ignore!  Today was our first time visiting Popcorn Heaven in Ballantyne. The smells alone are worth the trip! We were immediately greeted by the sales clerk who was helping another customer. (Call me old fashioned, but I like to be acknowledged. Her smile made us feel very welcomed!) Then Daniel the owner welcomed us and explained the menu, purchase options & specials. This place has folks pouring in & they all knew what they wanted. While my husband and I were trying to make a decision on flavors, Daniel graciously offered samples. It was...heavenly! Deee-lish! Fresh! Popcorn Heaven also ships! Prices were great when compared to online companies. I love shopping local & Popcorn Heaven will definitely be keeping my business! Oh, one last thought- Daniel said they make nice gift baskets for Valentines day. Seriously friends, give Popcorn Heaven a try!   \n",
       "\n",
       "      sentiment  \n",
       "7505          2  \n",
       "9082          2  "
      ]
     },
     "execution_count": 19,
     "metadata": {},
     "output_type": "execute_result"
    }
   ],
   "source": [
    "reviews_sentiments[1000:10000][reviews_sentiments[1000:10000].duplicated(subset=['text'], keep=False)]"
   ]
  },
  {
   "cell_type": "markdown",
   "metadata": {},
   "source": [
    "> Selecting a subset/range of rows from the dataset, confirms that there are indeed duplicates.  It seems that after converting the JSON object into a dataframe, the `duplicated` function does not seem to work as expected.\n",
    "\n",
    "Duplicates have no value and is a waste in resource so these need to be dropped."
   ]
  },
  {
   "cell_type": "code",
   "execution_count": 20,
   "metadata": {},
   "outputs": [],
   "source": [
    "reviews_sentiments.drop_duplicates(inplace=True)"
   ]
  },
  {
   "cell_type": "markdown",
   "metadata": {},
   "source": [
    "Persist the dataset and reload."
   ]
  },
  {
   "cell_type": "code",
   "execution_count": 21,
   "metadata": {},
   "outputs": [],
   "source": [
    "# persist\n",
    "reviews_sentiments.to_csv('../yelp_dataset/reviews_dataset.csv', index=False)"
   ]
  },
  {
   "cell_type": "code",
   "execution_count": 22,
   "metadata": {},
   "outputs": [
    {
     "name": "stdout",
     "output_type": "stream",
     "text": [
      "\n",
      "Shape : (4722555, 2)\n",
      "Number of duplicates : 0\n",
      "\n",
      "              COLUMNS                DATA TYPE     HAS NULL    COUNTS    # UNIQUE\n",
      "\n",
      "  1.  text                           str            False     4722555    4722099\n",
      "  2.  sentiment                      int64          False     4722555          3\n"
     ]
    }
   ],
   "source": [
    "# reload\n",
    "reviews_sentiments = pd.read_csv('../yelp_dataset/reviews_dataset.csv')\n",
    "df_info(reviews_sentiments)"
   ]
  },
  {
   "cell_type": "markdown",
   "metadata": {},
   "source": [
    "> Dataset looks much cleaner now."
   ]
  },
  {
   "cell_type": "markdown",
   "metadata": {},
   "source": [
    "Divide the dataset into features and labels."
   ]
  },
  {
   "cell_type": "code",
   "execution_count": 23,
   "metadata": {},
   "outputs": [],
   "source": [
    "X = reviews_sentiments[['text']]\n",
    "y = reviews_sentiments['sentiment']"
   ]
  },
  {
   "cell_type": "markdown",
   "metadata": {},
   "source": [
    "The sentiment serves as a label to help in the process of training the model in the classification of reviews.\n",
    "To effectively train the model with the dataset, we need to ensure the data has a balanced number of classifications."
   ]
  },
  {
   "cell_type": "code",
   "execution_count": 24,
   "metadata": {},
   "outputs": [
    {
     "data": {
      "image/png": "[encoded data removed]",
      "text/plain": [
       "<Figure size 640x480 with 1 Axes>"
      ]
     },
     "metadata": {},
     "output_type": "display_data"
    }
   ],
   "source": [
    "plt.hist(y);"
   ]
  },
  {
   "cell_type": "markdown",
   "metadata": {},
   "source": [
    "> There is an imbalance in the dataset where there are significantly more `positive` rating than the other two sentiments.\n",
    "\n",
    "To avoid bias where model is trained more on the positive labels, dataset need to be balanced.  A third-party library, `imb-learn` is used to under sample the dataset and balance out to the smallest denominator."
   ]
  },
  {
   "cell_type": "code",
   "execution_count": 25,
   "metadata": {},
   "outputs": [],
   "source": [
    "\n",
    "# RandomUnderSampler is used from the imblearn using the sampling-strategy auto\n",
    "rus = RandomUnderSampler(sampling_strategy='auto', random_state=random_state)\n",
    "\n",
    "# The result is a resampled dataset of X and y\n",
    "X_res, y_res = rus.fit_resample(X, y)\n"
   ]
  },
  {
   "cell_type": "markdown",
   "metadata": {},
   "source": [
    "Review the newly-balanced dataset."
   ]
  },
  {
   "cell_type": "code",
   "execution_count": 26,
   "metadata": {
    "scrolled": true
   },
   "outputs": [
    {
     "data": {
      "text/plain": [
       "0.21371224624185992"
      ]
     },
     "execution_count": 26,
     "metadata": {},
     "output_type": "execute_result"
    }
   ],
   "source": [
    "X_res.shape[0]/reviews_df.shape[0]"
   ]
  },
  {
   "cell_type": "code",
   "execution_count": 27,
   "metadata": {},
   "outputs": [
    {
     "data": {
      "text/plain": [
       "((1714212, 1), (1714212,))"
      ]
     },
     "execution_count": 27,
     "metadata": {},
     "output_type": "execute_result"
    }
   ],
   "source": [
    "# sanity check, X and y should be equal in number of instances\n",
    "np.shape(X_res), np.shape(y_res)"
   ]
  },
  {
   "cell_type": "markdown",
   "metadata": {},
   "source": [
    "> The balanced dataset has been reduced to 21.4% of its original size but with 1.71 million, it is still a substantial amount that can be used to train and test the model.\n",
    "\n",
    "Review the distribution of the sentiments from the newly-balanced dataset."
   ]
  },
  {
   "cell_type": "code",
   "execution_count": 28,
   "metadata": {},
   "outputs": [
    {
     "data": {
      "image/png": "[encoded data removed]",
      "text/plain": [
       "<Figure size 640x480 with 1 Axes>"
      ]
     },
     "metadata": {},
     "output_type": "display_data"
    }
   ],
   "source": [
    "plt.hist(y_res);"
   ]
  },
  {
   "cell_type": "markdown",
   "metadata": {},
   "source": [
    "> We now have a more balanced dataset across the different sentiments."
   ]
  },
  {
   "cell_type": "markdown",
   "metadata": {},
   "source": [
    "**Alternative Option :**  \n",
    "\n",
    "Assign class weights during the model fit:\n",
    "\n",
    "`model.fit(..., class_weight={0:1, 1:1, 2 / total nbr rows}`\n",
    "\n",
    "> Key here is that more weight should be added to the class that has a lesser number of instances."
   ]
  },
  {
   "cell_type": "markdown",
   "metadata": {},
   "source": [
    "Split data into train and test."
   ]
  },
  {
   "cell_type": "code",
   "execution_count": 29,
   "metadata": {},
   "outputs": [],
   "source": [
    "# Data Splitting\n",
    "X_train, X_test, y_train, y_test = train_test_split(X_res.values, y_res.values, test_size=0.3)"
   ]
  },
  {
   "cell_type": "markdown",
   "metadata": {},
   "source": [
    "Get the most number of words in all the reviews from the training dataset."
   ]
  },
  {
   "cell_type": "code",
   "execution_count": 30,
   "metadata": {},
   "outputs": [
    {
     "name": "stdout",
     "output_type": "stream",
     "text": [
      "1022\n"
     ]
    }
   ],
   "source": [
    "maxlen = 0\n",
    "for x in X_train:\n",
    "    review = x[0]\n",
    "    if len(review.split()) > maxlen:\n",
    "        maxlen = len(review.split())\n",
    "\n",
    "print(maxlen)"
   ]
  },
  {
   "cell_type": "markdown",
   "metadata": {},
   "source": [
    "> This is the most number of words from one of the reviews."
   ]
  },
  {
   "cell_type": "markdown",
   "metadata": {},
   "source": [
    "Get the vocubulary size based on the unique words from the training dataset."
   ]
  },
  {
   "cell_type": "code",
   "execution_count": 31,
   "metadata": {},
   "outputs": [
    {
     "data": {
      "text/plain": [
       "1322808"
      ]
     },
     "execution_count": 31,
     "metadata": {},
     "output_type": "execute_result"
    }
   ],
   "source": [
    "vocubulary = []\n",
    "ctr=0\n",
    "\n",
    "for x in X_train:\n",
    "    unique_words = set(x[0].split())    # for each review, get the unique words\n",
    "    vocubulary.extend(list(unique_words))    # add to the vocubulary list; duplicate words possible from one review to another\n",
    "\n",
    "    ctr+=1\n",
    "    if ctr % 100000 == 0:    \n",
    "        vocubulary = list(set(vocubulary))    # every nth cycle, ensure uniqueness of the vocubulary\n",
    "\n",
    "vocubulary = list(set(vocubulary))   # ensure uniqueness one more time\n",
    "num_words = len(vocubulary)    # this is the size of the vocubulary used by patrons in the reviews dataset\n",
    "num_words"
   ]
  },
  {
   "cell_type": "markdown",
   "metadata": {},
   "source": [
    "How many words should be relevant in a review?  Having a large number of words may potentially add noise and weaken the predicting performance of the model.  Likewise, having a small number of words may not make our model as strong as it is limited to small number of words.  \n",
    "\n",
    "`num_words` will have to be a hyper-parameter and will determine how many or few to make an effective model. "
   ]
  },
  {
   "cell_type": "code",
   "execution_count": 32,
   "metadata": {},
   "outputs": [
    {
     "data": {
      "text/plain": [
       "279360"
      ]
     },
     "execution_count": 32,
     "metadata": {},
     "output_type": "execute_result"
    }
   ],
   "source": [
    "tokenizer = Tokenizer(num_words=num_words, oov_token='<oov>')\n",
    "tokenizer.fit_on_texts(X_train.reshape(X_train.shape[0],).tolist())\n",
    "word_index = tokenizer.word_index\n",
    "len(word_index)"
   ]
  },
  {
   "cell_type": "code",
   "execution_count": 33,
   "metadata": {},
   "outputs": [],
   "source": [
    "sequences = tokenizer.texts_to_sequences(X_train.reshape(X_train.shape[0],).tolist())"
   ]
  },
  {
   "cell_type": "markdown",
   "metadata": {},
   "source": [
    "Pre-padding(`pre`) or post-padding(`post`)?  What is important for `LSTM`?  \n",
    "> This can be a hyper-parameter and whichever will make a better performing model will be the selected configuration."
   ]
  },
  {
   "cell_type": "code",
   "execution_count": 34,
   "metadata": {},
   "outputs": [
    {
     "data": {
      "text/plain": [
       "(1199948, 1022)"
      ]
     },
     "execution_count": 34,
     "metadata": {},
     "output_type": "execute_result"
    }
   ],
   "source": [
    "padded_sequences = pad_sequences(sequences, maxlen=maxlen, padding='post')\n",
    "padded_sequences.shape"
   ]
  },
  {
   "cell_type": "markdown",
   "metadata": {},
   "source": [
    "> The `maxlen` parameter in the `pad_sequences` function can be another hyper-parameter.  \n",
    "> Need to evaluate what makes sense as a length and how it affects the predicting performance of the model.  **Note:** Words will be truncated if the sentence exceeds these number of words.  \n",
    "> The `truncating` parameter of the `pad_sequences` function should also be considered as a hyper-parameter and whether or not a `pre` or `post` truncating value makes the model stronger."
   ]
  },
  {
   "cell_type": "code",
   "execution_count": 35,
   "metadata": {},
   "outputs": [
    {
     "data": {
      "text/plain": [
       "(514264, 1022)"
      ]
     },
     "execution_count": 35,
     "metadata": {},
     "output_type": "execute_result"
    }
   ],
   "source": [
    "test_sequences = tokenizer.texts_to_sequences(X_test.reshape(X_test.shape[0],).tolist())\n",
    "test_padded_sequences = pad_sequences(test_sequences, maxlen=maxlen, padding='post')\n",
    "test_padded_sequences.shape"
   ]
  },
  {
   "cell_type": "markdown",
   "metadata": {},
   "source": [
    "Define hyper-parameters for the neural network."
   ]
  },
  {
   "cell_type": "code",
   "execution_count": 36,
   "metadata": {},
   "outputs": [],
   "source": [
    "embedding_dimensions = 16\n",
    "epochs = 10"
   ]
  },
  {
   "cell_type": "markdown",
   "metadata": {},
   "source": [
    "Build a fully-connected deep-neural network."
   ]
  },
  {
   "cell_type": "code",
   "execution_count": 37,
   "metadata": {},
   "outputs": [
    {
     "name": "stdout",
     "output_type": "stream",
     "text": [
      "Model: \"sequential\"\n",
      "_________________________________________________________________\n",
      "Layer (type)                 Output Shape              Param #   \n",
      "=================================================================\n",
      "embedding (Embedding)        (None, 1022, 16)          21164928  \n",
      "_________________________________________________________________\n",
      "global_average_pooling1d (Gl (None, 16)                0         \n",
      "_________________________________________________________________\n",
      "dense (Dense)                (None, 12)                204       \n",
      "_________________________________________________________________\n",
      "dense_1 (Dense)              (None, 3)                 39        \n",
      "=================================================================\n",
      "Total params: 21,165,171\n",
      "Trainable params: 21,165,171\n",
      "Non-trainable params: 0\n",
      "_________________________________________________________________\n"
     ]
    }
   ],
   "source": [
    "tf.keras.backend.clear_session()  \n",
    "\n",
    "model = tf.keras.Sequential([\n",
    "    tf.keras.layers.Embedding(num_words, embedding_dimensions, input_length=maxlen),\n",
    "    tf.keras.layers.GlobalAveragePooling1D(),\n",
    "    #tf.keras.layers.Flatten(),\n",
    "    tf.keras.layers.Dense(12, activation='relu'),\n",
    "    tf.keras.layers.Dense(3, activation='softmax')\n",
    "])\n",
    "model.compile(loss='sparse_categorical_crossentropy', \n",
    "              optimizer=tf.keras.optimizers.Adam(learning_rate=0.03), \n",
    "              metrics=['accuracy'])\n",
    "model.summary()"
   ]
  },
  {
   "cell_type": "markdown",
   "metadata": {},
   "source": [
    "Train the model, collecting the train and validation metrics."
   ]
  },
  {
   "cell_type": "code",
   "execution_count": 38,
   "metadata": {
    "scrolled": false
   },
   "outputs": [
    {
     "name": "stdout",
     "output_type": "stream",
     "text": [
      "Train on 1199948 samples, validate on 514264 samples\n",
      "Epoch 1/10\n",
      "1199948/1199948 [==============================] - 6704s 6ms/sample - loss: 0.5578 - accuracy: 0.7606 - val_loss: 0.5366 - val_accuracy: 0.7743\n",
      "Epoch 2/10\n",
      "1199948/1199948 [==============================] - 6027s 5ms/sample - loss: 0.5217 - accuracy: 0.7786 - val_loss: 0.5362 - val_accuracy: 0.7731\n",
      "Epoch 3/10\n",
      "1199948/1199948 [==============================] - 6042s 5ms/sample - loss: 0.5106 - accuracy: 0.7844 - val_loss: 0.5379 - val_accuracy: 0.7669\n",
      "Epoch 4/10\n",
      "1199948/1199948 [==============================] - 6098s 5ms/sample - loss: 0.5032 - accuracy: 0.7880 - val_loss: 0.5636 - val_accuracy: 0.7605\n",
      "Epoch 5/10\n",
      "1199948/1199948 [==============================] - 5959s 5ms/sample - loss: 0.4969 - accuracy: 0.7909 - val_loss: 0.5212 - val_accuracy: 0.7815\n",
      "Epoch 6/10\n",
      "1199948/1199948 [==============================] - 5893s 5ms/sample - loss: 0.4921 - accuracy: 0.7932 - val_loss: 0.5265 - val_accuracy: 0.7777\n",
      "Epoch 7/10\n",
      "1199948/1199948 [==============================] - 5904s 5ms/sample - loss: 0.4881 - accuracy: 0.7956 - val_loss: 0.5348 - val_accuracy: 0.7742\n",
      "Epoch 8/10\n",
      "1199948/1199948 [==============================] - 6220s 5ms/sample - loss: 0.4833 - accuracy: 0.7975 - val_loss: 0.5315 - val_accuracy: 0.7747\n",
      "Epoch 9/10\n",
      "1199948/1199948 [==============================] - 6316s 5ms/sample - loss: 0.4796 - accuracy: 0.7992 - val_loss: 0.5602 - val_accuracy: 0.7639\n",
      "Epoch 10/10\n",
      "1199948/1199948 [==============================] - 6500s 5ms/sample - loss: 0.4761 - accuracy: 0.8012 - val_loss: 0.5283 - val_accuracy: 0.7786\n"
     ]
    }
   ],
   "source": [
    "history = model.fit(padded_sequences, y_train, epochs=epochs, validation_data=(test_padded_sequences, y_test))"
   ]
  },
  {
   "cell_type": "markdown",
   "metadata": {},
   "source": [
    "> **Note :** This ran for 16.5 hours.\n",
    "> ### Clearly the parameters are not ideal more so as a starting point."
   ]
  },
  {
   "cell_type": "code",
   "execution_count": 62,
   "metadata": {},
   "outputs": [
    {
     "data": {
      "image/png": "[encoded data removed]",
      "text/plain": [
       "<Figure size 1000x350 with 2 Axes>"
      ]
     },
     "metadata": {},
     "output_type": "display_data"
    }
   ],
   "source": [
    "plot(history)"
   ]
  },
  {
   "cell_type": "code",
   "execution_count": null,
   "metadata": {},
   "outputs": [],
   "source": []
  },
  {
   "cell_type": "code",
   "execution_count": null,
   "metadata": {},
   "outputs": [],
   "source": []
  },
  {
   "cell_type": "code",
   "execution_count": null,
   "metadata": {},
   "outputs": [],
   "source": []
  },
  {
   "cell_type": "code",
   "execution_count": null,
   "metadata": {},
   "outputs": [],
   "source": []
  },
  {
   "cell_type": "code",
   "execution_count": null,
   "metadata": {},
   "outputs": [],
   "source": []
  },
  {
   "cell_type": "markdown",
   "metadata": {},
   "source": [
    "Inputshape=(T, )) where T is the training data padded sequences length (not rows)  \n",
    "Embedding with LSTM is TxD where T = tokenizer word index + 1 and D = number of dimensions  \n",
    "LSTM(M, return_sequences=True)  where M is hyper-parameter indicating hidden-state dimensionality  \n",
    "GlobalMaxPooling1D() because of parameter return_sequences=True  \n",
    "\n"
   ]
  },
  {
   "cell_type": "code",
   "execution_count": null,
   "metadata": {},
   "outputs": [],
   "source": []
  }
 ],
 "metadata": {
  "kernelspec": {
   "display_name": "Python 3",
   "language": "python",
   "name": "python3"
  },
  "language_info": {
   "codemirror_mode": {
    "name": "ipython",
    "version": 3
   },
   "file_extension": ".py",
   "mimetype": "text/x-python",
   "name": "python",
   "nbconvert_exporter": "python",
   "pygments_lexer": "ipython3",
   "version": "3.7.9"
  }
 },
 "nbformat": 4,
 "nbformat_minor": 4
}
